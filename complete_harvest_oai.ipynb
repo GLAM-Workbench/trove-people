{
 "cells": [
  {
   "cell_type": "markdown",
   "id": "b9e6257c-c51d-452d-968f-b67f06053657",
   "metadata": {},
   "source": [
    "# Harvesting the complete set of data from the People and Organisations zone using OAI-PMH\n",
    "\n",
    "There are two methods of harvesting the complete set of data from the People and Organisations zone – using the [OAI-PMH API](http://www.nla.gov.au/apps/peopleaustralia-oai/), or using the main Trove API in conjunction with the [SRU interface](http://www.nla.gov.au/apps/srw/search/peopleaustralia). The OAI-PMH method is *much* faster, but includes duplicate records that you'll need to filter out afterwards. This notebook demonstrates the OAI-PMH method.\n",
    "\n",
    "Using the `ListRecords` method with the OAI-PMH API will cause an error unless you provide a `set` parameter. There is a set for each organisation contributing data to the People and Organisations zone. So to harvest everything you need to loop through the list of sets, downloading the records for each. However, records are matched and merged across sets, so the same record can appear in multiple sets. This means your harvest will contain duplicate records.\n",
    "\n",
    "The list of records also includes records that have been deleted, these records are effectively empty containing only an identifier and date. They're not saved as part of the harvest, but you could adjust the code below to save them to file if you wanted to.\n",
    "\n",
    "The results of the harvest are saved to a file named with the current date – `peau-oai-data-YYYYMMDD.xml`. Each row in the dataset is a separate EAC-CPF encoded XML file."
   ]
  },
  {
   "cell_type": "code",
   "execution_count": null,
   "id": "393c46ca-f10c-4872-b2bc-ee45b17e4b03",
   "metadata": {},
   "outputs": [],
   "source": [
    "import re\n",
    "from datetime import datetime\n",
    "from pathlib import Path\n",
    "\n",
    "import requests\n",
    "from bs4 import BeautifulSoup\n",
    "from requests.adapters import HTTPAdapter\n",
    "from requests.packages.urllib3.util.retry import Retry\n",
    "from tqdm.auto import tqdm\n",
    "\n",
    "# Not using requests_cache as caching results causes problems with resumptionToken\n",
    "s = requests.Session()\n",
    "retries = Retry(total=5, backoff_factor=1, status_forcelist=[502, 503, 504])\n",
    "s.mount(\"https://\", HTTPAdapter(max_retries=retries))\n",
    "s.mount(\"http://\", HTTPAdapter(max_retries=retries))"
   ]
  },
  {
   "cell_type": "markdown",
   "id": "f00aecdb-68a7-4fc8-8210-c6df87f08582",
   "metadata": {},
   "source": [
    "## Get the list of sets\n",
    "\n",
    "First use the `ListSets` method to get a list of all the available sets."
   ]
  },
  {
   "cell_type": "code",
   "execution_count": null,
   "id": "cba28ca6-e11d-4ad1-bb3b-016a11cd094e",
   "metadata": {},
   "outputs": [],
   "source": [
    "# Get a list of sets\n",
    "response = s.get(\n",
    "    \"http://www.nla.gov.au/apps/peopleaustralia-oai/OAIHandler?verb=ListSets\"\n",
    ")\n",
    "set_soup = BeautifulSoup(response.text, features=\"xml\")"
   ]
  },
  {
   "cell_type": "markdown",
   "id": "58f499aa-f69e-4bcb-aa2e-747e47fcc26e",
   "metadata": {},
   "source": [
    "## Get the records"
   ]
  },
  {
   "cell_type": "markdown",
   "id": "84c7b7ca-e0f9-4830-8815-4a00858868c3",
   "metadata": {},
   "source": [
    "Next loop through the list of sets, using the `ListRecords` mthod with the `set` parameter to get all the records in each set.\n",
    "\n",
    "This retrieves a single EAC-CPF encoded record at a time, appending it to the `peau-data-oai-YYYYMMDD.xml` file. If the harvest is interrupted, delete the output file before restarting to avoid creating duplicates."
   ]
  },
  {
   "cell_type": "code",
   "execution_count": null,
   "id": "d0521cb8-c388-4e9f-a51f-a44055148bcc",
   "metadata": {
    "tags": [
     "nbval-skip"
    ]
   },
   "outputs": [],
   "source": [
    "# Set the output file\n",
    "output = Path(f\"peau-oai-data-{datetime.now().strftime('%Y%m%d')}.xml\")\n",
    "\n",
    "# Loop through the sets\n",
    "for source in set_soup.find_all(\"set\"):\n",
    "    source_id = source.setSpec.string\n",
    "    print(source_id)\n",
    "    # Get the records in this set\n",
    "    with tqdm() as pbar:\n",
    "        params = {\"verb\": \"ListRecords\", \"set\": source_id, \"metadataPrefix\": \"eac-cpf\"}\n",
    "        # OAI-PMH uses resumption token to paginate through the coomplete results set\n",
    "        # We'll continue harvesting until there's no resumption token\n",
    "        while params:\n",
    "            response = s.get(\n",
    "                \"http://www.nla.gov.au/apps/peopleaustralia-oai/OAIHandler\",\n",
    "                params=params,\n",
    "            )\n",
    "            soup = BeautifulSoup(response.text, features=\"xml\")\n",
    "            with output.open(\"a\") as xml_file:\n",
    "                for record in soup.find_all(\"record\"):\n",
    "                    # Extract the EAC-CPF record\n",
    "                    # First check there is an eac-cpf record inside\n",
    "                    # If there's not, it's probably a deleted record\n",
    "                    if not record.find(\"eac-cpf\"):\n",
    "                        # You could change this to display or save deleted records\n",
    "                        # print(record)\n",
    "                        break\n",
    "                    eac_cpf = str(record.find(\"eac-cpf\"))\n",
    "                    # Strip out any line breaks within the record\n",
    "                    eac_cpf = eac_cpf.replace(\"\\n\", \"\")\n",
    "                    eac_cpf = re.sub(r\"\\s+\", \" \", eac_cpf)\n",
    "                    # Write record as a new line\n",
    "                    xml_file.write(eac_cpf + \"\\n\")\n",
    "                    pbar.update(1)\n",
    "            # Get the resumption token and add to request params\n",
    "            if soup.find(\"resumptionToken\") and soup.find(\"resumptionToken\").string:\n",
    "                if not pbar.total:\n",
    "                    pbar.total = int(soup.find(\"resumptionToken\")[\"completeListSize\"])\n",
    "                params = {\n",
    "                    \"verb\": \"ListRecords\",\n",
    "                    \"resumptionToken\": soup.find(\"resumptionToken\").string,\n",
    "                }\n",
    "            else:\n",
    "                params = None"
   ]
  },
  {
   "cell_type": "markdown",
   "id": "a5ff8085-71f9-4c67-a7c5-a2dd1e738c0d",
   "metadata": {},
   "source": [
    "----\n",
    "\n",
    "Created by [Tim Sherratt](http://timsherratt.org/) for the [GLAM Workbench](https://glam-workbench.net/).\n",
    "\n",
    "The development of this notebook was supported by the [Australian Cultural Data Engine](https://www.acd-engine.org/)."
   ]
  }
 ],
 "metadata": {
  "kernelspec": {
   "display_name": "Python 3 (ipykernel)",
   "language": "python",
   "name": "python3"
  },
  "language_info": {
   "codemirror_mode": {
    "name": "ipython",
    "version": 3
   },
   "file_extension": ".py",
   "mimetype": "text/x-python",
   "name": "python",
   "nbconvert_exporter": "python",
   "pygments_lexer": "ipython3",
   "version": "3.8.12"
  },
  "widgets": {
   "application/vnd.jupyter.widget-state+json": {
    "state": {
     "000ff19f69724b09ad9f099f5e9c03c0": {
      "model_module": "@jupyter-widgets/controls",
      "model_module_version": "1.5.0",
      "model_name": "DescriptionStyleModel",
      "state": {
       "description_width": ""
      }
     },
     "004a72a4596e4e8c918054a7c6af694c": {
      "model_module": "@jupyter-widgets/controls",
      "model_module_version": "1.5.0",
      "model_name": "DescriptionStyleModel",
      "state": {
       "description_width": ""
      }
     },
     "00eb38bdae12497bb9df1591c81d9309": {
      "model_module": "@jupyter-widgets/controls",
      "model_module_version": "1.5.0",
      "model_name": "HBoxModel",
      "state": {
       "children": [
        "IPY_MODEL_c04c70f8bd1c4a9abffc395bf61f36dc",
        "IPY_MODEL_589a3fba0ccb46d2814cae5dc8653e7e",
        "IPY_MODEL_285ac4c1682e4a2b8aaf170ae169331f"
       ],
       "layout": "IPY_MODEL_6e4afb7f37b841aba05a8714ea0eed5a"
      }
     },
     "0102d5b3a3774d03a5edbeebc8e2f174": {
      "model_module": "@jupyter-widgets/controls",
      "model_module_version": "1.5.0",
      "model_name": "HTMLModel",
      "state": {
       "layout": "IPY_MODEL_aa04b35d96aa46719526d6ed5ceb134b",
       "style": "IPY_MODEL_c5dbc09510e64b49a30a9329cd7a8d51",
       "value": " 602/602 [00:15&lt;00:00, 33.53it/s]"
      }
     },
     "01072564e80048f5adff54e82d49c1cc": {
      "model_module": "@jupyter-widgets/controls",
      "model_module_version": "1.5.0",
      "model_name": "FloatProgressModel",
      "state": {
       "bar_style": "success",
       "layout": "IPY_MODEL_0f01901437d34ee78026c3415f08e576",
       "max": 1,
       "style": "IPY_MODEL_e37452fcfc7740db9e4af4c53e177a77",
       "value": 1
      }
     },
     "020426f8918b4b1d94f14931b52a4d8d": {
      "model_module": "@jupyter-widgets/controls",
      "model_module_version": "1.5.0",
      "model_name": "DescriptionStyleModel",
      "state": {
       "description_width": ""
      }
     },
     "021498134aaf4f65bdb1bd8d2d7c9bde": {
      "model_module": "@jupyter-widgets/controls",
      "model_module_version": "1.5.0",
      "model_name": "HTMLModel",
      "state": {
       "layout": "IPY_MODEL_f0fcaf165e0b4085ae7fbecf1091cc11",
       "style": "IPY_MODEL_c77f717ff1754c369228f675e7565aa6",
       "value": "100%"
      }
     },
     "028647bae1e1429ea09567eaa175cce3": {
      "model_module": "@jupyter-widgets/controls",
      "model_module_version": "1.5.0",
      "model_name": "HTMLModel",
      "state": {
       "layout": "IPY_MODEL_ad49e4704620413f97fec8d2fcaf7597",
       "style": "IPY_MODEL_1b100fc31bb54f419aef348491d0a082",
       "value": " 520/173466 [00:23&lt;1:27:34, 32.92it/s]"
      }
     },
     "03471068e3d44b6fbeb15ef9a5aff12e": {
      "model_module": "@jupyter-widgets/base",
      "model_module_version": "1.2.0",
      "model_name": "LayoutModel",
      "state": {
       "width": "20px"
      }
     },
     "0441390538ea4bf49be057b307073718": {
      "model_module": "@jupyter-widgets/controls",
      "model_module_version": "1.5.0",
      "model_name": "ProgressStyleModel",
      "state": {
       "description_width": ""
      }
     },
     "0524c8ff163247b99b7a9864dd46fb9d": {
      "model_module": "@jupyter-widgets/controls",
      "model_module_version": "1.5.0",
      "model_name": "ProgressStyleModel",
      "state": {
       "description_width": ""
      }
     },
     "0532a2ce7bd44872b3c78311dd8e6464": {
      "model_module": "@jupyter-widgets/base",
      "model_module_version": "1.2.0",
      "model_name": "LayoutModel",
      "state": {}
     },
     "058d6e0ba3aa4439afefa90bd55f077e": {
      "model_module": "@jupyter-widgets/base",
      "model_module_version": "1.2.0",
      "model_name": "LayoutModel",
      "state": {}
     },
     "05bdc3fcc3f445d89ad5f50942f41caa": {
      "model_module": "@jupyter-widgets/controls",
      "model_module_version": "1.5.0",
      "model_name": "HBoxModel",
      "state": {
       "children": [
        "IPY_MODEL_b5b95f864538456c850725a6c22b6776",
        "IPY_MODEL_34cefcfe061145379f6ffb7ef804ecac",
        "IPY_MODEL_3eddd94222b042758c5dc71a0b94c14f"
       ],
       "layout": "IPY_MODEL_58d2c0266afa40f1b687fa407e35aef8"
      }
     },
     "05c8c936b18b4d2aa62457b93757c71b": {
      "model_module": "@jupyter-widgets/controls",
      "model_module_version": "1.5.0",
      "model_name": "DescriptionStyleModel",
      "state": {
       "description_width": ""
      }
     },
     "05e8644f036f4950b7e4bbced0734134": {
      "model_module": "@jupyter-widgets/base",
      "model_module_version": "1.2.0",
      "model_name": "LayoutModel",
      "state": {
       "width": "20px"
      }
     },
     "06265a087d2a42f0b05ea42f7b46d239": {
      "model_module": "@jupyter-widgets/base",
      "model_module_version": "1.2.0",
      "model_name": "LayoutModel",
      "state": {
       "width": "20px"
      }
     },
     "06999e7def4d40a082fcd46419b85db3": {
      "model_module": "@jupyter-widgets/base",
      "model_module_version": "1.2.0",
      "model_name": "LayoutModel",
      "state": {}
     },
     "06c912ffc6c042b3aad52792391d2642": {
      "model_module": "@jupyter-widgets/controls",
      "model_module_version": "1.5.0",
      "model_name": "HTMLModel",
      "state": {
       "layout": "IPY_MODEL_f897e13f49334ca7a3cbf8bf78035477",
       "style": "IPY_MODEL_60d3b506143e401e9ff74880ac3fd365",
       "value": "100%"
      }
     },
     "072322e99e0645acab726f2461828c50": {
      "model_module": "@jupyter-widgets/base",
      "model_module_version": "1.2.0",
      "model_name": "LayoutModel",
      "state": {}
     },
     "077e2b9ac2c6400baed5ac526d440d4c": {
      "model_module": "@jupyter-widgets/controls",
      "model_module_version": "1.5.0",
      "model_name": "HTMLModel",
      "state": {
       "layout": "IPY_MODEL_c2497094f7de445db8b476db1cc18619",
       "style": "IPY_MODEL_4b721b5c0fda4e5a9ec1dae9aac99a71"
      }
     },
     "0780a1732914404e87a773fb44b3a2da": {
      "model_module": "@jupyter-widgets/base",
      "model_module_version": "1.2.0",
      "model_name": "LayoutModel",
      "state": {}
     },
     "07d467de3dd642a48aa8ebb31c6d41ed": {
      "model_module": "@jupyter-widgets/controls",
      "model_module_version": "1.5.0",
      "model_name": "DescriptionStyleModel",
      "state": {
       "description_width": ""
      }
     },
     "07e528b18b3240daa34ccb88754c9d73": {
      "model_module": "@jupyter-widgets/base",
      "model_module_version": "1.2.0",
      "model_name": "LayoutModel",
      "state": {
       "width": "20px"
      }
     },
     "08058994a6874697b01d1c29f2724f8f": {
      "model_module": "@jupyter-widgets/controls",
      "model_module_version": "1.5.0",
      "model_name": "ProgressStyleModel",
      "state": {
       "description_width": ""
      }
     },
     "0829e99637b74fe89ca3d4c3390b84f6": {
      "model_module": "@jupyter-widgets/base",
      "model_module_version": "1.2.0",
      "model_name": "LayoutModel",
      "state": {
       "width": "20px"
      }
     },
     "0875c33902fe470e86a1365814447d64": {
      "model_module": "@jupyter-widgets/base",
      "model_module_version": "1.2.0",
      "model_name": "LayoutModel",
      "state": {}
     },
     "087c94bf1d674944b855acacc50c105a": {
      "model_module": "@jupyter-widgets/controls",
      "model_module_version": "1.5.0",
      "model_name": "ProgressStyleModel",
      "state": {
       "description_width": ""
      }
     },
     "0912eb3538f14fd4ab80770cf13e599f": {
      "model_module": "@jupyter-widgets/base",
      "model_module_version": "1.2.0",
      "model_name": "LayoutModel",
      "state": {}
     },
     "0929b5d281a943e6902c5a3df2e5e60f": {
      "model_module": "@jupyter-widgets/controls",
      "model_module_version": "1.5.0",
      "model_name": "DescriptionStyleModel",
      "state": {
       "description_width": ""
      }
     },
     "092ac1d7df85460c9c0b108c93855812": {
      "model_module": "@jupyter-widgets/controls",
      "model_module_version": "1.5.0",
      "model_name": "DescriptionStyleModel",
      "state": {
       "description_width": ""
      }
     },
     "09709dbb5150417f8e6a89ca8918e02d": {
      "model_module": "@jupyter-widgets/controls",
      "model_module_version": "1.5.0",
      "model_name": "DescriptionStyleModel",
      "state": {
       "description_width": ""
      }
     },
     "09b11b2961f74d589c77bdc65b332113": {
      "model_module": "@jupyter-widgets/base",
      "model_module_version": "1.2.0",
      "model_name": "LayoutModel",
      "state": {}
     },
     "0ab955fae3c841c3988b2e5f0a22bbdc": {
      "model_module": "@jupyter-widgets/controls",
      "model_module_version": "1.5.0",
      "model_name": "DescriptionStyleModel",
      "state": {
       "description_width": ""
      }
     },
     "0ac335ca59ae46a198599511b4007ed6": {
      "model_module": "@jupyter-widgets/controls",
      "model_module_version": "1.5.0",
      "model_name": "DescriptionStyleModel",
      "state": {
       "description_width": ""
      }
     },
     "0c24bbb0c146488388ece556bf965fbb": {
      "model_module": "@jupyter-widgets/controls",
      "model_module_version": "1.5.0",
      "model_name": "HTMLModel",
      "state": {
       "layout": "IPY_MODEL_da55a1f27a82406b9f861d6069f20bdf",
       "style": "IPY_MODEL_e762aee88350464b927223bb0c18b174",
       "value": "100%"
      }
     },
     "0c5c232b24f742229a2f72a5d7f5ab53": {
      "model_module": "@jupyter-widgets/controls",
      "model_module_version": "1.5.0",
      "model_name": "DescriptionStyleModel",
      "state": {
       "description_width": ""
      }
     },
     "0d13e3d061a346d8b7ccee01388fe13c": {
      "model_module": "@jupyter-widgets/controls",
      "model_module_version": "1.5.0",
      "model_name": "HBoxModel",
      "state": {
       "children": [
        "IPY_MODEL_712c59f839f440e9a3d3be9ed208a892",
        "IPY_MODEL_9d81718dd1aa4481b6c97b9b5131abdc",
        "IPY_MODEL_bac099eed35f4670b0baba686a33a705"
       ],
       "layout": "IPY_MODEL_ecfe044734aa443981fe6b3aacb7100e"
      }
     },
     "0d35e44cadee4a76989572cfbfcef980": {
      "model_module": "@jupyter-widgets/controls",
      "model_module_version": "1.5.0",
      "model_name": "ProgressStyleModel",
      "state": {
       "description_width": ""
      }
     },
     "0d3a7a4e97404443bb15904cf9fe0765": {
      "model_module": "@jupyter-widgets/base",
      "model_module_version": "1.2.0",
      "model_name": "LayoutModel",
      "state": {}
     },
     "0d3afc6f71e44224b54f6f1fad20230d": {
      "model_module": "@jupyter-widgets/controls",
      "model_module_version": "1.5.0",
      "model_name": "DescriptionStyleModel",
      "state": {
       "description_width": ""
      }
     },
     "0d42ff53fdaf4df2a8d9eefb0d1e2066": {
      "model_module": "@jupyter-widgets/base",
      "model_module_version": "1.2.0",
      "model_name": "LayoutModel",
      "state": {}
     },
     "0d4324ab42144230b0809e87ff6e68e7": {
      "model_module": "@jupyter-widgets/controls",
      "model_module_version": "1.5.0",
      "model_name": "HTMLModel",
      "state": {
       "layout": "IPY_MODEL_2f71bc54e98443328d1c93128e29b8d7",
       "style": "IPY_MODEL_bf5de3082b5f4279a5a2591918249445"
      }
     },
     "0d7f5da62a8a4d90afd6e1f716ccabd7": {
      "model_module": "@jupyter-widgets/controls",
      "model_module_version": "1.5.0",
      "model_name": "ProgressStyleModel",
      "state": {
       "description_width": ""
      }
     },
     "0e9bce3460f14a3fab0bf497241ee90a": {
      "model_module": "@jupyter-widgets/base",
      "model_module_version": "1.2.0",
      "model_name": "LayoutModel",
      "state": {}
     },
     "0ef25b3929f74335b3a72c3ebfb7900d": {
      "model_module": "@jupyter-widgets/controls",
      "model_module_version": "1.5.0",
      "model_name": "DescriptionStyleModel",
      "state": {
       "description_width": ""
      }
     },
     "0f01901437d34ee78026c3415f08e576": {
      "model_module": "@jupyter-widgets/base",
      "model_module_version": "1.2.0",
      "model_name": "LayoutModel",
      "state": {
       "width": "20px"
      }
     },
     "0f3765200152410094c7b4aa191af31a": {
      "model_module": "@jupyter-widgets/controls",
      "model_module_version": "1.5.0",
      "model_name": "FloatProgressModel",
      "state": {
       "bar_style": "success",
       "layout": "IPY_MODEL_7321e45b3b3441f8912411ee18d020e4",
       "max": 1,
       "style": "IPY_MODEL_2a8695291bbc475a9e84e75881239be5",
       "value": 1
      }
     },
     "0fcc702fbd8e4c72aefa0f640e496cc3": {
      "model_module": "@jupyter-widgets/base",
      "model_module_version": "1.2.0",
      "model_name": "LayoutModel",
      "state": {}
     },
     "10108095a7384ba780cbf3e2bc4ed106": {
      "model_module": "@jupyter-widgets/controls",
      "model_module_version": "1.5.0",
      "model_name": "HTMLModel",
      "state": {
       "layout": "IPY_MODEL_cce66ccd15434e91b1b3f7417f6093bb",
       "style": "IPY_MODEL_e035cd2d62214cba8c850b9312028d49",
       "value": " 173386/173386 [52:23&lt;00:00, 49.41it/s]"
      }
     },
     "10a211afba6245a9a51c1606a67ce804": {
      "model_module": "@jupyter-widgets/controls",
      "model_module_version": "1.5.0",
      "model_name": "HBoxModel",
      "state": {
       "children": [
        "IPY_MODEL_6ebc3aad473d499ea26c265886446d82",
        "IPY_MODEL_5d179905ac934021a5f5542b37fa1a99",
        "IPY_MODEL_7d1db39593a143b28f3fedad4ac38529"
       ],
       "layout": "IPY_MODEL_e27d236405d54e55a6f46550d2de50a9"
      }
     },
     "1114d6c39f1f4fe681758329aff33950": {
      "model_module": "@jupyter-widgets/controls",
      "model_module_version": "1.5.0",
      "model_name": "HBoxModel",
      "state": {
       "children": [
        "IPY_MODEL_021498134aaf4f65bdb1bd8d2d7c9bde",
        "IPY_MODEL_e818451e0c2b41aeb926471963bfc0fd",
        "IPY_MODEL_c9fdfa896c1945efbcb23a91230e2727"
       ],
       "layout": "IPY_MODEL_2fc08eecdaf14365896305c81fba7b49"
      }
     },
     "12a7c2c7f39e4c0e8d171a8187a1d409": {
      "model_module": "@jupyter-widgets/controls",
      "model_module_version": "1.5.0",
      "model_name": "DescriptionStyleModel",
      "state": {
       "description_width": ""
      }
     },
     "12e1ea5f48f54d1ca8f85bc0af930cc9": {
      "model_module": "@jupyter-widgets/controls",
      "model_module_version": "1.5.0",
      "model_name": "HTMLModel",
      "state": {
       "layout": "IPY_MODEL_e08ed0a637f249a0a1d0e12d3214f9a3",
       "style": "IPY_MODEL_a7f366f8685b4d8ba48dd53238fa927f",
       "value": " 457/457 [00:16&lt;00:00, 62.10it/s]"
      }
     },
     "140b04b7b4be4f24858193480e742fad": {
      "model_module": "@jupyter-widgets/controls",
      "model_module_version": "1.5.0",
      "model_name": "ProgressStyleModel",
      "state": {
       "description_width": ""
      }
     },
     "141423d9b4914b4d817b2313f8cdbe91": {
      "model_module": "@jupyter-widgets/controls",
      "model_module_version": "1.5.0",
      "model_name": "HBoxModel",
      "state": {
       "children": [
        "IPY_MODEL_19f43a31ef614a079f0f05c2e66067bd",
        "IPY_MODEL_7a0825a249bb4b4aa5e443712f95ce36",
        "IPY_MODEL_95ad35e1d07e421aaaa9a505f2135632"
       ],
       "layout": "IPY_MODEL_b040ff0504bc4970b1f2fbec2013dfbc"
      }
     },
     "1423c1de975047d29e0846a9d93b5105": {
      "model_module": "@jupyter-widgets/base",
      "model_module_version": "1.2.0",
      "model_name": "LayoutModel",
      "state": {}
     },
     "145a3374b1e9420ebe3577de6fc80789": {
      "model_module": "@jupyter-widgets/controls",
      "model_module_version": "1.5.0",
      "model_name": "ProgressStyleModel",
      "state": {
       "description_width": ""
      }
     },
     "14884089fceb4f8c80bd54294afbec54": {
      "model_module": "@jupyter-widgets/base",
      "model_module_version": "1.2.0",
      "model_name": "LayoutModel",
      "state": {}
     },
     "14a43406ee0d4c039a10e608eb57cede": {
      "model_module": "@jupyter-widgets/base",
      "model_module_version": "1.2.0",
      "model_name": "LayoutModel",
      "state": {}
     },
     "154a051889294932ad7e025b3e512077": {
      "model_module": "@jupyter-widgets/controls",
      "model_module_version": "1.5.0",
      "model_name": "HTMLModel",
      "state": {
       "layout": "IPY_MODEL_adbca9227cb2474f939d9e0b00df25d1",
       "style": "IPY_MODEL_31e9821861ca4305b545235f504c521b"
      }
     },
     "15ef07a8db7e4f48b2339621b884daee": {
      "model_module": "@jupyter-widgets/controls",
      "model_module_version": "1.5.0",
      "model_name": "HBoxModel",
      "state": {
       "children": [
        "IPY_MODEL_de8fc594aa4c4b13b78e72785db3c787",
        "IPY_MODEL_d2f52cca9d9d4ddbaccb1c1cabeee8ca",
        "IPY_MODEL_eddf711c877041d5a2701c10a2a4993e"
       ],
       "layout": "IPY_MODEL_729ceb583ffd4b89a0b5b8a44faed038"
      }
     },
     "1614cbeb6ddd4a9ea02073382b3eecf2": {
      "model_module": "@jupyter-widgets/controls",
      "model_module_version": "1.5.0",
      "model_name": "DescriptionStyleModel",
      "state": {
       "description_width": ""
      }
     },
     "1824e135350c4784ae97428edf63dddd": {
      "model_module": "@jupyter-widgets/controls",
      "model_module_version": "1.5.0",
      "model_name": "HTMLModel",
      "state": {
       "layout": "IPY_MODEL_8d5559b3656f480cb123a2752d134b75",
       "style": "IPY_MODEL_2a003f8eef5e41c0a2c55b208b903821",
       "value": " 9/? [00:03&lt;00:00,  3.14s/it]"
      }
     },
     "1866be185c394ebe9f3fc41430b51232": {
      "model_module": "@jupyter-widgets/controls",
      "model_module_version": "1.5.0",
      "model_name": "ProgressStyleModel",
      "state": {
       "description_width": ""
      }
     },
     "18ac1a64dd074d1f9fb159ccef22070a": {
      "model_module": "@jupyter-widgets/controls",
      "model_module_version": "1.5.0",
      "model_name": "FloatProgressModel",
      "state": {
       "bar_style": "success",
       "layout": "IPY_MODEL_85ce468dfc9441d3b803e044c2816afb",
       "max": 1,
       "style": "IPY_MODEL_d6ad1069fd2e4ae2b5e240fb374469fe",
       "value": 1
      }
     },
     "1923d42eb6d84dc282adaafec243ddaa": {
      "model_module": "@jupyter-widgets/base",
      "model_module_version": "1.2.0",
      "model_name": "LayoutModel",
      "state": {
       "width": "20px"
      }
     },
     "19a2a88fb5e741a38e6c0e572ed473c5": {
      "model_module": "@jupyter-widgets/base",
      "model_module_version": "1.2.0",
      "model_name": "LayoutModel",
      "state": {}
     },
     "19c6ec545b674e3e944c9905632ee3b7": {
      "model_module": "@jupyter-widgets/controls",
      "model_module_version": "1.5.0",
      "model_name": "HTMLModel",
      "state": {
       "layout": "IPY_MODEL_1ec21b27c288464e86c33e062cecc91e",
       "style": "IPY_MODEL_76b3623c46d54a1489fcd29eb78b34a7",
       "value": " 1722/1722 [00:28&lt;00:00, 63.83it/s]"
      }
     },
     "19f43a31ef614a079f0f05c2e66067bd": {
      "model_module": "@jupyter-widgets/controls",
      "model_module_version": "1.5.0",
      "model_name": "HTMLModel",
      "state": {
       "layout": "IPY_MODEL_d848f393ebe54372a3e334b95a94cc3a",
       "style": "IPY_MODEL_ea6d56fc7bf34ffb9d7419b776eb349d"
      }
     },
     "1a8b6fe4148f428e91d1976dbefbf2a1": {
      "model_module": "@jupyter-widgets/controls",
      "model_module_version": "1.5.0",
      "model_name": "DescriptionStyleModel",
      "state": {
       "description_width": ""
      }
     },
     "1b100fc31bb54f419aef348491d0a082": {
      "model_module": "@jupyter-widgets/controls",
      "model_module_version": "1.5.0",
      "model_name": "DescriptionStyleModel",
      "state": {
       "description_width": ""
      }
     },
     "1bba0926e8744bf8a9ba100861c06ebc": {
      "model_module": "@jupyter-widgets/controls",
      "model_module_version": "1.5.0",
      "model_name": "DescriptionStyleModel",
      "state": {
       "description_width": ""
      }
     },
     "1bfe39a63e5f424cab1cbe0e2b33a74c": {
      "model_module": "@jupyter-widgets/controls",
      "model_module_version": "1.5.0",
      "model_name": "HBoxModel",
      "state": {
       "children": [
        "IPY_MODEL_51a0e667727b43c088907cdce1d4a05c",
        "IPY_MODEL_b556b5eed8844039b1d50023e94aa278",
        "IPY_MODEL_ab2173478f8e4779a1b344d609fefd35"
       ],
       "layout": "IPY_MODEL_4135073262bc4569825ce108f5e723a2"
      }
     },
     "1c38974612bf4ab08a339b039c9cad41": {
      "model_module": "@jupyter-widgets/base",
      "model_module_version": "1.2.0",
      "model_name": "LayoutModel",
      "state": {}
     },
     "1c4e70a3d57045a1a32a68c7328e2cee": {
      "model_module": "@jupyter-widgets/controls",
      "model_module_version": "1.5.0",
      "model_name": "ProgressStyleModel",
      "state": {
       "description_width": ""
      }
     },
     "1d52fcc36262401c9f8babff395a7016": {
      "model_module": "@jupyter-widgets/controls",
      "model_module_version": "1.5.0",
      "model_name": "HTMLModel",
      "state": {
       "layout": "IPY_MODEL_7875d0258e124e1b80ce0cfe1e94bc89",
       "style": "IPY_MODEL_44dd600bee7242df99abe6a1cbf216bc"
      }
     },
     "1dbff8aa2bfc4a9eb72f5f060dcb8d42": {
      "model_module": "@jupyter-widgets/base",
      "model_module_version": "1.2.0",
      "model_name": "LayoutModel",
      "state": {}
     },
     "1e00a14c9d7840bc81ea931c196b3611": {
      "model_module": "@jupyter-widgets/controls",
      "model_module_version": "1.5.0",
      "model_name": "DescriptionStyleModel",
      "state": {
       "description_width": ""
      }
     },
     "1e16dea6f7f84669827771b499a73be4": {
      "model_module": "@jupyter-widgets/controls",
      "model_module_version": "1.5.0",
      "model_name": "DescriptionStyleModel",
      "state": {
       "description_width": ""
      }
     },
     "1e63448b7b8a45d2a56a5fdf7392117e": {
      "model_module": "@jupyter-widgets/base",
      "model_module_version": "1.2.0",
      "model_name": "LayoutModel",
      "state": {}
     },
     "1e94230f736d4ec2b0d6a261bc051075": {
      "model_module": "@jupyter-widgets/base",
      "model_module_version": "1.2.0",
      "model_name": "LayoutModel",
      "state": {}
     },
     "1ec21b27c288464e86c33e062cecc91e": {
      "model_module": "@jupyter-widgets/base",
      "model_module_version": "1.2.0",
      "model_name": "LayoutModel",
      "state": {}
     },
     "1f5c749289624685bc61057fad55d811": {
      "model_module": "@jupyter-widgets/base",
      "model_module_version": "1.2.0",
      "model_name": "LayoutModel",
      "state": {
       "width": "20px"
      }
     },
     "1f8aec89d42c4e2e977fa39e90580ae1": {
      "model_module": "@jupyter-widgets/controls",
      "model_module_version": "1.5.0",
      "model_name": "DescriptionStyleModel",
      "state": {
       "description_width": ""
      }
     },
     "202bb69fdf734d41afd5af497a13ab03": {
      "model_module": "@jupyter-widgets/base",
      "model_module_version": "1.2.0",
      "model_name": "LayoutModel",
      "state": {}
     },
     "206c07588b344452874164a252b39a8b": {
      "model_module": "@jupyter-widgets/base",
      "model_module_version": "1.2.0",
      "model_name": "LayoutModel",
      "state": {}
     },
     "21b2fd9514264ebfa932da5abc974b25": {
      "model_module": "@jupyter-widgets/base",
      "model_module_version": "1.2.0",
      "model_name": "LayoutModel",
      "state": {}
     },
     "224f82fcf63d41669051eeee706faf5b": {
      "model_module": "@jupyter-widgets/controls",
      "model_module_version": "1.5.0",
      "model_name": "DescriptionStyleModel",
      "state": {
       "description_width": ""
      }
     },
     "22c27aee5fa3488abcdcb60708e8a3f0": {
      "model_module": "@jupyter-widgets/controls",
      "model_module_version": "1.5.0",
      "model_name": "DescriptionStyleModel",
      "state": {
       "description_width": ""
      }
     },
     "22c305f324404a03a026e92495bf7f2b": {
      "model_module": "@jupyter-widgets/base",
      "model_module_version": "1.2.0",
      "model_name": "LayoutModel",
      "state": {}
     },
     "22d4ec31bd3544148541c81540377a4f": {
      "model_module": "@jupyter-widgets/base",
      "model_module_version": "1.2.0",
      "model_name": "LayoutModel",
      "state": {}
     },
     "22edfca3025c4a348334a9d3d5730aaf": {
      "model_module": "@jupyter-widgets/controls",
      "model_module_version": "1.5.0",
      "model_name": "HTMLModel",
      "state": {
       "layout": "IPY_MODEL_d365ceaf61f44d28a54023126c9d4716",
       "style": "IPY_MODEL_c44f10dbb2764129951e28892825f32a",
       "value": "100%"
      }
     },
     "2332f4858843414fb8c9584ee34d0544": {
      "model_module": "@jupyter-widgets/controls",
      "model_module_version": "1.5.0",
      "model_name": "DescriptionStyleModel",
      "state": {
       "description_width": ""
      }
     },
     "2361141869854bc6b6e67fc699595c06": {
      "model_module": "@jupyter-widgets/controls",
      "model_module_version": "1.5.0",
      "model_name": "HBoxModel",
      "state": {
       "children": [
        "IPY_MODEL_357b571f19fb450a8d9170e8a6e55c59",
        "IPY_MODEL_81bccc8536664cc2a84e74bc70461fb7",
        "IPY_MODEL_fd3edd18cccf44a59f01a0c987701633"
       ],
       "layout": "IPY_MODEL_1dbff8aa2bfc4a9eb72f5f060dcb8d42"
      }
     },
     "25d03672463249f79476a7680ebb62a2": {
      "model_module": "@jupyter-widgets/base",
      "model_module_version": "1.2.0",
      "model_name": "LayoutModel",
      "state": {}
     },
     "2608e208b7fe48acb2ca8a7105d6497d": {
      "model_module": "@jupyter-widgets/controls",
      "model_module_version": "1.5.0",
      "model_name": "ProgressStyleModel",
      "state": {
       "description_width": ""
      }
     },
     "28003e8c655b46fcabc6cc4d1c0ae8d5": {
      "model_module": "@jupyter-widgets/controls",
      "model_module_version": "1.5.0",
      "model_name": "HTMLModel",
      "state": {
       "layout": "IPY_MODEL_beb036c4369e4a67b27c384d7abfe478",
       "style": "IPY_MODEL_d2f7f95e24df460b9a204c0d18132184",
       "value": " 430/430 [00:11&lt;00:00, 45.56it/s]"
      }
     },
     "2845c19ee5ca4dc8ae93f435216253f9": {
      "model_module": "@jupyter-widgets/controls",
      "model_module_version": "1.5.0",
      "model_name": "ProgressStyleModel",
      "state": {
       "description_width": ""
      }
     },
     "285ac4c1682e4a2b8aaf170ae169331f": {
      "model_module": "@jupyter-widgets/controls",
      "model_module_version": "1.5.0",
      "model_name": "HTMLModel",
      "state": {
       "layout": "IPY_MODEL_620964b84fee4ebda8e2d38613b2fc76",
       "style": "IPY_MODEL_eefaaa0760884612ad9e086c3590a1a5",
       "value": " 98/? [00:04&lt;00:00, 25.87it/s]"
      }
     },
     "28e971469bf34c22bc8bbcbe7a8c22e7": {
      "model_module": "@jupyter-widgets/controls",
      "model_module_version": "1.5.0",
      "model_name": "DescriptionStyleModel",
      "state": {
       "description_width": ""
      }
     },
     "290a4358ec074eebb2f0e6a3d45cd2a5": {
      "model_module": "@jupyter-widgets/controls",
      "model_module_version": "1.5.0",
      "model_name": "HTMLModel",
      "state": {
       "layout": "IPY_MODEL_5424742e33d74e0f835c4bc2b4d56181",
       "style": "IPY_MODEL_d5d9834f8b794b69979275ebaa2b32e5",
       "value": " 343/343 [00:18&lt;00:00, 28.13it/s]"
      }
     },
     "29641b5743af4d8fadca9c95d47388fa": {
      "model_module": "@jupyter-widgets/controls",
      "model_module_version": "1.5.0",
      "model_name": "DescriptionStyleModel",
      "state": {
       "description_width": ""
      }
     },
     "29e95286c4eb427f8192a56f570c94fe": {
      "model_module": "@jupyter-widgets/controls",
      "model_module_version": "1.5.0",
      "model_name": "DescriptionStyleModel",
      "state": {
       "description_width": ""
      }
     },
     "2a003f8eef5e41c0a2c55b208b903821": {
      "model_module": "@jupyter-widgets/controls",
      "model_module_version": "1.5.0",
      "model_name": "DescriptionStyleModel",
      "state": {
       "description_width": ""
      }
     },
     "2a7fe9fb742b4b359ca19f2c71e6ef62": {
      "model_module": "@jupyter-widgets/controls",
      "model_module_version": "1.5.0",
      "model_name": "HTMLModel",
      "state": {
       "layout": "IPY_MODEL_9fe9127394a04bd6a1fda4bb6c24ddf0",
       "style": "IPY_MODEL_22c27aee5fa3488abcdcb60708e8a3f0",
       "value": " 37/? [00:05&lt;00:00, 12.96it/s]"
      }
     },
     "2a8695291bbc475a9e84e75881239be5": {
      "model_module": "@jupyter-widgets/controls",
      "model_module_version": "1.5.0",
      "model_name": "ProgressStyleModel",
      "state": {
       "description_width": ""
      }
     },
     "2aaa09ae2df34a63a00e8458bc276ab1": {
      "model_module": "@jupyter-widgets/controls",
      "model_module_version": "1.5.0",
      "model_name": "HTMLModel",
      "state": {
       "layout": "IPY_MODEL_c9ca8c60b0344a74a1cdd12db77edbd2",
       "style": "IPY_MODEL_d5c10d74eb0d4227941ade98401e88f6",
       "value": "100%"
      }
     },
     "2b47a02eae21406c856352bf756c5b52": {
      "model_module": "@jupyter-widgets/base",
      "model_module_version": "1.2.0",
      "model_name": "LayoutModel",
      "state": {
       "width": "20px"
      }
     },
     "2b5591a30aa64fb695fcf8edcc604425": {
      "model_module": "@jupyter-widgets/controls",
      "model_module_version": "1.5.0",
      "model_name": "HBoxModel",
      "state": {
       "children": [
        "IPY_MODEL_c7706e0a652e4e5facfef61b676fe661",
        "IPY_MODEL_41049093ecc2475eb21dc03511d24411",
        "IPY_MODEL_0102d5b3a3774d03a5edbeebc8e2f174"
       ],
       "layout": "IPY_MODEL_0780a1732914404e87a773fb44b3a2da"
      }
     },
     "2bdb06d30c9e425e919aa93c10b8ab60": {
      "model_module": "@jupyter-widgets/base",
      "model_module_version": "1.2.0",
      "model_name": "LayoutModel",
      "state": {}
     },
     "2bf254200ae74d549c1a3d2daa8c6766": {
      "model_module": "@jupyter-widgets/base",
      "model_module_version": "1.2.0",
      "model_name": "LayoutModel",
      "state": {}
     },
     "2c6f8cbb02cd4868b3b706912bfa79ef": {
      "model_module": "@jupyter-widgets/controls",
      "model_module_version": "1.5.0",
      "model_name": "ProgressStyleModel",
      "state": {
       "description_width": ""
      }
     },
     "2ca8b2ec955c4c52825cad0dabc4dfae": {
      "model_module": "@jupyter-widgets/base",
      "model_module_version": "1.2.0",
      "model_name": "LayoutModel",
      "state": {}
     },
     "2cc62edc08c4481f99c63b9a54cc1089": {
      "model_module": "@jupyter-widgets/controls",
      "model_module_version": "1.5.0",
      "model_name": "HTMLModel",
      "state": {
       "layout": "IPY_MODEL_3d446c5cef6b4977a195579386ea4485",
       "style": "IPY_MODEL_70f849802a454c5fb345aa86a0fdec4d",
       "value": "100%"
      }
     },
     "2ceb2dd317564dc5a9fd884b94bc4a89": {
      "model_module": "@jupyter-widgets/controls",
      "model_module_version": "1.5.0",
      "model_name": "DescriptionStyleModel",
      "state": {
       "description_width": ""
      }
     },
     "2d6c658c9ee848579e1c45d4c5dc0408": {
      "model_module": "@jupyter-widgets/base",
      "model_module_version": "1.2.0",
      "model_name": "LayoutModel",
      "state": {}
     },
     "2d7503fa8e0140d09b77b1cf3f5c7467": {
      "model_module": "@jupyter-widgets/base",
      "model_module_version": "1.2.0",
      "model_name": "LayoutModel",
      "state": {}
     },
     "2db8b2383ead4756864e91265dd4ef99": {
      "model_module": "@jupyter-widgets/base",
      "model_module_version": "1.2.0",
      "model_name": "LayoutModel",
      "state": {
       "width": "20px"
      }
     },
     "2e58ec17f301420eb26f63867f087d74": {
      "model_module": "@jupyter-widgets/controls",
      "model_module_version": "1.5.0",
      "model_name": "HBoxModel",
      "state": {
       "children": [
        "IPY_MODEL_4caa0619cd534eaf9f4370da85a6cfad",
        "IPY_MODEL_3268c9cae8c04000b3e6dab180f0732e",
        "IPY_MODEL_80885f73c2fc473e97088479c89a4fc6"
       ],
       "layout": "IPY_MODEL_2ca8b2ec955c4c52825cad0dabc4dfae"
      }
     },
     "2e8b3a7d9f334f50baaa1ceb1e90588f": {
      "model_module": "@jupyter-widgets/controls",
      "model_module_version": "1.5.0",
      "model_name": "HTMLModel",
      "state": {
       "layout": "IPY_MODEL_3f85bc5de0fa40d8b23452715b4838ab",
       "style": "IPY_MODEL_da603362403149e4a4f7aa7c8123714b",
       "value": " 8128/8128 [02:35&lt;00:00, 42.61it/s]"
      }
     },
     "2f1a7005674a4d068dbdc8810feb6a35": {
      "model_module": "@jupyter-widgets/base",
      "model_module_version": "1.2.0",
      "model_name": "LayoutModel",
      "state": {
       "width": "20px"
      }
     },
     "2f71bc54e98443328d1c93128e29b8d7": {
      "model_module": "@jupyter-widgets/base",
      "model_module_version": "1.2.0",
      "model_name": "LayoutModel",
      "state": {}
     },
     "2fc08eecdaf14365896305c81fba7b49": {
      "model_module": "@jupyter-widgets/base",
      "model_module_version": "1.2.0",
      "model_name": "LayoutModel",
      "state": {}
     },
     "2fccaa08ea904d428481cfb20bdf2886": {
      "model_module": "@jupyter-widgets/base",
      "model_module_version": "1.2.0",
      "model_name": "LayoutModel",
      "state": {}
     },
     "304d9e3531444bb09f543a5008a3c714": {
      "model_module": "@jupyter-widgets/controls",
      "model_module_version": "1.5.0",
      "model_name": "FloatProgressModel",
      "state": {
       "bar_style": "success",
       "layout": "IPY_MODEL_3aedac5783604de883ae9a7cd2e34763",
       "max": 1,
       "style": "IPY_MODEL_380c30bd710142f182fb74c09b6f0f5c",
       "value": 1
      }
     },
     "3192938706304587b5a24f025fa49c7e": {
      "model_module": "@jupyter-widgets/controls",
      "model_module_version": "1.5.0",
      "model_name": "HTMLModel",
      "state": {
       "layout": "IPY_MODEL_876c3a8ed4fe49608b16f92d84b95223",
       "style": "IPY_MODEL_28e971469bf34c22bc8bbcbe7a8c22e7",
       "value": " 49/? [00:03&lt;00:00,  3.55s/it]"
      }
     },
     "31c156009a3f4d61874208f48c968fc2": {
      "model_module": "@jupyter-widgets/controls",
      "model_module_version": "1.5.0",
      "model_name": "HBoxModel",
      "state": {
       "children": [
        "IPY_MODEL_06c912ffc6c042b3aad52792391d2642",
        "IPY_MODEL_cc8f08ae3d2d435a81a3371370afeaa7",
        "IPY_MODEL_47b27f69bd3c4e8395afe1bffcf1abb4"
       ],
       "layout": "IPY_MODEL_ba2f9049805043d6b3c4a15ffb5a84d2"
      }
     },
     "31e9821861ca4305b545235f504c521b": {
      "model_module": "@jupyter-widgets/controls",
      "model_module_version": "1.5.0",
      "model_name": "DescriptionStyleModel",
      "state": {
       "description_width": ""
      }
     },
     "322b33f32fbd41ac8b3c8d31c53ff297": {
      "model_module": "@jupyter-widgets/controls",
      "model_module_version": "1.5.0",
      "model_name": "ProgressStyleModel",
      "state": {
       "description_width": ""
      }
     },
     "325acbcc42154a47a4cb098c884607ad": {
      "model_module": "@jupyter-widgets/base",
      "model_module_version": "1.2.0",
      "model_name": "LayoutModel",
      "state": {}
     },
     "32670ac15d124d81836f9e7ea234c6f5": {
      "model_module": "@jupyter-widgets/controls",
      "model_module_version": "1.5.0",
      "model_name": "FloatProgressModel",
      "state": {
       "bar_style": "success",
       "layout": "IPY_MODEL_da823bb3013c4609824868876b60f1c4",
       "max": 1,
       "style": "IPY_MODEL_693a4fd831804f5c8dbbef05591363bf",
       "value": 1
      }
     },
     "3268c9cae8c04000b3e6dab180f0732e": {
      "model_module": "@jupyter-widgets/controls",
      "model_module_version": "1.5.0",
      "model_name": "FloatProgressModel",
      "state": {
       "bar_style": "success",
       "layout": "IPY_MODEL_b755869008924f70a5c0bad23e66409b",
       "max": 1,
       "style": "IPY_MODEL_f4927d0510114766ace0a3bb725a5ef1",
       "value": 1
      }
     },
     "326b22c8dd974281942bcbcd69984c16": {
      "model_module": "@jupyter-widgets/controls",
      "model_module_version": "1.5.0",
      "model_name": "HBoxModel",
      "state": {
       "children": [
        "IPY_MODEL_8fc9649a3fe8475893b38e00bf185e3e",
        "IPY_MODEL_32670ac15d124d81836f9e7ea234c6f5",
        "IPY_MODEL_92df989697334eb5aea74c8a1a952ce9"
       ],
       "layout": "IPY_MODEL_6decd379c5544b59a4072e6f433c247f"
      }
     },
     "32944920fbfe42bd8b67183e0a898c0c": {
      "model_module": "@jupyter-widgets/controls",
      "model_module_version": "1.5.0",
      "model_name": "ProgressStyleModel",
      "state": {
       "description_width": ""
      }
     },
     "32b13da107d74efabed3fb7e6a165396": {
      "model_module": "@jupyter-widgets/controls",
      "model_module_version": "1.5.0",
      "model_name": "DescriptionStyleModel",
      "state": {
       "description_width": ""
      }
     },
     "3413810e9ad043468ba9097689608c2d": {
      "model_module": "@jupyter-widgets/controls",
      "model_module_version": "1.5.0",
      "model_name": "HBoxModel",
      "state": {
       "children": [
        "IPY_MODEL_bbae39fd18c445b7ae091eb69e6f3380",
        "IPY_MODEL_956e13b95db54c7d84226cd8d21b7bb9",
        "IPY_MODEL_28003e8c655b46fcabc6cc4d1c0ae8d5"
       ],
       "layout": "IPY_MODEL_e597d63d8d674b8381b01e9b223158e9"
      }
     },
     "34539e156a6b48d6a348c2661f1b88d0": {
      "model_module": "@jupyter-widgets/base",
      "model_module_version": "1.2.0",
      "model_name": "LayoutModel",
      "state": {}
     },
     "34cefcfe061145379f6ffb7ef804ecac": {
      "model_module": "@jupyter-widgets/controls",
      "model_module_version": "1.5.0",
      "model_name": "FloatProgressModel",
      "state": {
       "bar_style": "success",
       "layout": "IPY_MODEL_ca673ac8b1e14ec09ac299312c13187f",
       "max": 1,
       "style": "IPY_MODEL_902184d01e2340508468c9d10b357c48",
       "value": 1
      }
     },
     "357b571f19fb450a8d9170e8a6e55c59": {
      "model_module": "@jupyter-widgets/controls",
      "model_module_version": "1.5.0",
      "model_name": "HTMLModel",
      "state": {
       "layout": "IPY_MODEL_a96ed3c4f9c34bc89c286842ab262a67",
       "style": "IPY_MODEL_ddef5f9172d64dccb629eacf407283f9"
      }
     },
     "36494c169af24a92b76e5e8b8d888092": {
      "model_module": "@jupyter-widgets/base",
      "model_module_version": "1.2.0",
      "model_name": "LayoutModel",
      "state": {}
     },
     "36af58724a7d4ec280c12fa09ee63e8f": {
      "model_module": "@jupyter-widgets/controls",
      "model_module_version": "1.5.0",
      "model_name": "FloatProgressModel",
      "state": {
       "bar_style": "success",
       "layout": "IPY_MODEL_1923d42eb6d84dc282adaafec243ddaa",
       "max": 1,
       "style": "IPY_MODEL_c8eec431c7924907ac8c2210e2080c91",
       "value": 1
      }
     },
     "36f2642a842246e7a26ef542513b4fec": {
      "model_module": "@jupyter-widgets/base",
      "model_module_version": "1.2.0",
      "model_name": "LayoutModel",
      "state": {}
     },
     "370cccacc3f0408d925502fe0def5b93": {
      "model_module": "@jupyter-widgets/base",
      "model_module_version": "1.2.0",
      "model_name": "LayoutModel",
      "state": {}
     },
     "3787139b0ffa4c5d946695aad279d833": {
      "model_module": "@jupyter-widgets/controls",
      "model_module_version": "1.5.0",
      "model_name": "ProgressStyleModel",
      "state": {
       "description_width": ""
      }
     },
     "37900a7f36304c72bb2bb33a48727f7e": {
      "model_module": "@jupyter-widgets/controls",
      "model_module_version": "1.5.0",
      "model_name": "HBoxModel",
      "state": {
       "children": [
        "IPY_MODEL_ea2e7219bb9246cba3bb12f8fa53c808",
        "IPY_MODEL_b754a6393bbe43d7b82fc6dc0fa99aa8",
        "IPY_MODEL_028647bae1e1429ea09567eaa175cce3"
       ],
       "layout": "IPY_MODEL_e849b2be3f1d465a881e6bfd27d1d4e4"
      }
     },
     "37aa86d9e22b4d9eaf2a16614290c5ff": {
      "model_module": "@jupyter-widgets/controls",
      "model_module_version": "1.5.0",
      "model_name": "HBoxModel",
      "state": {
       "children": [
        "IPY_MODEL_e6f70474c25d4c85b755d7bb9aba470a",
        "IPY_MODEL_418029795eba4ab5a6fb722ef0880371",
        "IPY_MODEL_d400fa77292a45a2a7e400045c012c52"
       ],
       "layout": "IPY_MODEL_947ecaf8d91f422eafcd4db383c5e9d9"
      }
     },
     "380c30bd710142f182fb74c09b6f0f5c": {
      "model_module": "@jupyter-widgets/controls",
      "model_module_version": "1.5.0",
      "model_name": "ProgressStyleModel",
      "state": {
       "description_width": ""
      }
     },
     "38f0a6d1b9d2406e856da96f71524b4b": {
      "model_module": "@jupyter-widgets/controls",
      "model_module_version": "1.5.0",
      "model_name": "FloatProgressModel",
      "state": {
       "bar_style": "success",
       "layout": "IPY_MODEL_6c5e2ce8ee4f4a4d9d3009fcfb972b53",
       "max": 1,
       "style": "IPY_MODEL_e85dc0fb4718404490b6b24975454cea",
       "value": 1
      }
     },
     "396939526b8d4ad1807be9bd8adc3ad1": {
      "model_module": "@jupyter-widgets/base",
      "model_module_version": "1.2.0",
      "model_name": "LayoutModel",
      "state": {
       "width": "20px"
      }
     },
     "39d95bb25d2a43c08e0ee64080b0daac": {
      "model_module": "@jupyter-widgets/controls",
      "model_module_version": "1.5.0",
      "model_name": "ProgressStyleModel",
      "state": {
       "description_width": ""
      }
     },
     "3ac6fa78d6774692b5929487b777e06c": {
      "model_module": "@jupyter-widgets/controls",
      "model_module_version": "1.5.0",
      "model_name": "DescriptionStyleModel",
      "state": {
       "description_width": ""
      }
     },
     "3aedac5783604de883ae9a7cd2e34763": {
      "model_module": "@jupyter-widgets/base",
      "model_module_version": "1.2.0",
      "model_name": "LayoutModel",
      "state": {
       "width": "20px"
      }
     },
     "3b1141582a614865a130c8da32ea5ef3": {
      "model_module": "@jupyter-widgets/controls",
      "model_module_version": "1.5.0",
      "model_name": "FloatProgressModel",
      "state": {
       "bar_style": "success",
       "layout": "IPY_MODEL_396939526b8d4ad1807be9bd8adc3ad1",
       "max": 1,
       "style": "IPY_MODEL_3e4cfa2ce9794e40b4d24b551f6bc396",
       "value": 1
      }
     },
     "3b69de01e73e45b9b20c3ee363409f42": {
      "model_module": "@jupyter-widgets/controls",
      "model_module_version": "1.5.0",
      "model_name": "HTMLModel",
      "state": {
       "layout": "IPY_MODEL_83136cd7fa45439a90f934a57fb558cd",
       "style": "IPY_MODEL_9d550bf7764045eab4bd9443c669a970"
      }
     },
     "3bd5a33f7ed1438ea0f8204e96691495": {
      "model_module": "@jupyter-widgets/controls",
      "model_module_version": "1.5.0",
      "model_name": "ProgressStyleModel",
      "state": {
       "description_width": ""
      }
     },
     "3cc3ef17a97f4ef198d67318ffb197b7": {
      "model_module": "@jupyter-widgets/controls",
      "model_module_version": "1.5.0",
      "model_name": "HBoxModel",
      "state": {
       "children": [
        "IPY_MODEL_d8dceb966c29447196f6f67e0822a7d5",
        "IPY_MODEL_4c91a7eefb584ac9bf64640a5ff56b45",
        "IPY_MODEL_ed31a1ee1dab4029b159c0f64cd6097b"
       ],
       "layout": "IPY_MODEL_c7ff14ae08954e6185084b52822d888b"
      }
     },
     "3cefef8ae50c4f7c9f5b3dea545f068c": {
      "model_module": "@jupyter-widgets/controls",
      "model_module_version": "1.5.0",
      "model_name": "DescriptionStyleModel",
      "state": {
       "description_width": ""
      }
     },
     "3d158b108c054c04ba5c0ed834daeb63": {
      "model_module": "@jupyter-widgets/controls",
      "model_module_version": "1.5.0",
      "model_name": "DescriptionStyleModel",
      "state": {
       "description_width": ""
      }
     },
     "3d3c50c0b1b645f9891374e52b4f9b7b": {
      "model_module": "@jupyter-widgets/controls",
      "model_module_version": "1.5.0",
      "model_name": "HBoxModel",
      "state": {
       "children": [
        "IPY_MODEL_72f218213ff340189769782c8fd6601c",
        "IPY_MODEL_18ac1a64dd074d1f9fb159ccef22070a",
        "IPY_MODEL_e7778d25b1d64b8fa6cf88fde1553237"
       ],
       "layout": "IPY_MODEL_59a3e4a5c2534634939ba4eae6d8f1e3"
      }
     },
     "3d446c5cef6b4977a195579386ea4485": {
      "model_module": "@jupyter-widgets/base",
      "model_module_version": "1.2.0",
      "model_name": "LayoutModel",
      "state": {}
     },
     "3da4815b2e204f0c961c05b2809cf000": {
      "model_module": "@jupyter-widgets/base",
      "model_module_version": "1.2.0",
      "model_name": "LayoutModel",
      "state": {
       "width": "20px"
      }
     },
     "3de1c7b8d1644ef8bceabdfdf63d888a": {
      "model_module": "@jupyter-widgets/controls",
      "model_module_version": "1.5.0",
      "model_name": "DescriptionStyleModel",
      "state": {
       "description_width": ""
      }
     },
     "3e4cfa2ce9794e40b4d24b551f6bc396": {
      "model_module": "@jupyter-widgets/controls",
      "model_module_version": "1.5.0",
      "model_name": "ProgressStyleModel",
      "state": {
       "description_width": ""
      }
     },
     "3eddd94222b042758c5dc71a0b94c14f": {
      "model_module": "@jupyter-widgets/controls",
      "model_module_version": "1.5.0",
      "model_name": "HTMLModel",
      "state": {
       "layout": "IPY_MODEL_cf8db93fd62942758a2ccbd4136d98f7",
       "style": "IPY_MODEL_982838a89c614b8e9480d72d57636295",
       "value": " 2/? [00:03&lt;00:00,  3.04s/it]"
      }
     },
     "3f85bc5de0fa40d8b23452715b4838ab": {
      "model_module": "@jupyter-widgets/base",
      "model_module_version": "1.2.0",
      "model_name": "LayoutModel",
      "state": {}
     },
     "3f94921822024c14b55ded694cf84361": {
      "model_module": "@jupyter-widgets/base",
      "model_module_version": "1.2.0",
      "model_name": "LayoutModel",
      "state": {}
     },
     "408e726eec7a4dbd99caa070eb15ffc0": {
      "model_module": "@jupyter-widgets/controls",
      "model_module_version": "1.5.0",
      "model_name": "HBoxModel",
      "state": {
       "children": [
        "IPY_MODEL_d5e9175802c3488daf2fd578d3bc51c3",
        "IPY_MODEL_c8223f88a41542eaa04777adad474162",
        "IPY_MODEL_c8acd38e654543dd9364efef64e05e0e"
       ],
       "layout": "IPY_MODEL_52220a60f09a458491a22aac1353bfab"
      }
     },
     "40ac7e1956004ea383831ab88c4da90c": {
      "model_module": "@jupyter-widgets/controls",
      "model_module_version": "1.5.0",
      "model_name": "HTMLModel",
      "state": {
       "layout": "IPY_MODEL_a8fbe60cfbfa4cfc87851550e75dea41",
       "style": "IPY_MODEL_62c16ef3d3c04dee982c36f88a6b39a7",
       "value": "100%"
      }
     },
     "40b5f0bdc69c4b00a296e38e189fe12f": {
      "model_module": "@jupyter-widgets/controls",
      "model_module_version": "1.5.0",
      "model_name": "DescriptionStyleModel",
      "state": {
       "description_width": ""
      }
     },
     "40f601c5dfab4299977f7716a4d89fc5": {
      "model_module": "@jupyter-widgets/base",
      "model_module_version": "1.2.0",
      "model_name": "LayoutModel",
      "state": {
       "width": "20px"
      }
     },
     "41049093ecc2475eb21dc03511d24411": {
      "model_module": "@jupyter-widgets/controls",
      "model_module_version": "1.5.0",
      "model_name": "FloatProgressModel",
      "state": {
       "bar_style": "success",
       "layout": "IPY_MODEL_640e0bc9962d4bd1a3b0239e3df4732d",
       "max": 1,
       "style": "IPY_MODEL_d60841249279474abea6d8dcee350106",
       "value": 1
      }
     },
     "411447480f3247aeb361d2e0748486cd": {
      "model_module": "@jupyter-widgets/controls",
      "model_module_version": "1.5.0",
      "model_name": "HBoxModel",
      "state": {
       "children": [
        "IPY_MODEL_cb8a183026b4439ca1603e202ca521a5",
        "IPY_MODEL_579e598f434546c6b5d06f415c91dcfe",
        "IPY_MODEL_aef88888e2d140a28c3981b68fccaf55"
       ],
       "layout": "IPY_MODEL_e3625fa3b7aa4471ada5a0460394c8cc"
      }
     },
     "4135073262bc4569825ce108f5e723a2": {
      "model_module": "@jupyter-widgets/base",
      "model_module_version": "1.2.0",
      "model_name": "LayoutModel",
      "state": {}
     },
     "418029795eba4ab5a6fb722ef0880371": {
      "model_module": "@jupyter-widgets/controls",
      "model_module_version": "1.5.0",
      "model_name": "FloatProgressModel",
      "state": {
       "bar_style": "success",
       "layout": "IPY_MODEL_42a492412737458d848b6f703d973a45",
       "max": 1,
       "style": "IPY_MODEL_7d74a2bb140a449eba5a85b0f41b8a53",
       "value": 1
      }
     },
     "4196d48edb764a10a973a6d7e78ffe18": {
      "model_module": "@jupyter-widgets/base",
      "model_module_version": "1.2.0",
      "model_name": "LayoutModel",
      "state": {}
     },
     "41b480cc50ef48d8b9f8449ec85bf63e": {
      "model_module": "@jupyter-widgets/controls",
      "model_module_version": "1.5.0",
      "model_name": "HBoxModel",
      "state": {
       "children": [
        "IPY_MODEL_e78a811a70a54d3bbf31cce33364eee4",
        "IPY_MODEL_902e6829a30743c68236886ddbc7bb74",
        "IPY_MODEL_bbe11a74b93246e89ba363ffd3a7aef1"
       ],
       "layout": "IPY_MODEL_a934e0e605ea498f82ff6dce80b6230d"
      }
     },
     "421f7a388fc44387aa1e3ea2049c0c8b": {
      "model_module": "@jupyter-widgets/controls",
      "model_module_version": "1.5.0",
      "model_name": "HBoxModel",
      "state": {
       "children": [
        "IPY_MODEL_f348b995aeab48c58a6fb0c9705c9837",
        "IPY_MODEL_38f0a6d1b9d2406e856da96f71524b4b",
        "IPY_MODEL_804d18c609564d42a91f1e1445abd5f4"
       ],
       "layout": "IPY_MODEL_09b11b2961f74d589c77bdc65b332113"
      }
     },
     "426df835a45c4c08924d68fa5bdd6caf": {
      "model_module": "@jupyter-widgets/controls",
      "model_module_version": "1.5.0",
      "model_name": "ProgressStyleModel",
      "state": {
       "description_width": ""
      }
     },
     "42a492412737458d848b6f703d973a45": {
      "model_module": "@jupyter-widgets/base",
      "model_module_version": "1.2.0",
      "model_name": "LayoutModel",
      "state": {
       "width": "20px"
      }
     },
     "42cf3a7c65ad4f9db89ddbcc31ac60a2": {
      "model_module": "@jupyter-widgets/base",
      "model_module_version": "1.2.0",
      "model_name": "LayoutModel",
      "state": {}
     },
     "42dc1b038d8643cbaf1e739f2adb8228": {
      "model_module": "@jupyter-widgets/controls",
      "model_module_version": "1.5.0",
      "model_name": "FloatProgressModel",
      "state": {
       "bar_style": "success",
       "layout": "IPY_MODEL_b302a6d8f6b1484ebd43acd5fb70d327",
       "max": 1,
       "style": "IPY_MODEL_f0af4986ba9a4d069d5bd5af3efb78d7",
       "value": 1
      }
     },
     "4359682ca3904fd7bf1ff3539c5f5eed": {
      "model_module": "@jupyter-widgets/base",
      "model_module_version": "1.2.0",
      "model_name": "LayoutModel",
      "state": {}
     },
     "446f71c015fd45709b5f6dee75fab6ab": {
      "model_module": "@jupyter-widgets/controls",
      "model_module_version": "1.5.0",
      "model_name": "HBoxModel",
      "state": {
       "children": [
        "IPY_MODEL_521091973c694982b0ad093cbeaad404",
        "IPY_MODEL_86617291a4ad41eb8cfdfb4b18b008f2",
        "IPY_MODEL_4f1374f6f0974898a64d33c7e559a72e"
       ],
       "layout": "IPY_MODEL_1e94230f736d4ec2b0d6a261bc051075"
      }
     },
     "44dd600bee7242df99abe6a1cbf216bc": {
      "model_module": "@jupyter-widgets/controls",
      "model_module_version": "1.5.0",
      "model_name": "DescriptionStyleModel",
      "state": {
       "description_width": ""
      }
     },
     "46f236510b034adeba90134438ac8530": {
      "model_module": "@jupyter-widgets/controls",
      "model_module_version": "1.5.0",
      "model_name": "HBoxModel",
      "state": {
       "children": [
        "IPY_MODEL_4f0036ffb09946b4b77970cf72b8be72",
        "IPY_MODEL_afa98c8772b3491d9351ebc4af28370d",
        "IPY_MODEL_bc635541da1e4ac7ba8db920304aab35"
       ],
       "layout": "IPY_MODEL_6fc9635acc0644969bbb8c07692418c1"
      }
     },
     "46f88717fc10492d872b2525ef06711b": {
      "model_module": "@jupyter-widgets/controls",
      "model_module_version": "1.5.0",
      "model_name": "HTMLModel",
      "state": {
       "layout": "IPY_MODEL_a1cb6c4294ce4e9cb7a70f8f8bce336b",
       "style": "IPY_MODEL_96e76308a36241df93356662b7a7ac13",
       "value": "100%"
      }
     },
     "47b27f69bd3c4e8395afe1bffcf1abb4": {
      "model_module": "@jupyter-widgets/controls",
      "model_module_version": "1.5.0",
      "model_name": "HTMLModel",
      "state": {
       "layout": "IPY_MODEL_beecd80429654fee8e1b9e657bc34bc7",
       "style": "IPY_MODEL_ad1c34350e5d47da8f2b14e69f8f2c7e",
       "value": " 8620/8620 [04:29&lt;00:00, 37.37it/s]"
      }
     },
     "47de943299894bbe8c7c9b168ca14128": {
      "model_module": "@jupyter-widgets/base",
      "model_module_version": "1.2.0",
      "model_name": "LayoutModel",
      "state": {}
     },
     "47fa641eb22c4b60b63dad47ef17fd66": {
      "model_module": "@jupyter-widgets/base",
      "model_module_version": "1.2.0",
      "model_name": "LayoutModel",
      "state": {}
     },
     "48586cbc4a074cc08c9b63418c2c3afa": {
      "model_module": "@jupyter-widgets/controls",
      "model_module_version": "1.5.0",
      "model_name": "HTMLModel",
      "state": {
       "layout": "IPY_MODEL_f39a3ed2203e4b6e992ab48941949d0f",
       "style": "IPY_MODEL_07d467de3dd642a48aa8ebb31c6d41ed"
      }
     },
     "486f9fe1542a443f9eaa26472e0131c6": {
      "model_module": "@jupyter-widgets/controls",
      "model_module_version": "1.5.0",
      "model_name": "DescriptionStyleModel",
      "state": {
       "description_width": ""
      }
     },
     "4890bce1c55f4fad945e1ad832eb83d7": {
      "model_module": "@jupyter-widgets/controls",
      "model_module_version": "1.5.0",
      "model_name": "HTMLModel",
      "state": {
       "layout": "IPY_MODEL_e5ebc2cde118488ab8e8efc7333582b2",
       "style": "IPY_MODEL_bc0719a22518417ca3effbd94f1298c5",
       "value": " 259/259 [00:14&lt;00:00, 24.09it/s]"
      }
     },
     "48d3205679994deaacfc8b411dc076b8": {
      "model_module": "@jupyter-widgets/base",
      "model_module_version": "1.2.0",
      "model_name": "LayoutModel",
      "state": {}
     },
     "4942a1e80dd84fe5b0bbf92e6314352a": {
      "model_module": "@jupyter-widgets/controls",
      "model_module_version": "1.5.0",
      "model_name": "FloatProgressModel",
      "state": {
       "bar_style": "success",
       "layout": "IPY_MODEL_757989fb3d8642638ce0cc0b21fdf2a3",
       "max": 1,
       "style": "IPY_MODEL_0d35e44cadee4a76989572cfbfcef980",
       "value": 1
      }
     },
     "498234ac4120464ab3bfb2f3583613ca": {
      "model_module": "@jupyter-widgets/controls",
      "model_module_version": "1.5.0",
      "model_name": "ProgressStyleModel",
      "state": {
       "description_width": ""
      }
     },
     "4a52eeb2b73a4b9b85ff632e55e56979": {
      "model_module": "@jupyter-widgets/controls",
      "model_module_version": "1.5.0",
      "model_name": "DescriptionStyleModel",
      "state": {
       "description_width": ""
      }
     },
     "4a6248732ea6469984d9a4d9e07d19d7": {
      "model_module": "@jupyter-widgets/base",
      "model_module_version": "1.2.0",
      "model_name": "LayoutModel",
      "state": {
       "width": "20px"
      }
     },
     "4aff8f4d13374f84b71aa5bea8f91e77": {
      "model_module": "@jupyter-widgets/controls",
      "model_module_version": "1.5.0",
      "model_name": "HBoxModel",
      "state": {
       "children": [
        "IPY_MODEL_bef6332018774917bb4b6adcb1bf8828",
        "IPY_MODEL_50350e7b86b349018ed2c7a41795d6f8",
        "IPY_MODEL_95d8ab4ef3724c55a82b4bcd3b98a914"
       ],
       "layout": "IPY_MODEL_ee6296a28f254389a200d4e4a6a8b635"
      }
     },
     "4b1e410cd5664b13b6679e7913ecb0a9": {
      "model_module": "@jupyter-widgets/controls",
      "model_module_version": "1.5.0",
      "model_name": "ProgressStyleModel",
      "state": {
       "description_width": ""
      }
     },
     "4b47d1a44ac14176a49944f4674c0119": {
      "model_module": "@jupyter-widgets/controls",
      "model_module_version": "1.5.0",
      "model_name": "FloatProgressModel",
      "state": {
       "bar_style": "success",
       "layout": "IPY_MODEL_6ff6b4522b914b0a88d4e061662fdea2",
       "max": 1,
       "style": "IPY_MODEL_f0c7834730714fac8e99359bf23034d1"
      }
     },
     "4b721b5c0fda4e5a9ec1dae9aac99a71": {
      "model_module": "@jupyter-widgets/controls",
      "model_module_version": "1.5.0",
      "model_name": "DescriptionStyleModel",
      "state": {
       "description_width": ""
      }
     },
     "4b8674aafe724f8b863caf8814d40188": {
      "model_module": "@jupyter-widgets/base",
      "model_module_version": "1.2.0",
      "model_name": "LayoutModel",
      "state": {
       "width": "20px"
      }
     },
     "4be2ac98b10945fd9e8ab0c742f100c6": {
      "model_module": "@jupyter-widgets/base",
      "model_module_version": "1.2.0",
      "model_name": "LayoutModel",
      "state": {}
     },
     "4c0b8fc111ff46ca8ab3b5af0893af83": {
      "model_module": "@jupyter-widgets/base",
      "model_module_version": "1.2.0",
      "model_name": "LayoutModel",
      "state": {}
     },
     "4c2ae29f242e45079affc818c86fd6be": {
      "model_module": "@jupyter-widgets/base",
      "model_module_version": "1.2.0",
      "model_name": "LayoutModel",
      "state": {}
     },
     "4c37953e2c5b49278c0d7a8fee66aaed": {
      "model_module": "@jupyter-widgets/base",
      "model_module_version": "1.2.0",
      "model_name": "LayoutModel",
      "state": {}
     },
     "4c91a7eefb584ac9bf64640a5ff56b45": {
      "model_module": "@jupyter-widgets/controls",
      "model_module_version": "1.5.0",
      "model_name": "FloatProgressModel",
      "state": {
       "bar_style": "success",
       "layout": "IPY_MODEL_ae1641530c9b4a838d122e03342633f1",
       "max": 1,
       "style": "IPY_MODEL_1866be185c394ebe9f3fc41430b51232",
       "value": 1
      }
     },
     "4caa0619cd534eaf9f4370da85a6cfad": {
      "model_module": "@jupyter-widgets/controls",
      "model_module_version": "1.5.0",
      "model_name": "HTMLModel",
      "state": {
       "layout": "IPY_MODEL_a9f2b47d6aa747d3a6e3df15ef97b066",
       "style": "IPY_MODEL_ebe3c3e8f11747229303c4e8cd8fb6f8",
       "value": "100%"
      }
     },
     "4d09859040124dd9b3cfe7d66b1ae625": {
      "model_module": "@jupyter-widgets/controls",
      "model_module_version": "1.5.0",
      "model_name": "DescriptionStyleModel",
      "state": {
       "description_width": ""
      }
     },
     "4d638f2064574b1092fe8274caab50c1": {
      "model_module": "@jupyter-widgets/controls",
      "model_module_version": "1.5.0",
      "model_name": "HTMLModel",
      "state": {
       "layout": "IPY_MODEL_71d4499f5335441d98125e568ab1bf7d",
       "style": "IPY_MODEL_d4bb725061f649988669d7a363fe17d5",
       "value": " 57383/57383 [12:38&lt;00:00, 51.91it/s]"
      }
     },
     "4d9964a1e34b42e2bfa68753e0478099": {
      "model_module": "@jupyter-widgets/base",
      "model_module_version": "1.2.0",
      "model_name": "LayoutModel",
      "state": {
       "width": "20px"
      }
     },
     "4dcc56b1293d457f8c2773c56e0538f5": {
      "model_module": "@jupyter-widgets/base",
      "model_module_version": "1.2.0",
      "model_name": "LayoutModel",
      "state": {
       "width": "20px"
      }
     },
     "4dd0ed6b08a045e9a0d51b483b5a4455": {
      "model_module": "@jupyter-widgets/controls",
      "model_module_version": "1.5.0",
      "model_name": "DescriptionStyleModel",
      "state": {
       "description_width": ""
      }
     },
     "4f0036ffb09946b4b77970cf72b8be72": {
      "model_module": "@jupyter-widgets/controls",
      "model_module_version": "1.5.0",
      "model_name": "HTMLModel",
      "state": {
       "layout": "IPY_MODEL_e2ea3c2d29784b16b0c27a9c0f381065",
       "style": "IPY_MODEL_a528ecd531bf4cf09d5e346171d93dfe"
      }
     },
     "4f1374f6f0974898a64d33c7e559a72e": {
      "model_module": "@jupyter-widgets/controls",
      "model_module_version": "1.5.0",
      "model_name": "HTMLModel",
      "state": {
       "layout": "IPY_MODEL_d03fdb962c834d419eca5780453f4559",
       "style": "IPY_MODEL_bc0f475e9f994919984aac5b94e56857",
       "value": " 2733/2733 [01:09&lt;00:00, 53.79it/s]"
      }
     },
     "4ff85b4e56424fa9aae346050215bb01": {
      "model_module": "@jupyter-widgets/base",
      "model_module_version": "1.2.0",
      "model_name": "LayoutModel",
      "state": {
       "width": "20px"
      }
     },
     "50350e7b86b349018ed2c7a41795d6f8": {
      "model_module": "@jupyter-widgets/controls",
      "model_module_version": "1.5.0",
      "model_name": "FloatProgressModel",
      "state": {
       "bar_style": "success",
       "layout": "IPY_MODEL_869e2044b47b47aaa6d4921b9eac5bc9",
       "max": 1,
       "style": "IPY_MODEL_6773f61ff74d4803b4f161e6e8c35f86"
      }
     },
     "50381d8b4140498a9adaa8d8c8f778f2": {
      "model_module": "@jupyter-widgets/base",
      "model_module_version": "1.2.0",
      "model_name": "LayoutModel",
      "state": {}
     },
     "50f8c79c73a3456991dd5997103cbcf5": {
      "model_module": "@jupyter-widgets/controls",
      "model_module_version": "1.5.0",
      "model_name": "DescriptionStyleModel",
      "state": {
       "description_width": ""
      }
     },
     "51a0e667727b43c088907cdce1d4a05c": {
      "model_module": "@jupyter-widgets/controls",
      "model_module_version": "1.5.0",
      "model_name": "HTMLModel",
      "state": {
       "layout": "IPY_MODEL_6dde88c283e8469aae5d3fba2f2eae98",
       "style": "IPY_MODEL_e3ab4a6b186e4ee4bb63fb931f4ccc39"
      }
     },
     "521091973c694982b0ad093cbeaad404": {
      "model_module": "@jupyter-widgets/controls",
      "model_module_version": "1.5.0",
      "model_name": "HTMLModel",
      "state": {
       "layout": "IPY_MODEL_0875c33902fe470e86a1365814447d64",
       "style": "IPY_MODEL_0ac335ca59ae46a198599511b4007ed6",
       "value": "100%"
      }
     },
     "52220a60f09a458491a22aac1353bfab": {
      "model_module": "@jupyter-widgets/base",
      "model_module_version": "1.2.0",
      "model_name": "LayoutModel",
      "state": {}
     },
     "536e66979e98463da11772045e40f9f5": {
      "model_module": "@jupyter-widgets/base",
      "model_module_version": "1.2.0",
      "model_name": "LayoutModel",
      "state": {}
     },
     "53e8b682e76a4c93be6e2e3b6b3d6c12": {
      "model_module": "@jupyter-widgets/base",
      "model_module_version": "1.2.0",
      "model_name": "LayoutModel",
      "state": {
       "width": "20px"
      }
     },
     "5424742e33d74e0f835c4bc2b4d56181": {
      "model_module": "@jupyter-widgets/base",
      "model_module_version": "1.2.0",
      "model_name": "LayoutModel",
      "state": {}
     },
     "5556cfa5628b405ab66e6b7843f81ace": {
      "model_module": "@jupyter-widgets/controls",
      "model_module_version": "1.5.0",
      "model_name": "DescriptionStyleModel",
      "state": {
       "description_width": ""
      }
     },
     "55817ab1a1f0432bbddbafa14d262d27": {
      "model_module": "@jupyter-widgets/controls",
      "model_module_version": "1.5.0",
      "model_name": "HTMLModel",
      "state": {
       "layout": "IPY_MODEL_ea40cf79a034463ab893c4b0e0c28fac",
       "style": "IPY_MODEL_3de1c7b8d1644ef8bceabdfdf63d888a",
       "value": " 117/? [00:04&lt;00:00, 22.27it/s]"
      }
     },
     "55ff9877dfb048ed9637e7904add2cfe": {
      "model_module": "@jupyter-widgets/controls",
      "model_module_version": "1.5.0",
      "model_name": "FloatProgressModel",
      "state": {
       "bar_style": "danger",
       "layout": "IPY_MODEL_5acb35fd33004b9aa77781b07b9ca16f",
       "max": 1,
       "style": "IPY_MODEL_498234ac4120464ab3bfb2f3583613ca",
       "value": 1
      }
     },
     "5695c31adca044f08c9fcd71d8fc1019": {
      "model_module": "@jupyter-widgets/controls",
      "model_module_version": "1.5.0",
      "model_name": "HBoxModel",
      "state": {
       "children": [
        "IPY_MODEL_873d3c7e188e4e93b04707f44aa9d3f4",
        "IPY_MODEL_90025dfdfd56468b92da8e753878801a",
        "IPY_MODEL_efb04628e7204c8cb80a7a03e877b27d"
       ],
       "layout": "IPY_MODEL_50381d8b4140498a9adaa8d8c8f778f2"
      }
     },
     "5784e58dad8148eab13f47e1a68d652f": {
      "model_module": "@jupyter-widgets/controls",
      "model_module_version": "1.5.0",
      "model_name": "HTMLModel",
      "state": {
       "layout": "IPY_MODEL_7776d45feae34cb9ac3ffd701167a79d",
       "style": "IPY_MODEL_1e16dea6f7f84669827771b499a73be4",
       "value": "100%"
      }
     },
     "579e598f434546c6b5d06f415c91dcfe": {
      "model_module": "@jupyter-widgets/controls",
      "model_module_version": "1.5.0",
      "model_name": "FloatProgressModel",
      "state": {
       "bar_style": "success",
       "layout": "IPY_MODEL_4dcc56b1293d457f8c2773c56e0538f5",
       "max": 1,
       "style": "IPY_MODEL_4b1e410cd5664b13b6679e7913ecb0a9",
       "value": 1
      }
     },
     "589a3fba0ccb46d2814cae5dc8653e7e": {
      "model_module": "@jupyter-widgets/controls",
      "model_module_version": "1.5.0",
      "model_name": "FloatProgressModel",
      "state": {
       "bar_style": "success",
       "layout": "IPY_MODEL_6ccb31cc53be4530b285d34e451a0d6f",
       "max": 1,
       "style": "IPY_MODEL_df39a15fa8e94faba39ba206316d1b6a",
       "value": 1
      }
     },
     "58b23e1715e846c0a81bdf0748bf3108": {
      "model_module": "@jupyter-widgets/controls",
      "model_module_version": "1.5.0",
      "model_name": "ProgressStyleModel",
      "state": {
       "description_width": ""
      }
     },
     "58d2c0266afa40f1b687fa407e35aef8": {
      "model_module": "@jupyter-widgets/base",
      "model_module_version": "1.2.0",
      "model_name": "LayoutModel",
      "state": {}
     },
     "5920bf9ba7cb47118fd44fc71eac25ac": {
      "model_module": "@jupyter-widgets/base",
      "model_module_version": "1.2.0",
      "model_name": "LayoutModel",
      "state": {
       "width": "20px"
      }
     },
     "59a3e4a5c2534634939ba4eae6d8f1e3": {
      "model_module": "@jupyter-widgets/base",
      "model_module_version": "1.2.0",
      "model_name": "LayoutModel",
      "state": {}
     },
     "59b7237e9b3b4fc1afa107470419063c": {
      "model_module": "@jupyter-widgets/controls",
      "model_module_version": "1.5.0",
      "model_name": "HTMLModel",
      "state": {
       "layout": "IPY_MODEL_dcc007735c204ad0a63270f73d2174fd",
       "style": "IPY_MODEL_a24498990296446e923a60f4c40169a0"
      }
     },
     "59ccf3d475824228af4695a542c46316": {
      "model_module": "@jupyter-widgets/controls",
      "model_module_version": "1.5.0",
      "model_name": "ProgressStyleModel",
      "state": {
       "description_width": ""
      }
     },
     "5a3edba2aa3e43b2ac361fa5b379a466": {
      "model_module": "@jupyter-widgets/controls",
      "model_module_version": "1.5.0",
      "model_name": "ProgressStyleModel",
      "state": {
       "description_width": ""
      }
     },
     "5a8c14e9898c4285a88a0adb753573be": {
      "model_module": "@jupyter-widgets/base",
      "model_module_version": "1.2.0",
      "model_name": "LayoutModel",
      "state": {}
     },
     "5acb35fd33004b9aa77781b07b9ca16f": {
      "model_module": "@jupyter-widgets/base",
      "model_module_version": "1.2.0",
      "model_name": "LayoutModel",
      "state": {
       "width": "20px"
      }
     },
     "5b17049a4e1f4014853a093fa6284492": {
      "model_module": "@jupyter-widgets/controls",
      "model_module_version": "1.5.0",
      "model_name": "HBoxModel",
      "state": {
       "children": [
        "IPY_MODEL_1d52fcc36262401c9f8babff395a7016",
        "IPY_MODEL_4b47d1a44ac14176a49944f4674c0119",
        "IPY_MODEL_91cae3f0c1634f1d94ee805845920ff9"
       ],
       "layout": "IPY_MODEL_8ceca08abbfc4d13ae212e2c2385e2da"
      }
     },
     "5bc7f0b45c3949308467360bbd4ba018": {
      "model_module": "@jupyter-widgets/base",
      "model_module_version": "1.2.0",
      "model_name": "LayoutModel",
      "state": {}
     },
     "5c1325c3004f44f99e892c1698d9d366": {
      "model_module": "@jupyter-widgets/controls",
      "model_module_version": "1.5.0",
      "model_name": "HTMLModel",
      "state": {
       "layout": "IPY_MODEL_a7b9eb5343e94b63a19f8233f8d87ec2",
       "style": "IPY_MODEL_3ac6fa78d6774692b5929487b777e06c",
       "value": " 35/? [00:04&lt;00:00,  5.97it/s]"
      }
     },
     "5c2702ddf47144d3aa58d2737e1db20c": {
      "model_module": "@jupyter-widgets/controls",
      "model_module_version": "1.5.0",
      "model_name": "HTMLModel",
      "state": {
       "layout": "IPY_MODEL_c4dcdee6ebfb4adbb547c7c4cc8401e2",
       "style": "IPY_MODEL_e0af86746c6e4c34843db9b68d6ca94d",
       "value": " 140/? [00:07&lt;00:00, 50.67it/s]"
      }
     },
     "5caa13974c3b42569ab2ba2050333a56": {
      "model_module": "@jupyter-widgets/base",
      "model_module_version": "1.2.0",
      "model_name": "LayoutModel",
      "state": {}
     },
     "5cbdc2e47dd4425fa96f3400c3bcd97e": {
      "model_module": "@jupyter-widgets/controls",
      "model_module_version": "1.5.0",
      "model_name": "HBoxModel",
      "state": {
       "children": [
        "IPY_MODEL_bd7a9a4d469340ef8ac1794d3d730fe8",
        "IPY_MODEL_8faaa19467314f5f944aae6c5c51bb90",
        "IPY_MODEL_7232151d4ba24afb81e38af1e18049ec"
       ],
       "layout": "IPY_MODEL_bae94fcf00874ef8a0d2407083545e66"
      }
     },
     "5cd75c1086a7465ca9bd83abfc072bc1": {
      "model_module": "@jupyter-widgets/controls",
      "model_module_version": "1.5.0",
      "model_name": "DescriptionStyleModel",
      "state": {
       "description_width": ""
      }
     },
     "5ce39948b46245cfbef2e1dc60b2e1f2": {
      "model_module": "@jupyter-widgets/base",
      "model_module_version": "1.2.0",
      "model_name": "LayoutModel",
      "state": {}
     },
     "5d179905ac934021a5f5542b37fa1a99": {
      "model_module": "@jupyter-widgets/controls",
      "model_module_version": "1.5.0",
      "model_name": "FloatProgressModel",
      "state": {
       "bar_style": "success",
       "layout": "IPY_MODEL_82669366fd2c45718a277fabbdfa735d",
       "max": 1,
       "style": "IPY_MODEL_3bd5a33f7ed1438ea0f8204e96691495"
      }
     },
     "5dcc4834d1534aa2926e3369f96f25b7": {
      "model_module": "@jupyter-widgets/controls",
      "model_module_version": "1.5.0",
      "model_name": "DescriptionStyleModel",
      "state": {
       "description_width": ""
      }
     },
     "5e36ef8658974afd8a8cea73c809cb97": {
      "model_module": "@jupyter-widgets/controls",
      "model_module_version": "1.5.0",
      "model_name": "HTMLModel",
      "state": {
       "layout": "IPY_MODEL_7f98bea434d645cfa7a77555dddcd727",
       "style": "IPY_MODEL_4a52eeb2b73a4b9b85ff632e55e56979",
       "value": "100%"
      }
     },
     "5e500cfc16c24a098f86aa1f4a48aa6d": {
      "model_module": "@jupyter-widgets/base",
      "model_module_version": "1.2.0",
      "model_name": "LayoutModel",
      "state": {}
     },
     "605de98f4dd5482ba1ade9187394f7c8": {
      "model_module": "@jupyter-widgets/base",
      "model_module_version": "1.2.0",
      "model_name": "LayoutModel",
      "state": {}
     },
     "606156bf04454ad5a12d895c0d66d385": {
      "model_module": "@jupyter-widgets/controls",
      "model_module_version": "1.5.0",
      "model_name": "FloatProgressModel",
      "state": {
       "bar_style": "success",
       "layout": "IPY_MODEL_f619039603b343ad859e0b255a959122",
       "max": 1,
       "style": "IPY_MODEL_3787139b0ffa4c5d946695aad279d833",
       "value": 1
      }
     },
     "608af84ed8e848d0bea063a3654100ce": {
      "model_module": "@jupyter-widgets/base",
      "model_module_version": "1.2.0",
      "model_name": "LayoutModel",
      "state": {
       "width": "20px"
      }
     },
     "60a8959e2459431ca35fe7ae52142b14": {
      "model_module": "@jupyter-widgets/base",
      "model_module_version": "1.2.0",
      "model_name": "LayoutModel",
      "state": {}
     },
     "60d3b506143e401e9ff74880ac3fd365": {
      "model_module": "@jupyter-widgets/controls",
      "model_module_version": "1.5.0",
      "model_name": "DescriptionStyleModel",
      "state": {
       "description_width": ""
      }
     },
     "60f66214cb114e6fbf69796cf8d604cc": {
      "model_module": "@jupyter-widgets/controls",
      "model_module_version": "1.5.0",
      "model_name": "HTMLModel",
      "state": {
       "layout": "IPY_MODEL_a5a85c1916444c20b7f6e9a1325ff3e0",
       "style": "IPY_MODEL_486f9fe1542a443f9eaa26472e0131c6",
       "value": " 2973/2973 [00:59&lt;00:00, 47.35it/s]"
      }
     },
     "6182f677806d401b9d0955b4c07f8468": {
      "model_module": "@jupyter-widgets/base",
      "model_module_version": "1.2.0",
      "model_name": "LayoutModel",
      "state": {}
     },
     "620964b84fee4ebda8e2d38613b2fc76": {
      "model_module": "@jupyter-widgets/base",
      "model_module_version": "1.2.0",
      "model_name": "LayoutModel",
      "state": {}
     },
     "6243dee94a9945268afa838f4c63f1cc": {
      "model_module": "@jupyter-widgets/base",
      "model_module_version": "1.2.0",
      "model_name": "LayoutModel",
      "state": {}
     },
     "62c16ef3d3c04dee982c36f88a6b39a7": {
      "model_module": "@jupyter-widgets/controls",
      "model_module_version": "1.5.0",
      "model_name": "DescriptionStyleModel",
      "state": {
       "description_width": ""
      }
     },
     "63de64da86ea4aa79347710649132426": {
      "model_module": "@jupyter-widgets/base",
      "model_module_version": "1.2.0",
      "model_name": "LayoutModel",
      "state": {
       "width": "20px"
      }
     },
     "640e0bc9962d4bd1a3b0239e3df4732d": {
      "model_module": "@jupyter-widgets/base",
      "model_module_version": "1.2.0",
      "model_name": "LayoutModel",
      "state": {
       "width": "20px"
      }
     },
     "641237ca15694656a2eadd72e04b2055": {
      "model_module": "@jupyter-widgets/controls",
      "model_module_version": "1.5.0",
      "model_name": "DescriptionStyleModel",
      "state": {
       "description_width": ""
      }
     },
     "66eed1f6c1af4d2db0dabec39681e7f1": {
      "model_module": "@jupyter-widgets/controls",
      "model_module_version": "1.5.0",
      "model_name": "ProgressStyleModel",
      "state": {
       "description_width": ""
      }
     },
     "6773f61ff74d4803b4f161e6e8c35f86": {
      "model_module": "@jupyter-widgets/controls",
      "model_module_version": "1.5.0",
      "model_name": "ProgressStyleModel",
      "state": {
       "description_width": ""
      }
     },
     "67df7aca4c69452b912f26340070734e": {
      "model_module": "@jupyter-widgets/controls",
      "model_module_version": "1.5.0",
      "model_name": "FloatProgressModel",
      "state": {
       "bar_style": "success",
       "layout": "IPY_MODEL_db5408fe25e24fe5bd1eccf4ba023a2c",
       "max": 1,
       "style": "IPY_MODEL_1c4e70a3d57045a1a32a68c7328e2cee",
       "value": 1
      }
     },
     "6901a46e84bc44beb7b54e3b365405d0": {
      "model_module": "@jupyter-widgets/controls",
      "model_module_version": "1.5.0",
      "model_name": "HTMLModel",
      "state": {
       "layout": "IPY_MODEL_6ec8382472aa44a684a525897af377ab",
       "style": "IPY_MODEL_32b13da107d74efabed3fb7e6a165396",
       "value": "100%"
      }
     },
     "693a4fd831804f5c8dbbef05591363bf": {
      "model_module": "@jupyter-widgets/controls",
      "model_module_version": "1.5.0",
      "model_name": "ProgressStyleModel",
      "state": {
       "description_width": ""
      }
     },
     "69789d22f486409a832333d56427e425": {
      "model_module": "@jupyter-widgets/base",
      "model_module_version": "1.2.0",
      "model_name": "LayoutModel",
      "state": {
       "width": "20px"
      }
     },
     "69e500efd94c4fa684b71317d885c794": {
      "model_module": "@jupyter-widgets/controls",
      "model_module_version": "1.5.0",
      "model_name": "ProgressStyleModel",
      "state": {
       "description_width": ""
      }
     },
     "6a265408115e4c4d86a0638d27a8a7b6": {
      "model_module": "@jupyter-widgets/base",
      "model_module_version": "1.2.0",
      "model_name": "LayoutModel",
      "state": {}
     },
     "6adb140e514b49a4875eb09a380c036a": {
      "model_module": "@jupyter-widgets/controls",
      "model_module_version": "1.5.0",
      "model_name": "HTMLModel",
      "state": {
       "layout": "IPY_MODEL_4359682ca3904fd7bf1ff3539c5f5eed",
       "style": "IPY_MODEL_0929b5d281a943e6902c5a3df2e5e60f"
      }
     },
     "6ae2e40dd7c24a279144a054acbc6e75": {
      "model_module": "@jupyter-widgets/controls",
      "model_module_version": "1.5.0",
      "model_name": "HBoxModel",
      "state": {
       "children": [
        "IPY_MODEL_e960b04228c14afc9b492105c0436d21",
        "IPY_MODEL_b0b667270b2e429a88ab132aee84b8de",
        "IPY_MODEL_7544b8ea0d8746b3a34887f6b40f88ae"
       ],
       "layout": "IPY_MODEL_5a8c14e9898c4285a88a0adb753573be"
      }
     },
     "6b328eb926ae433baa5da7b7a14cf440": {
      "model_module": "@jupyter-widgets/controls",
      "model_module_version": "1.5.0",
      "model_name": "FloatProgressModel",
      "state": {
       "bar_style": "success",
       "layout": "IPY_MODEL_4a6248732ea6469984d9a4d9e07d19d7",
       "max": 1,
       "style": "IPY_MODEL_e227627cde094dac938a1e9fbe0dcf70"
      }
     },
     "6c59f2d22365449f9c8af5ecdaa268a3": {
      "model_module": "@jupyter-widgets/controls",
      "model_module_version": "1.5.0",
      "model_name": "DescriptionStyleModel",
      "state": {
       "description_width": ""
      }
     },
     "6c5e2ce8ee4f4a4d9d3009fcfb972b53": {
      "model_module": "@jupyter-widgets/base",
      "model_module_version": "1.2.0",
      "model_name": "LayoutModel",
      "state": {
       "width": "20px"
      }
     },
     "6c5f4742845a4015b7d7378b44885413": {
      "model_module": "@jupyter-widgets/controls",
      "model_module_version": "1.5.0",
      "model_name": "FloatProgressModel",
      "state": {
       "bar_style": "success",
       "layout": "IPY_MODEL_4ff85b4e56424fa9aae346050215bb01",
       "max": 1,
       "style": "IPY_MODEL_66eed1f6c1af4d2db0dabec39681e7f1"
      }
     },
     "6cc2ca0917d443e7aeca8f4e39c5e321": {
      "model_module": "@jupyter-widgets/controls",
      "model_module_version": "1.5.0",
      "model_name": "FloatProgressModel",
      "state": {
       "bar_style": "success",
       "layout": "IPY_MODEL_53e8b682e76a4c93be6e2e3b6b3d6c12",
       "max": 1,
       "style": "IPY_MODEL_b7303d53ed334ecc879b8868439387e3"
      }
     },
     "6ccb31cc53be4530b285d34e451a0d6f": {
      "model_module": "@jupyter-widgets/base",
      "model_module_version": "1.2.0",
      "model_name": "LayoutModel",
      "state": {
       "width": "20px"
      }
     },
     "6d3aef2898b8418299560acf9b4135bb": {
      "model_module": "@jupyter-widgets/controls",
      "model_module_version": "1.5.0",
      "model_name": "HBoxModel",
      "state": {
       "children": [
        "IPY_MODEL_8b486901d0684597ac54c4b70fda99fe",
        "IPY_MODEL_6c5f4742845a4015b7d7378b44885413",
        "IPY_MODEL_d9cfec67810f4947bdbfc56ae49b5086"
       ],
       "layout": "IPY_MODEL_9b8f2e02e26a437d82b8a3a0277a7564"
      }
     },
     "6dde88c283e8469aae5d3fba2f2eae98": {
      "model_module": "@jupyter-widgets/base",
      "model_module_version": "1.2.0",
      "model_name": "LayoutModel",
      "state": {}
     },
     "6decd379c5544b59a4072e6f433c247f": {
      "model_module": "@jupyter-widgets/base",
      "model_module_version": "1.2.0",
      "model_name": "LayoutModel",
      "state": {}
     },
     "6e1b06d863904cdebe0d5505ed312603": {
      "model_module": "@jupyter-widgets/controls",
      "model_module_version": "1.5.0",
      "model_name": "FloatProgressModel",
      "state": {
       "bar_style": "success",
       "layout": "IPY_MODEL_89a303c5913f451cb94a3f5212f9fe73",
       "max": 1,
       "style": "IPY_MODEL_140b04b7b4be4f24858193480e742fad",
       "value": 1
      }
     },
     "6e4afb7f37b841aba05a8714ea0eed5a": {
      "model_module": "@jupyter-widgets/base",
      "model_module_version": "1.2.0",
      "model_name": "LayoutModel",
      "state": {}
     },
     "6ebc3aad473d499ea26c265886446d82": {
      "model_module": "@jupyter-widgets/controls",
      "model_module_version": "1.5.0",
      "model_name": "HTMLModel",
      "state": {
       "layout": "IPY_MODEL_87ec1cd701f34beb8ea5abeab453a969",
       "style": "IPY_MODEL_8f7f79eec3ca4dfcb439a8c0279facd3"
      }
     },
     "6ec8382472aa44a684a525897af377ab": {
      "model_module": "@jupyter-widgets/base",
      "model_module_version": "1.2.0",
      "model_name": "LayoutModel",
      "state": {}
     },
     "6fc9635acc0644969bbb8c07692418c1": {
      "model_module": "@jupyter-widgets/base",
      "model_module_version": "1.2.0",
      "model_name": "LayoutModel",
      "state": {}
     },
     "6fdded15b107486c8108e9d8b0db5c39": {
      "model_module": "@jupyter-widgets/base",
      "model_module_version": "1.2.0",
      "model_name": "LayoutModel",
      "state": {}
     },
     "6ff6b4522b914b0a88d4e061662fdea2": {
      "model_module": "@jupyter-widgets/base",
      "model_module_version": "1.2.0",
      "model_name": "LayoutModel",
      "state": {
       "width": "20px"
      }
     },
     "70ce1c6a69fe46499ddf912492bdb98d": {
      "model_module": "@jupyter-widgets/controls",
      "model_module_version": "1.5.0",
      "model_name": "DescriptionStyleModel",
      "state": {
       "description_width": ""
      }
     },
     "70f849802a454c5fb345aa86a0fdec4d": {
      "model_module": "@jupyter-widgets/controls",
      "model_module_version": "1.5.0",
      "model_name": "DescriptionStyleModel",
      "state": {
       "description_width": ""
      }
     },
     "7102d97235894aefaf9b645940c769c3": {
      "model_module": "@jupyter-widgets/controls",
      "model_module_version": "1.5.0",
      "model_name": "HTMLModel",
      "state": {
       "layout": "IPY_MODEL_4c0b8fc111ff46ca8ab3b5af0893af83",
       "style": "IPY_MODEL_1614cbeb6ddd4a9ea02073382b3eecf2",
       "value": " 7/? [00:28&lt;00:00, 28.01s/it]"
      }
     },
     "712c59f839f440e9a3d3be9ed208a892": {
      "model_module": "@jupyter-widgets/controls",
      "model_module_version": "1.5.0",
      "model_name": "HTMLModel",
      "state": {
       "layout": "IPY_MODEL_a19c6f142bbe4df5bc27792b7cc261b7",
       "style": "IPY_MODEL_29641b5743af4d8fadca9c95d47388fa",
       "value": "100%"
      }
     },
     "71c2c98a60464750be9260b3ee618803": {
      "model_module": "@jupyter-widgets/base",
      "model_module_version": "1.2.0",
      "model_name": "LayoutModel",
      "state": {
       "width": "20px"
      }
     },
     "71d4499f5335441d98125e568ab1bf7d": {
      "model_module": "@jupyter-widgets/base",
      "model_module_version": "1.2.0",
      "model_name": "LayoutModel",
      "state": {}
     },
     "71dce7bd063c47f0a498fdba88ec0e69": {
      "model_module": "@jupyter-widgets/controls",
      "model_module_version": "1.5.0",
      "model_name": "HTMLModel",
      "state": {
       "layout": "IPY_MODEL_42cf3a7c65ad4f9db89ddbcc31ac60a2",
       "style": "IPY_MODEL_cc498bd3b3a04e5dbbb44c19a80439f7",
       "value": " 41/? [00:07&lt;00:00, 16.46it/s]"
      }
     },
     "7232151d4ba24afb81e38af1e18049ec": {
      "model_module": "@jupyter-widgets/controls",
      "model_module_version": "1.5.0",
      "model_name": "HTMLModel",
      "state": {
       "layout": "IPY_MODEL_8f4acad776534e35a8e4761360f7ea23",
       "style": "IPY_MODEL_9edffb38f11c43d9a9e99f1c422c3b45",
       "value": " 116/? [00:05&lt;00:00, 22.82it/s]"
      }
     },
     "729ceb583ffd4b89a0b5b8a44faed038": {
      "model_module": "@jupyter-widgets/base",
      "model_module_version": "1.2.0",
      "model_name": "LayoutModel",
      "state": {}
     },
     "72b56ba4d6e940449250364f0522908f": {
      "model_module": "@jupyter-widgets/controls",
      "model_module_version": "1.5.0",
      "model_name": "HTMLModel",
      "state": {
       "layout": "IPY_MODEL_6a265408115e4c4d86a0638d27a8a7b6",
       "style": "IPY_MODEL_768eaa0209f5402f8e4c76e62c28619b",
       "value": " 25113/25113 [13:17&lt;00:00, 27.16it/s]"
      }
     },
     "72f218213ff340189769782c8fd6601c": {
      "model_module": "@jupyter-widgets/controls",
      "model_module_version": "1.5.0",
      "model_name": "HTMLModel",
      "state": {
       "layout": "IPY_MODEL_370cccacc3f0408d925502fe0def5b93",
       "style": "IPY_MODEL_8038d6a293cb4d428ccd7f532f19af94"
      }
     },
     "7321e45b3b3441f8912411ee18d020e4": {
      "model_module": "@jupyter-widgets/base",
      "model_module_version": "1.2.0",
      "model_name": "LayoutModel",
      "state": {
       "width": "20px"
      }
     },
     "737b178e0599466596d0dc8b0cab726a": {
      "model_module": "@jupyter-widgets/controls",
      "model_module_version": "1.5.0",
      "model_name": "HBoxModel",
      "state": {
       "children": [
        "IPY_MODEL_f419aac2f9bd4b179041d5b7c0fa0e0a",
        "IPY_MODEL_bd4aad4ceec24b1a85435f286a42ad7f",
        "IPY_MODEL_db51dd587b33416fbbd2b9f0a92fcb27"
       ],
       "layout": "IPY_MODEL_bc757afe60b840b8a8117c59f7c2688f"
      }
     },
     "73c0efc4d6a342688e8ca48632189c86": {
      "model_module": "@jupyter-widgets/controls",
      "model_module_version": "1.5.0",
      "model_name": "DescriptionStyleModel",
      "state": {
       "description_width": ""
      }
     },
     "73c4963952b34f9db876877c40a2ce05": {
      "model_module": "@jupyter-widgets/base",
      "model_module_version": "1.2.0",
      "model_name": "LayoutModel",
      "state": {}
     },
     "7544b8ea0d8746b3a34887f6b40f88ae": {
      "model_module": "@jupyter-widgets/controls",
      "model_module_version": "1.5.0",
      "model_name": "HTMLModel",
      "state": {
       "layout": "IPY_MODEL_5caa13974c3b42569ab2ba2050333a56",
       "style": "IPY_MODEL_e0fd45224bbb4bfba43e45375531a3d3",
       "value": " 199/? [00:08&lt;00:00, 54.92it/s]"
      }
     },
     "757989fb3d8642638ce0cc0b21fdf2a3": {
      "model_module": "@jupyter-widgets/base",
      "model_module_version": "1.2.0",
      "model_name": "LayoutModel",
      "state": {
       "width": "20px"
      }
     },
     "768eaa0209f5402f8e4c76e62c28619b": {
      "model_module": "@jupyter-widgets/controls",
      "model_module_version": "1.5.0",
      "model_name": "DescriptionStyleModel",
      "state": {
       "description_width": ""
      }
     },
     "76b3623c46d54a1489fcd29eb78b34a7": {
      "model_module": "@jupyter-widgets/controls",
      "model_module_version": "1.5.0",
      "model_name": "DescriptionStyleModel",
      "state": {
       "description_width": ""
      }
     },
     "76fb0513b8864ac4ad28befb9b271a38": {
      "model_module": "@jupyter-widgets/controls",
      "model_module_version": "1.5.0",
      "model_name": "DescriptionStyleModel",
      "state": {
       "description_width": ""
      }
     },
     "7776d45feae34cb9ac3ffd701167a79d": {
      "model_module": "@jupyter-widgets/base",
      "model_module_version": "1.2.0",
      "model_name": "LayoutModel",
      "state": {}
     },
     "77f36ed4d75b4a6ea6ba4edef1b6b1cd": {
      "model_module": "@jupyter-widgets/base",
      "model_module_version": "1.2.0",
      "model_name": "LayoutModel",
      "state": {
       "width": "20px"
      }
     },
     "7875d0258e124e1b80ce0cfe1e94bc89": {
      "model_module": "@jupyter-widgets/base",
      "model_module_version": "1.2.0",
      "model_name": "LayoutModel",
      "state": {}
     },
     "787de0d5f475427f923e62bc0031b129": {
      "model_module": "@jupyter-widgets/controls",
      "model_module_version": "1.5.0",
      "model_name": "DescriptionStyleModel",
      "state": {
       "description_width": ""
      }
     },
     "7a0825a249bb4b4aa5e443712f95ce36": {
      "model_module": "@jupyter-widgets/controls",
      "model_module_version": "1.5.0",
      "model_name": "FloatProgressModel",
      "state": {
       "bar_style": "success",
       "layout": "IPY_MODEL_71c2c98a60464750be9260b3ee618803",
       "max": 1,
       "style": "IPY_MODEL_2608e208b7fe48acb2ca8a7105d6497d",
       "value": 1
      }
     },
     "7b03c9ee197f4266bb635b6a1ca27bcd": {
      "model_module": "@jupyter-widgets/base",
      "model_module_version": "1.2.0",
      "model_name": "LayoutModel",
      "state": {}
     },
     "7d1db39593a143b28f3fedad4ac38529": {
      "model_module": "@jupyter-widgets/controls",
      "model_module_version": "1.5.0",
      "model_name": "HTMLModel",
      "state": {
       "layout": "IPY_MODEL_9bfdd32c894d49caa93534bcb38aaa4b",
       "style": "IPY_MODEL_c8ab2d8074cf4779bf62ba70607d962a",
       "value": " 0/? [00:54&lt;?, ?it/s]"
      }
     },
     "7d74a2bb140a449eba5a85b0f41b8a53": {
      "model_module": "@jupyter-widgets/controls",
      "model_module_version": "1.5.0",
      "model_name": "ProgressStyleModel",
      "state": {
       "description_width": ""
      }
     },
     "7dad03ef4307450fa169ef4fbc7611b9": {
      "model_module": "@jupyter-widgets/controls",
      "model_module_version": "1.5.0",
      "model_name": "HBoxModel",
      "state": {
       "children": [
        "IPY_MODEL_a28bf1e2ae894a6bb0d9b877b8b0dcc6",
        "IPY_MODEL_3b1141582a614865a130c8da32ea5ef3",
        "IPY_MODEL_5c2702ddf47144d3aa58d2737e1db20c"
       ],
       "layout": "IPY_MODEL_dd6f0316c2874545b6980fcbfaa2f990"
      }
     },
     "7f6d6abbda224630b6bfddafc3805909": {
      "model_module": "@jupyter-widgets/controls",
      "model_module_version": "1.5.0",
      "model_name": "HBoxModel",
      "state": {
       "children": [
        "IPY_MODEL_9eba937f2efb4c6999546475d3536b71",
        "IPY_MODEL_9424a8e0217240bda00283d0170c980f",
        "IPY_MODEL_4890bce1c55f4fad945e1ad832eb83d7"
       ],
       "layout": "IPY_MODEL_072322e99e0645acab726f2461828c50"
      }
     },
     "7f98bea434d645cfa7a77555dddcd727": {
      "model_module": "@jupyter-widgets/base",
      "model_module_version": "1.2.0",
      "model_name": "LayoutModel",
      "state": {}
     },
     "8038d6a293cb4d428ccd7f532f19af94": {
      "model_module": "@jupyter-widgets/controls",
      "model_module_version": "1.5.0",
      "model_name": "DescriptionStyleModel",
      "state": {
       "description_width": ""
      }
     },
     "804d18c609564d42a91f1e1445abd5f4": {
      "model_module": "@jupyter-widgets/controls",
      "model_module_version": "1.5.0",
      "model_name": "HTMLModel",
      "state": {
       "layout": "IPY_MODEL_47de943299894bbe8c7c9b168ca14128",
       "style": "IPY_MODEL_2ceb2dd317564dc5a9fd884b94bc4a89",
       "value": " 18/? [00:03&lt;00:00,  6.15it/s]"
      }
     },
     "80885f73c2fc473e97088479c89a4fc6": {
      "model_module": "@jupyter-widgets/controls",
      "model_module_version": "1.5.0",
      "model_name": "HTMLModel",
      "state": {
       "layout": "IPY_MODEL_c38d242a71e948dd96b557773039e188",
       "style": "IPY_MODEL_50f8c79c73a3456991dd5997103cbcf5",
       "value": " 13546/13546 [06:19&lt;00:00, 77.56it/s]"
      }
     },
     "809f40f65abe4c69bb14b5eadb45111c": {
      "model_module": "@jupyter-widgets/controls",
      "model_module_version": "1.5.0",
      "model_name": "FloatProgressModel",
      "state": {
       "bar_style": "success",
       "layout": "IPY_MODEL_fca8a335155f4b6187e071ebac256368",
       "max": 1,
       "style": "IPY_MODEL_d1229d03d1674313a142bae8c46a8cc8",
       "value": 1
      }
     },
     "80a4e6e3a31f4aeb9a47b3519122fb9f": {
      "model_module": "@jupyter-widgets/controls",
      "model_module_version": "1.5.0",
      "model_name": "HBoxModel",
      "state": {
       "children": [
        "IPY_MODEL_2cc62edc08c4481f99c63b9a54cc1089",
        "IPY_MODEL_939bca785c6544c088afd4e909470741",
        "IPY_MODEL_2e8b3a7d9f334f50baaa1ceb1e90588f"
       ],
       "layout": "IPY_MODEL_a9fd0d22ee8b4b75a4cd831604781cf4"
      }
     },
     "81bccc8536664cc2a84e74bc70461fb7": {
      "model_module": "@jupyter-widgets/controls",
      "model_module_version": "1.5.0",
      "model_name": "FloatProgressModel",
      "state": {
       "bar_style": "success",
       "layout": "IPY_MODEL_a4e1e1b3e6e34cec8a2fbb95bb393212",
       "max": 1,
       "style": "IPY_MODEL_896eab907b524087a6a0ac06fe8c7a52",
       "value": 1
      }
     },
     "82669366fd2c45718a277fabbdfa735d": {
      "model_module": "@jupyter-widgets/base",
      "model_module_version": "1.2.0",
      "model_name": "LayoutModel",
      "state": {
       "width": "20px"
      }
     },
     "82a197b365af4370b426c96f4c0dd54f": {
      "model_module": "@jupyter-widgets/controls",
      "model_module_version": "1.5.0",
      "model_name": "HBoxModel",
      "state": {
       "children": [
        "IPY_MODEL_c502d2d91d184235be54ed235f704510",
        "IPY_MODEL_809f40f65abe4c69bb14b5eadb45111c",
        "IPY_MODEL_8a858a278b324d3aaf3ba1cacca476e3"
       ],
       "layout": "IPY_MODEL_4c2ae29f242e45079affc818c86fd6be"
      }
     },
     "83136cd7fa45439a90f934a57fb558cd": {
      "model_module": "@jupyter-widgets/base",
      "model_module_version": "1.2.0",
      "model_name": "LayoutModel",
      "state": {}
     },
     "83c6301032a349b8948562dc2acedef1": {
      "model_module": "@jupyter-widgets/base",
      "model_module_version": "1.2.0",
      "model_name": "LayoutModel",
      "state": {}
     },
     "8432a04c3b8c46d0898f46ac49d52979": {
      "model_module": "@jupyter-widgets/base",
      "model_module_version": "1.2.0",
      "model_name": "LayoutModel",
      "state": {}
     },
     "8509a22417d5434a99a853c1ec0f8174": {
      "model_module": "@jupyter-widgets/controls",
      "model_module_version": "1.5.0",
      "model_name": "ProgressStyleModel",
      "state": {
       "description_width": ""
      }
     },
     "854d9c04e96a4d6aa4197cef1baa6948": {
      "model_module": "@jupyter-widgets/controls",
      "model_module_version": "1.5.0",
      "model_name": "HBoxModel",
      "state": {
       "children": [
        "IPY_MODEL_46f88717fc10492d872b2525ef06711b",
        "IPY_MODEL_606156bf04454ad5a12d895c0d66d385",
        "IPY_MODEL_60f66214cb114e6fbf69796cf8d604cc"
       ],
       "layout": "IPY_MODEL_901cf342ccef4569af3238d2a9ae2438"
      }
     },
     "85844fdfe431441ca2d6a887f7b65819": {
      "model_module": "@jupyter-widgets/controls",
      "model_module_version": "1.5.0",
      "model_name": "FloatProgressModel",
      "state": {
       "bar_style": "success",
       "layout": "IPY_MODEL_97e1c5d26f2b4b9a84064ea83d4959fb",
       "max": 1,
       "style": "IPY_MODEL_d8f264d3e3bb461aab2b02a652173e7a",
       "value": 1
      }
     },
     "85ce468dfc9441d3b803e044c2816afb": {
      "model_module": "@jupyter-widgets/base",
      "model_module_version": "1.2.0",
      "model_name": "LayoutModel",
      "state": {
       "width": "20px"
      }
     },
     "86617291a4ad41eb8cfdfb4b18b008f2": {
      "model_module": "@jupyter-widgets/controls",
      "model_module_version": "1.5.0",
      "model_name": "FloatProgressModel",
      "state": {
       "bar_style": "success",
       "layout": "IPY_MODEL_fbd3adddc4324e1db811fd3fbbbbdb4f",
       "max": 1,
       "style": "IPY_MODEL_f90a072d2b5e4477a4fff205f2a3f5d2",
       "value": 1
      }
     },
     "869e2044b47b47aaa6d4921b9eac5bc9": {
      "model_module": "@jupyter-widgets/base",
      "model_module_version": "1.2.0",
      "model_name": "LayoutModel",
      "state": {
       "width": "20px"
      }
     },
     "873d3c7e188e4e93b04707f44aa9d3f4": {
      "model_module": "@jupyter-widgets/controls",
      "model_module_version": "1.5.0",
      "model_name": "HTMLModel",
      "state": {
       "layout": "IPY_MODEL_de6963d1a0184108a2eb3f1ed516dea9",
       "style": "IPY_MODEL_e22af78b3d084f5cafec6f3734a6e49b",
       "value": "100%"
      }
     },
     "8766e078ab764dc7b4b39e654f15d7b3": {
      "model_module": "@jupyter-widgets/base",
      "model_module_version": "1.2.0",
      "model_name": "LayoutModel",
      "state": {}
     },
     "876c3a8ed4fe49608b16f92d84b95223": {
      "model_module": "@jupyter-widgets/base",
      "model_module_version": "1.2.0",
      "model_name": "LayoutModel",
      "state": {}
     },
     "87ec1cd701f34beb8ea5abeab453a969": {
      "model_module": "@jupyter-widgets/base",
      "model_module_version": "1.2.0",
      "model_name": "LayoutModel",
      "state": {}
     },
     "8925cc6224524fbaaf4764d1e6f28d98": {
      "model_module": "@jupyter-widgets/controls",
      "model_module_version": "1.5.0",
      "model_name": "HBoxModel",
      "state": {
       "children": [
        "IPY_MODEL_dfd7b89718514ba4ab9431c92459bde3",
        "IPY_MODEL_0f3765200152410094c7b4aa191af31a",
        "IPY_MODEL_71dce7bd063c47f0a498fdba88ec0e69"
       ],
       "layout": "IPY_MODEL_a3f304b083bf4243937c66cd591edc56"
      }
     },
     "89307bfae6a3496f933f99ba909f73d3": {
      "model_module": "@jupyter-widgets/controls",
      "model_module_version": "1.5.0",
      "model_name": "ProgressStyleModel",
      "state": {
       "description_width": ""
      }
     },
     "896eab907b524087a6a0ac06fe8c7a52": {
      "model_module": "@jupyter-widgets/controls",
      "model_module_version": "1.5.0",
      "model_name": "ProgressStyleModel",
      "state": {
       "description_width": ""
      }
     },
     "89a303c5913f451cb94a3f5212f9fe73": {
      "model_module": "@jupyter-widgets/base",
      "model_module_version": "1.2.0",
      "model_name": "LayoutModel",
      "state": {
       "width": "20px"
      }
     },
     "89db4d927371484b95620fff09540c43": {
      "model_module": "@jupyter-widgets/controls",
      "model_module_version": "1.5.0",
      "model_name": "FloatProgressModel",
      "state": {
       "bar_style": "success",
       "layout": "IPY_MODEL_5920bf9ba7cb47118fd44fc71eac25ac",
       "max": 1,
       "style": "IPY_MODEL_59ccf3d475824228af4695a542c46316"
      }
     },
     "89ee7c765f494df2b542142c2c8ad26b": {
      "model_module": "@jupyter-widgets/controls",
      "model_module_version": "1.5.0",
      "model_name": "FloatProgressModel",
      "state": {
       "bar_style": "success",
       "layout": "IPY_MODEL_9c81b402a0864937b8da3827a2761574",
       "max": 1,
       "style": "IPY_MODEL_2c6f8cbb02cd4868b3b706912bfa79ef",
       "value": 1
      }
     },
     "8a858a278b324d3aaf3ba1cacca476e3": {
      "model_module": "@jupyter-widgets/controls",
      "model_module_version": "1.5.0",
      "model_name": "HTMLModel",
      "state": {
       "layout": "IPY_MODEL_cd1451b057c848f9bd10d370f7c5b7ad",
       "style": "IPY_MODEL_4dd0ed6b08a045e9a0d51b483b5a4455",
       "value": " 8331/8331 [04:38&lt;00:00, 34.28it/s]"
      }
     },
     "8af75c1fc07440599c107f81324b6e19": {
      "model_module": "@jupyter-widgets/base",
      "model_module_version": "1.2.0",
      "model_name": "LayoutModel",
      "state": {
       "width": "20px"
      }
     },
     "8b03e90ad2c94feb892f7f464b3feed6": {
      "model_module": "@jupyter-widgets/controls",
      "model_module_version": "1.5.0",
      "model_name": "HTMLModel",
      "state": {
       "layout": "IPY_MODEL_8deafe6b10f7482bbd7216dfb2d3aba2",
       "style": "IPY_MODEL_eb53054f42b34a9091c5679a2e53a009"
      }
     },
     "8b486901d0684597ac54c4b70fda99fe": {
      "model_module": "@jupyter-widgets/controls",
      "model_module_version": "1.5.0",
      "model_name": "HTMLModel",
      "state": {
       "layout": "IPY_MODEL_8432a04c3b8c46d0898f46ac49d52979",
       "style": "IPY_MODEL_f7eb2e30410c45bbb91536448e7d01e4"
      }
     },
     "8c7de8c08e4444daa8202745ec0a66e0": {
      "model_module": "@jupyter-widgets/controls",
      "model_module_version": "1.5.0",
      "model_name": "FloatProgressModel",
      "state": {
       "bar_style": "success",
       "layout": "IPY_MODEL_77f36ed4d75b4a6ea6ba4edef1b6b1cd",
       "max": 1,
       "style": "IPY_MODEL_145a3374b1e9420ebe3577de6fc80789",
       "value": 1
      }
     },
     "8c8561c7a7de4b7491b0021c590f5cec": {
      "model_module": "@jupyter-widgets/controls",
      "model_module_version": "1.5.0",
      "model_name": "DescriptionStyleModel",
      "state": {
       "description_width": ""
      }
     },
     "8ceca08abbfc4d13ae212e2c2385e2da": {
      "model_module": "@jupyter-widgets/base",
      "model_module_version": "1.2.0",
      "model_name": "LayoutModel",
      "state": {}
     },
     "8d5559b3656f480cb123a2752d134b75": {
      "model_module": "@jupyter-widgets/base",
      "model_module_version": "1.2.0",
      "model_name": "LayoutModel",
      "state": {}
     },
     "8d60a3bccf1c4e10a77984fe110986af": {
      "model_module": "@jupyter-widgets/controls",
      "model_module_version": "1.5.0",
      "model_name": "DescriptionStyleModel",
      "state": {
       "description_width": ""
      }
     },
     "8dd2228e58174abe9a096c1b01576f6d": {
      "model_module": "@jupyter-widgets/base",
      "model_module_version": "1.2.0",
      "model_name": "LayoutModel",
      "state": {}
     },
     "8deafe6b10f7482bbd7216dfb2d3aba2": {
      "model_module": "@jupyter-widgets/base",
      "model_module_version": "1.2.0",
      "model_name": "LayoutModel",
      "state": {}
     },
     "8e5a92b347c445f6896d07160bc26963": {
      "model_module": "@jupyter-widgets/base",
      "model_module_version": "1.2.0",
      "model_name": "LayoutModel",
      "state": {}
     },
     "8f37b80ad26842a784cdd542a3e2acd0": {
      "model_module": "@jupyter-widgets/controls",
      "model_module_version": "1.5.0",
      "model_name": "DescriptionStyleModel",
      "state": {
       "description_width": ""
      }
     },
     "8f4acad776534e35a8e4761360f7ea23": {
      "model_module": "@jupyter-widgets/base",
      "model_module_version": "1.2.0",
      "model_name": "LayoutModel",
      "state": {}
     },
     "8f57706b74284d47a4342e3acc00fb9b": {
      "model_module": "@jupyter-widgets/base",
      "model_module_version": "1.2.0",
      "model_name": "LayoutModel",
      "state": {}
     },
     "8f7f79eec3ca4dfcb439a8c0279facd3": {
      "model_module": "@jupyter-widgets/controls",
      "model_module_version": "1.5.0",
      "model_name": "DescriptionStyleModel",
      "state": {
       "description_width": ""
      }
     },
     "8faaa19467314f5f944aae6c5c51bb90": {
      "model_module": "@jupyter-widgets/controls",
      "model_module_version": "1.5.0",
      "model_name": "FloatProgressModel",
      "state": {
       "bar_style": "success",
       "layout": "IPY_MODEL_0829e99637b74fe89ca3d4c3390b84f6",
       "max": 1,
       "style": "IPY_MODEL_5a3edba2aa3e43b2ac361fa5b379a466",
       "value": 1
      }
     },
     "8fc9649a3fe8475893b38e00bf185e3e": {
      "model_module": "@jupyter-widgets/controls",
      "model_module_version": "1.5.0",
      "model_name": "HTMLModel",
      "state": {
       "layout": "IPY_MODEL_5e500cfc16c24a098f86aa1f4a48aa6d",
       "style": "IPY_MODEL_a8c41d89a0764e479831a94086d329d6"
      }
     },
     "90025dfdfd56468b92da8e753878801a": {
      "model_module": "@jupyter-widgets/controls",
      "model_module_version": "1.5.0",
      "model_name": "FloatProgressModel",
      "state": {
       "bar_style": "success",
       "layout": "IPY_MODEL_cc10dfabe8a14c04809532ece3cd3ecb",
       "max": 1,
       "style": "IPY_MODEL_bf7c46e8c87e4975ba1fc21d058a80ab",
       "value": 1
      }
     },
     "901cf342ccef4569af3238d2a9ae2438": {
      "model_module": "@jupyter-widgets/base",
      "model_module_version": "1.2.0",
      "model_name": "LayoutModel",
      "state": {}
     },
     "902184d01e2340508468c9d10b357c48": {
      "model_module": "@jupyter-widgets/controls",
      "model_module_version": "1.5.0",
      "model_name": "ProgressStyleModel",
      "state": {
       "description_width": ""
      }
     },
     "902e6829a30743c68236886ddbc7bb74": {
      "model_module": "@jupyter-widgets/controls",
      "model_module_version": "1.5.0",
      "model_name": "FloatProgressModel",
      "state": {
       "bar_style": "success",
       "layout": "IPY_MODEL_2db8b2383ead4756864e91265dd4ef99",
       "max": 1,
       "style": "IPY_MODEL_af3c1601c18c4f21b6fe2832de6cecf9",
       "value": 1
      }
     },
     "90d3055758c74399a3ad518e499c335e": {
      "model_module": "@jupyter-widgets/controls",
      "model_module_version": "1.5.0",
      "model_name": "HBoxModel",
      "state": {
       "children": [
        "IPY_MODEL_ccc5c96e7245409fa64059cfef468ba3",
        "IPY_MODEL_8c7de8c08e4444daa8202745ec0a66e0",
        "IPY_MODEL_12e1ea5f48f54d1ca8f85bc0af930cc9"
       ],
       "layout": "IPY_MODEL_73c4963952b34f9db876877c40a2ce05"
      }
     },
     "91cae3f0c1634f1d94ee805845920ff9": {
      "model_module": "@jupyter-widgets/controls",
      "model_module_version": "1.5.0",
      "model_name": "HTMLModel",
      "state": {
       "layout": "IPY_MODEL_cfb8ec71ff204d53b8facaf031dc33d8",
       "style": "IPY_MODEL_1e00a14c9d7840bc81ea931c196b3611",
       "value": " 0/? [00:03&lt;?, ?it/s]"
      }
     },
     "92df989697334eb5aea74c8a1a952ce9": {
      "model_module": "@jupyter-widgets/controls",
      "model_module_version": "1.5.0",
      "model_name": "HTMLModel",
      "state": {
       "layout": "IPY_MODEL_6243dee94a9945268afa838f4c63f1cc",
       "style": "IPY_MODEL_f8f1d0c7c8574509aed395430ad4efb6",
       "value": " 5/? [00:03&lt;00:00,  3.53s/it]"
      }
     },
     "939bca785c6544c088afd4e909470741": {
      "model_module": "@jupyter-widgets/controls",
      "model_module_version": "1.5.0",
      "model_name": "FloatProgressModel",
      "state": {
       "bar_style": "success",
       "layout": "IPY_MODEL_b43f694d75c248b3b6dd772dd2bae140",
       "max": 1,
       "style": "IPY_MODEL_cc7f4101531944fa93936f8f090ac6aa",
       "value": 1
      }
     },
     "9424a8e0217240bda00283d0170c980f": {
      "model_module": "@jupyter-widgets/controls",
      "model_module_version": "1.5.0",
      "model_name": "FloatProgressModel",
      "state": {
       "bar_style": "success",
       "layout": "IPY_MODEL_3da4815b2e204f0c961c05b2809cf000",
       "max": 1,
       "style": "IPY_MODEL_d31f765d2af148018093bf1d3f731a67",
       "value": 1
      }
     },
     "947ecaf8d91f422eafcd4db383c5e9d9": {
      "model_module": "@jupyter-widgets/base",
      "model_module_version": "1.2.0",
      "model_name": "LayoutModel",
      "state": {}
     },
     "956e13b95db54c7d84226cd8d21b7bb9": {
      "model_module": "@jupyter-widgets/controls",
      "model_module_version": "1.5.0",
      "model_name": "FloatProgressModel",
      "state": {
       "bar_style": "success",
       "layout": "IPY_MODEL_4b8674aafe724f8b863caf8814d40188",
       "max": 1,
       "style": "IPY_MODEL_d6be9f22a53a495ab60627651ac8ce08",
       "value": 1
      }
     },
     "958fdad79566466db9b0711ef529361b": {
      "model_module": "@jupyter-widgets/controls",
      "model_module_version": "1.5.0",
      "model_name": "HBoxModel",
      "state": {
       "children": [
        "IPY_MODEL_8b03e90ad2c94feb892f7f464b3feed6",
        "IPY_MODEL_b3f7e77c572f455eabaa9b87590acefb",
        "IPY_MODEL_ac5f32650a4f4ad8a7bcb7285e9f63c3"
       ],
       "layout": "IPY_MODEL_d9d2bc20926847a99613024d2ca9523e"
      }
     },
     "95ad35e1d07e421aaaa9a505f2135632": {
      "model_module": "@jupyter-widgets/controls",
      "model_module_version": "1.5.0",
      "model_name": "HTMLModel",
      "state": {
       "layout": "IPY_MODEL_982e279a681c4783b044dfe79ae8187a",
       "style": "IPY_MODEL_1f8aec89d42c4e2e977fa39e90580ae1",
       "value": " 98/? [00:05&lt;00:00, 18.02it/s]"
      }
     },
     "95d8ab4ef3724c55a82b4bcd3b98a914": {
      "model_module": "@jupyter-widgets/controls",
      "model_module_version": "1.5.0",
      "model_name": "HTMLModel",
      "state": {
       "layout": "IPY_MODEL_fb2df54076ce441c8c2ea1b1318b47c7",
       "style": "IPY_MODEL_b17c00fde2884efb8c9a152fe95ef1b6",
       "value": " 0/? [00:02&lt;?, ?it/s]"
      }
     },
     "96e76308a36241df93356662b7a7ac13": {
      "model_module": "@jupyter-widgets/controls",
      "model_module_version": "1.5.0",
      "model_name": "DescriptionStyleModel",
      "state": {
       "description_width": ""
      }
     },
     "9743ea60b2fc45b09aec381cf3f5fef4": {
      "model_module": "@jupyter-widgets/controls",
      "model_module_version": "1.5.0",
      "model_name": "DescriptionStyleModel",
      "state": {
       "description_width": ""
      }
     },
     "97e1c5d26f2b4b9a84064ea83d4959fb": {
      "model_module": "@jupyter-widgets/base",
      "model_module_version": "1.2.0",
      "model_name": "LayoutModel",
      "state": {
       "width": "20px"
      }
     },
     "98127b4cc55d46999e59ec38b9e54f38": {
      "model_module": "@jupyter-widgets/controls",
      "model_module_version": "1.5.0",
      "model_name": "DescriptionStyleModel",
      "state": {
       "description_width": ""
      }
     },
     "982838a89c614b8e9480d72d57636295": {
      "model_module": "@jupyter-widgets/controls",
      "model_module_version": "1.5.0",
      "model_name": "DescriptionStyleModel",
      "state": {
       "description_width": ""
      }
     },
     "982e279a681c4783b044dfe79ae8187a": {
      "model_module": "@jupyter-widgets/base",
      "model_module_version": "1.2.0",
      "model_name": "LayoutModel",
      "state": {}
     },
     "99ede88209484d4d87d8c23824ba0fbf": {
      "model_module": "@jupyter-widgets/controls",
      "model_module_version": "1.5.0",
      "model_name": "HTMLModel",
      "state": {
       "layout": "IPY_MODEL_058d6e0ba3aa4439afefa90bd55f077e",
       "style": "IPY_MODEL_40b5f0bdc69c4b00a296e38e189fe12f",
       "value": " 39/? [00:05&lt;00:00, 11.47it/s]"
      }
     },
     "9a9df444e41740b7b56e75a03c7954b3": {
      "model_module": "@jupyter-widgets/controls",
      "model_module_version": "1.5.0",
      "model_name": "HTMLModel",
      "state": {
       "layout": "IPY_MODEL_25d03672463249f79476a7680ebb62a2",
       "style": "IPY_MODEL_092ac1d7df85460c9c0b108c93855812",
       "value": " 0/? [00:03&lt;?, ?it/s]"
      }
     },
     "9b8f2e02e26a437d82b8a3a0277a7564": {
      "model_module": "@jupyter-widgets/base",
      "model_module_version": "1.2.0",
      "model_name": "LayoutModel",
      "state": {}
     },
     "9bdac65b12184ea9907eb4b81ac65be6": {
      "model_module": "@jupyter-widgets/controls",
      "model_module_version": "1.5.0",
      "model_name": "HBoxModel",
      "state": {
       "children": [
        "IPY_MODEL_5e36ef8658974afd8a8cea73c809cb97",
        "IPY_MODEL_304d9e3531444bb09f543a5008a3c714",
        "IPY_MODEL_e0312f6ce31e4bccae7671729e7f89e1"
       ],
       "layout": "IPY_MODEL_605de98f4dd5482ba1ade9187394f7c8"
      }
     },
     "9bfdd32c894d49caa93534bcb38aaa4b": {
      "model_module": "@jupyter-widgets/base",
      "model_module_version": "1.2.0",
      "model_name": "LayoutModel",
      "state": {}
     },
     "9c81b402a0864937b8da3827a2761574": {
      "model_module": "@jupyter-widgets/base",
      "model_module_version": "1.2.0",
      "model_name": "LayoutModel",
      "state": {
       "width": "20px"
      }
     },
     "9d550bf7764045eab4bd9443c669a970": {
      "model_module": "@jupyter-widgets/controls",
      "model_module_version": "1.5.0",
      "model_name": "DescriptionStyleModel",
      "state": {
       "description_width": ""
      }
     },
     "9d81718dd1aa4481b6c97b9b5131abdc": {
      "model_module": "@jupyter-widgets/controls",
      "model_module_version": "1.5.0",
      "model_name": "FloatProgressModel",
      "state": {
       "bar_style": "success",
       "layout": "IPY_MODEL_06265a087d2a42f0b05ea42f7b46d239",
       "max": 1,
       "style": "IPY_MODEL_58b23e1715e846c0a81bdf0748bf3108",
       "value": 1
      }
     },
     "9e5f8a0fadda406eb0a731b2db93f419": {
      "model_module": "@jupyter-widgets/controls",
      "model_module_version": "1.5.0",
      "model_name": "HBoxModel",
      "state": {
       "children": [
        "IPY_MODEL_0c24bbb0c146488388ece556bf965fbb",
        "IPY_MODEL_85844fdfe431441ca2d6a887f7b65819",
        "IPY_MODEL_fc83237110e042b089a288ef4c05407a"
       ],
       "layout": "IPY_MODEL_1e63448b7b8a45d2a56a5fdf7392117e"
      }
     },
     "9eba937f2efb4c6999546475d3536b71": {
      "model_module": "@jupyter-widgets/controls",
      "model_module_version": "1.5.0",
      "model_name": "HTMLModel",
      "state": {
       "layout": "IPY_MODEL_06999e7def4d40a082fcd46419b85db3",
       "style": "IPY_MODEL_c1379d37cc084db8a85fd36cfff49310",
       "value": "100%"
      }
     },
     "9edffb38f11c43d9a9e99f1c422c3b45": {
      "model_module": "@jupyter-widgets/controls",
      "model_module_version": "1.5.0",
      "model_name": "DescriptionStyleModel",
      "state": {
       "description_width": ""
      }
     },
     "9f0dd36c5c5e424c97d5df99716b2df8": {
      "model_module": "@jupyter-widgets/controls",
      "model_module_version": "1.5.0",
      "model_name": "HBoxModel",
      "state": {
       "children": [
        "IPY_MODEL_5784e58dad8148eab13f47e1a68d652f",
        "IPY_MODEL_01072564e80048f5adff54e82d49c1cc",
        "IPY_MODEL_10108095a7384ba780cbf3e2bc4ed106"
       ],
       "layout": "IPY_MODEL_21b2fd9514264ebfa932da5abc974b25"
      }
     },
     "9f0eab14015345c7b218b19c89942d96": {
      "model_module": "@jupyter-widgets/controls",
      "model_module_version": "1.5.0",
      "model_name": "DescriptionStyleModel",
      "state": {
       "description_width": ""
      }
     },
     "9f8c3b55adcc42b88b051ad275784c46": {
      "model_module": "@jupyter-widgets/base",
      "model_module_version": "1.2.0",
      "model_name": "LayoutModel",
      "state": {
       "width": "20px"
      }
     },
     "9fe9127394a04bd6a1fda4bb6c24ddf0": {
      "model_module": "@jupyter-widgets/base",
      "model_module_version": "1.2.0",
      "model_name": "LayoutModel",
      "state": {}
     },
     "a00f227eb76f449a93930d50f69a4d3a": {
      "model_module": "@jupyter-widgets/controls",
      "model_module_version": "1.5.0",
      "model_name": "HBoxModel",
      "state": {
       "children": [
        "IPY_MODEL_6adb140e514b49a4875eb09a380c036a",
        "IPY_MODEL_b75a75d2af16428282f56024cc49ea06",
        "IPY_MODEL_2a7fe9fb742b4b359ca19f2c71e6ef62"
       ],
       "layout": "IPY_MODEL_0d42ff53fdaf4df2a8d9eefb0d1e2066"
      }
     },
     "a10974f0d67f48e783de1a8e47276b19": {
      "model_module": "@jupyter-widgets/base",
      "model_module_version": "1.2.0",
      "model_name": "LayoutModel",
      "state": {}
     },
     "a1489c1736f44c488968a72d239c66ec": {
      "model_module": "@jupyter-widgets/controls",
      "model_module_version": "1.5.0",
      "model_name": "HBoxModel",
      "state": {
       "children": [
        "IPY_MODEL_da6990a115784385848fa0f7df1bef8c",
        "IPY_MODEL_d9232d239bf3480ea59a9e0d9d0bb179",
        "IPY_MODEL_19c6ec545b674e3e944c9905632ee3b7"
       ],
       "layout": "IPY_MODEL_5bc7f0b45c3949308467360bbd4ba018"
      }
     },
     "a15433a757f142adb4e554b9532fa98e": {
      "model_module": "@jupyter-widgets/base",
      "model_module_version": "1.2.0",
      "model_name": "LayoutModel",
      "state": {}
     },
     "a19c6f142bbe4df5bc27792b7cc261b7": {
      "model_module": "@jupyter-widgets/base",
      "model_module_version": "1.2.0",
      "model_name": "LayoutModel",
      "state": {}
     },
     "a1cb6c4294ce4e9cb7a70f8f8bce336b": {
      "model_module": "@jupyter-widgets/base",
      "model_module_version": "1.2.0",
      "model_name": "LayoutModel",
      "state": {}
     },
     "a1d729a37bee44d29708f7caeafe3c0e": {
      "model_module": "@jupyter-widgets/controls",
      "model_module_version": "1.5.0",
      "model_name": "ProgressStyleModel",
      "state": {
       "description_width": ""
      }
     },
     "a24498990296446e923a60f4c40169a0": {
      "model_module": "@jupyter-widgets/controls",
      "model_module_version": "1.5.0",
      "model_name": "DescriptionStyleModel",
      "state": {
       "description_width": ""
      }
     },
     "a28bf1e2ae894a6bb0d9b877b8b0dcc6": {
      "model_module": "@jupyter-widgets/controls",
      "model_module_version": "1.5.0",
      "model_name": "HTMLModel",
      "state": {
       "layout": "IPY_MODEL_0e9bce3460f14a3fab0bf497241ee90a",
       "style": "IPY_MODEL_cb9b0964884841f294f0ebf2ea92ac0e"
      }
     },
     "a3188594baf247f2a83e85c1fae3de25": {
      "model_module": "@jupyter-widgets/controls",
      "model_module_version": "1.5.0",
      "model_name": "ProgressStyleModel",
      "state": {
       "description_width": ""
      }
     },
     "a32b2a3e5cb34648a7888a5973f76e3a": {
      "model_module": "@jupyter-widgets/controls",
      "model_module_version": "1.5.0",
      "model_name": "HTMLModel",
      "state": {
       "layout": "IPY_MODEL_ad9d2de3e5554d488c3d2cec537d24bc",
       "style": "IPY_MODEL_020426f8918b4b1d94f14931b52a4d8d",
       "value": " 0/? [00:03&lt;?, ?it/s]"
      }
     },
     "a3f304b083bf4243937c66cd591edc56": {
      "model_module": "@jupyter-widgets/base",
      "model_module_version": "1.2.0",
      "model_name": "LayoutModel",
      "state": {}
     },
     "a4e1e1b3e6e34cec8a2fbb95bb393212": {
      "model_module": "@jupyter-widgets/base",
      "model_module_version": "1.2.0",
      "model_name": "LayoutModel",
      "state": {
       "width": "20px"
      }
     },
     "a528ecd531bf4cf09d5e346171d93dfe": {
      "model_module": "@jupyter-widgets/controls",
      "model_module_version": "1.5.0",
      "model_name": "DescriptionStyleModel",
      "state": {
       "description_width": ""
      }
     },
     "a52eef57f23a47f0b7843c7668facdf2": {
      "model_module": "@jupyter-widgets/controls",
      "model_module_version": "1.5.0",
      "model_name": "HBoxModel",
      "state": {
       "children": [
        "IPY_MODEL_3b69de01e73e45b9b20c3ee363409f42",
        "IPY_MODEL_36af58724a7d4ec280c12fa09ee63e8f",
        "IPY_MODEL_a56249de1aa2465685eeb0fb5fe5502f"
       ],
       "layout": "IPY_MODEL_c0a984ecea354cfc9c513f628cc30168"
      }
     },
     "a56249de1aa2465685eeb0fb5fe5502f": {
      "model_module": "@jupyter-widgets/controls",
      "model_module_version": "1.5.0",
      "model_name": "HTMLModel",
      "state": {
       "layout": "IPY_MODEL_de33410b000c48579df825d5fd6189a8",
       "style": "IPY_MODEL_73c0efc4d6a342688e8ca48632189c86",
       "value": " 175/? [00:06&lt;00:00, 42.89it/s]"
      }
     },
     "a5a85c1916444c20b7f6e9a1325ff3e0": {
      "model_module": "@jupyter-widgets/base",
      "model_module_version": "1.2.0",
      "model_name": "LayoutModel",
      "state": {}
     },
     "a6c319667eb84f4c80846efd7f948bd8": {
      "model_module": "@jupyter-widgets/controls",
      "model_module_version": "1.5.0",
      "model_name": "HTMLModel",
      "state": {
       "layout": "IPY_MODEL_202bb69fdf734d41afd5af497a13ab03",
       "style": "IPY_MODEL_76fb0513b8864ac4ad28befb9b271a38",
       "value": " 117/? [00:07&lt;00:00, 39.54it/s]"
      }
     },
     "a751f4fc68fb4e35bb28713cae0c1b28": {
      "model_module": "@jupyter-widgets/controls",
      "model_module_version": "1.5.0",
      "model_name": "HBoxModel",
      "state": {
       "children": [
        "IPY_MODEL_077e2b9ac2c6400baed5ac526d440d4c",
        "IPY_MODEL_42dc1b038d8643cbaf1e739f2adb8228",
        "IPY_MODEL_55817ab1a1f0432bbddbafa14d262d27"
       ],
       "layout": "IPY_MODEL_0912eb3538f14fd4ab80770cf13e599f"
      }
     },
     "a7b9eb5343e94b63a19f8233f8d87ec2": {
      "model_module": "@jupyter-widgets/base",
      "model_module_version": "1.2.0",
      "model_name": "LayoutModel",
      "state": {}
     },
     "a7f366f8685b4d8ba48dd53238fa927f": {
      "model_module": "@jupyter-widgets/controls",
      "model_module_version": "1.5.0",
      "model_name": "DescriptionStyleModel",
      "state": {
       "description_width": ""
      }
     },
     "a7fcfcd7734d460baa8b489fa09cc466": {
      "model_module": "@jupyter-widgets/controls",
      "model_module_version": "1.5.0",
      "model_name": "HTMLModel",
      "state": {
       "layout": "IPY_MODEL_ca7bb4e7c1e64b53a10d3fd950acaf9d",
       "style": "IPY_MODEL_0ef25b3929f74335b3a72c3ebfb7900d"
      }
     },
     "a8c41d89a0764e479831a94086d329d6": {
      "model_module": "@jupyter-widgets/controls",
      "model_module_version": "1.5.0",
      "model_name": "DescriptionStyleModel",
      "state": {
       "description_width": ""
      }
     },
     "a8fbe60cfbfa4cfc87851550e75dea41": {
      "model_module": "@jupyter-widgets/base",
      "model_module_version": "1.2.0",
      "model_name": "LayoutModel",
      "state": {}
     },
     "a934e0e605ea498f82ff6dce80b6230d": {
      "model_module": "@jupyter-widgets/base",
      "model_module_version": "1.2.0",
      "model_name": "LayoutModel",
      "state": {}
     },
     "a96ed3c4f9c34bc89c286842ab262a67": {
      "model_module": "@jupyter-widgets/base",
      "model_module_version": "1.2.0",
      "model_name": "LayoutModel",
      "state": {}
     },
     "a9920866fa51415c943a1ae4eaf8b0cb": {
      "model_module": "@jupyter-widgets/controls",
      "model_module_version": "1.5.0",
      "model_name": "DescriptionStyleModel",
      "state": {
       "description_width": ""
      }
     },
     "a9f2b47d6aa747d3a6e3df15ef97b066": {
      "model_module": "@jupyter-widgets/base",
      "model_module_version": "1.2.0",
      "model_name": "LayoutModel",
      "state": {}
     },
     "a9fd0d22ee8b4b75a4cd831604781cf4": {
      "model_module": "@jupyter-widgets/base",
      "model_module_version": "1.2.0",
      "model_name": "LayoutModel",
      "state": {}
     },
     "aa04b35d96aa46719526d6ed5ceb134b": {
      "model_module": "@jupyter-widgets/base",
      "model_module_version": "1.2.0",
      "model_name": "LayoutModel",
      "state": {}
     },
     "aa39c2e4dacb4b36bffe55a280cfe91c": {
      "model_module": "@jupyter-widgets/base",
      "model_module_version": "1.2.0",
      "model_name": "LayoutModel",
      "state": {}
     },
     "ab2173478f8e4779a1b344d609fefd35": {
      "model_module": "@jupyter-widgets/controls",
      "model_module_version": "1.5.0",
      "model_name": "HTMLModel",
      "state": {
       "layout": "IPY_MODEL_36494c169af24a92b76e5e8b8d888092",
       "style": "IPY_MODEL_e14a88f222824f9f81164a4c96ae7ba1",
       "value": " 128/? [00:06&lt;00:00, 41.60it/s]"
      }
     },
     "ac5f32650a4f4ad8a7bcb7285e9f63c3": {
      "model_module": "@jupyter-widgets/controls",
      "model_module_version": "1.5.0",
      "model_name": "HTMLModel",
      "state": {
       "layout": "IPY_MODEL_f4e7f578ff8b406893682b9542311c39",
       "style": "IPY_MODEL_1a8b6fe4148f428e91d1976dbefbf2a1",
       "value": " 8/? [00:03&lt;00:00,  3.05s/it]"
      }
     },
     "ad1c34350e5d47da8f2b14e69f8f2c7e": {
      "model_module": "@jupyter-widgets/controls",
      "model_module_version": "1.5.0",
      "model_name": "DescriptionStyleModel",
      "state": {
       "description_width": ""
      }
     },
     "ad49e4704620413f97fec8d2fcaf7597": {
      "model_module": "@jupyter-widgets/base",
      "model_module_version": "1.2.0",
      "model_name": "LayoutModel",
      "state": {}
     },
     "ad9d2de3e5554d488c3d2cec537d24bc": {
      "model_module": "@jupyter-widgets/base",
      "model_module_version": "1.2.0",
      "model_name": "LayoutModel",
      "state": {}
     },
     "adbca9227cb2474f939d9e0b00df25d1": {
      "model_module": "@jupyter-widgets/base",
      "model_module_version": "1.2.0",
      "model_name": "LayoutModel",
      "state": {}
     },
     "ae1641530c9b4a838d122e03342633f1": {
      "model_module": "@jupyter-widgets/base",
      "model_module_version": "1.2.0",
      "model_name": "LayoutModel",
      "state": {
       "width": "20px"
      }
     },
     "aef88888e2d140a28c3981b68fccaf55": {
      "model_module": "@jupyter-widgets/controls",
      "model_module_version": "1.5.0",
      "model_name": "HTMLModel",
      "state": {
       "layout": "IPY_MODEL_60a8959e2459431ca35fe7ae52142b14",
       "style": "IPY_MODEL_09709dbb5150417f8e6a89ca8918e02d",
       "value": " 1855/1855 [01:01&lt;00:00, 27.16it/s]"
      }
     },
     "af344661e7414b3f8ce07773786e0332": {
      "model_module": "@jupyter-widgets/base",
      "model_module_version": "1.2.0",
      "model_name": "LayoutModel",
      "state": {}
     },
     "af3c1601c18c4f21b6fe2832de6cecf9": {
      "model_module": "@jupyter-widgets/controls",
      "model_module_version": "1.5.0",
      "model_name": "ProgressStyleModel",
      "state": {
       "description_width": ""
      }
     },
     "afa6a48b112843eabada646dd5ffec23": {
      "model_module": "@jupyter-widgets/controls",
      "model_module_version": "1.5.0",
      "model_name": "DescriptionStyleModel",
      "state": {
       "description_width": ""
      }
     },
     "afa98c8772b3491d9351ebc4af28370d": {
      "model_module": "@jupyter-widgets/controls",
      "model_module_version": "1.5.0",
      "model_name": "FloatProgressModel",
      "state": {
       "bar_style": "success",
       "layout": "IPY_MODEL_2b47a02eae21406c856352bf756c5b52",
       "max": 1,
       "style": "IPY_MODEL_a1d729a37bee44d29708f7caeafe3c0e"
      }
     },
     "b040ff0504bc4970b1f2fbec2013dfbc": {
      "model_module": "@jupyter-widgets/base",
      "model_module_version": "1.2.0",
      "model_name": "LayoutModel",
      "state": {}
     },
     "b0b667270b2e429a88ab132aee84b8de": {
      "model_module": "@jupyter-widgets/controls",
      "model_module_version": "1.5.0",
      "model_name": "FloatProgressModel",
      "state": {
       "bar_style": "success",
       "layout": "IPY_MODEL_63de64da86ea4aa79347710649132426",
       "max": 1,
       "style": "IPY_MODEL_f6d132b7617e47479ca1a3abf3a2736d",
       "value": 1
      }
     },
     "b161277489d3414bb1cd9ad090a7f82b": {
      "model_module": "@jupyter-widgets/controls",
      "model_module_version": "1.5.0",
      "model_name": "HBoxModel",
      "state": {
       "children": [
        "IPY_MODEL_e19fc7cf95c049eea70616fa36c48a2c",
        "IPY_MODEL_67df7aca4c69452b912f26340070734e",
        "IPY_MODEL_72b56ba4d6e940449250364f0522908f"
       ],
       "layout": "IPY_MODEL_b78a54bfb65d4cd6879541ce15abfd5c"
      }
     },
     "b17c00fde2884efb8c9a152fe95ef1b6": {
      "model_module": "@jupyter-widgets/controls",
      "model_module_version": "1.5.0",
      "model_name": "DescriptionStyleModel",
      "state": {
       "description_width": ""
      }
     },
     "b1cf1128876a422292cb90b28acfa046": {
      "model_module": "@jupyter-widgets/base",
      "model_module_version": "1.2.0",
      "model_name": "LayoutModel",
      "state": {}
     },
     "b1fe91063c544ab78eead0596862f7e7": {
      "model_module": "@jupyter-widgets/base",
      "model_module_version": "1.2.0",
      "model_name": "LayoutModel",
      "state": {}
     },
     "b2e02325d3064be7877e967bd2eb8f31": {
      "model_module": "@jupyter-widgets/controls",
      "model_module_version": "1.5.0",
      "model_name": "HTMLModel",
      "state": {
       "layout": "IPY_MODEL_f1b4e20eff8f4dc885ff6508849da7e1",
       "style": "IPY_MODEL_70ce1c6a69fe46499ddf912492bdb98d",
       "value": " 0/? [00:02&lt;?, ?it/s]"
      }
     },
     "b302a6d8f6b1484ebd43acd5fb70d327": {
      "model_module": "@jupyter-widgets/base",
      "model_module_version": "1.2.0",
      "model_name": "LayoutModel",
      "state": {
       "width": "20px"
      }
     },
     "b34dc6b88e4e449c9dcdf032d2b824fe": {
      "model_module": "@jupyter-widgets/controls",
      "model_module_version": "1.5.0",
      "model_name": "HBoxModel",
      "state": {
       "children": [
        "IPY_MODEL_a7fcfcd7734d460baa8b489fa09cc466",
        "IPY_MODEL_6e1b06d863904cdebe0d5505ed312603",
        "IPY_MODEL_3192938706304587b5a24f025fa49c7e"
       ],
       "layout": "IPY_MODEL_2bdb06d30c9e425e919aa93c10b8ab60"
      }
     },
     "b3e07ea7620b4084aac8241d28905ca7": {
      "model_module": "@jupyter-widgets/controls",
      "model_module_version": "1.5.0",
      "model_name": "HBoxModel",
      "state": {
       "children": [
        "IPY_MODEL_c91f1f0fb6004faca4fd581ac7f88846",
        "IPY_MODEL_6cc2ca0917d443e7aeca8f4e39c5e321",
        "IPY_MODEL_a32b2a3e5cb34648a7888a5973f76e3a"
       ],
       "layout": "IPY_MODEL_2d7503fa8e0140d09b77b1cf3f5c7467"
      }
     },
     "b3f7e77c572f455eabaa9b87590acefb": {
      "model_module": "@jupyter-widgets/controls",
      "model_module_version": "1.5.0",
      "model_name": "FloatProgressModel",
      "state": {
       "bar_style": "success",
       "layout": "IPY_MODEL_40f601c5dfab4299977f7716a4d89fc5",
       "max": 1,
       "style": "IPY_MODEL_087c94bf1d674944b855acacc50c105a",
       "value": 1
      }
     },
     "b43f694d75c248b3b6dd772dd2bae140": {
      "model_module": "@jupyter-widgets/base",
      "model_module_version": "1.2.0",
      "model_name": "LayoutModel",
      "state": {
       "width": "20px"
      }
     },
     "b496ad81681d4a90ad978c3e094a3b92": {
      "model_module": "@jupyter-widgets/base",
      "model_module_version": "1.2.0",
      "model_name": "LayoutModel",
      "state": {}
     },
     "b556b5eed8844039b1d50023e94aa278": {
      "model_module": "@jupyter-widgets/controls",
      "model_module_version": "1.5.0",
      "model_name": "FloatProgressModel",
      "state": {
       "bar_style": "success",
       "layout": "IPY_MODEL_cf6292c0d3b84cb99cdc080b2518b647",
       "max": 1,
       "style": "IPY_MODEL_0d7f5da62a8a4d90afd6e1f716ccabd7",
       "value": 1
      }
     },
     "b5b95f864538456c850725a6c22b6776": {
      "model_module": "@jupyter-widgets/controls",
      "model_module_version": "1.5.0",
      "model_name": "HTMLModel",
      "state": {
       "layout": "IPY_MODEL_d5a8835fb3ba4593af7024a305f08398",
       "style": "IPY_MODEL_c3e9d78aba1043549afd1415c647941c"
      }
     },
     "b6e5b5f8e4c14311b42356e871a99037": {
      "model_module": "@jupyter-widgets/base",
      "model_module_version": "1.2.0",
      "model_name": "LayoutModel",
      "state": {}
     },
     "b7303d53ed334ecc879b8868439387e3": {
      "model_module": "@jupyter-widgets/controls",
      "model_module_version": "1.5.0",
      "model_name": "ProgressStyleModel",
      "state": {
       "description_width": ""
      }
     },
     "b752dd58f15c4774ad3c90bb2b2ee2c3": {
      "model_module": "@jupyter-widgets/base",
      "model_module_version": "1.2.0",
      "model_name": "LayoutModel",
      "state": {}
     },
     "b754a6393bbe43d7b82fc6dc0fa99aa8": {
      "model_module": "@jupyter-widgets/controls",
      "model_module_version": "1.5.0",
      "model_name": "FloatProgressModel",
      "state": {
       "bar_style": "danger",
       "layout": "IPY_MODEL_69789d22f486409a832333d56427e425",
       "max": 1,
       "style": "IPY_MODEL_39d95bb25d2a43c08e0ee64080b0daac",
       "value": 1
      }
     },
     "b755869008924f70a5c0bad23e66409b": {
      "model_module": "@jupyter-widgets/base",
      "model_module_version": "1.2.0",
      "model_name": "LayoutModel",
      "state": {
       "width": "20px"
      }
     },
     "b75a75d2af16428282f56024cc49ea06": {
      "model_module": "@jupyter-widgets/controls",
      "model_module_version": "1.5.0",
      "model_name": "FloatProgressModel",
      "state": {
       "bar_style": "success",
       "layout": "IPY_MODEL_4d9964a1e34b42e2bfa68753e0478099",
       "max": 1,
       "style": "IPY_MODEL_69e500efd94c4fa684b71317d885c794",
       "value": 1
      }
     },
     "b76a1d66c61a4f9eb6fec5856277e3b2": {
      "model_module": "@jupyter-widgets/controls",
      "model_module_version": "1.5.0",
      "model_name": "FloatProgressModel",
      "state": {
       "bar_style": "success",
       "layout": "IPY_MODEL_b81ad5c8fa064c30b8aeb3ad7aa57a59",
       "max": 1,
       "style": "IPY_MODEL_8509a22417d5434a99a853c1ec0f8174",
       "value": 1
      }
     },
     "b78a54bfb65d4cd6879541ce15abfd5c": {
      "model_module": "@jupyter-widgets/base",
      "model_module_version": "1.2.0",
      "model_name": "LayoutModel",
      "state": {}
     },
     "b7b5195984d947c9b94597e9d8fa0444": {
      "model_module": "@jupyter-widgets/controls",
      "model_module_version": "1.5.0",
      "model_name": "DescriptionStyleModel",
      "state": {
       "description_width": ""
      }
     },
     "b80a2d8d131247068038dc872c5f1a69": {
      "model_module": "@jupyter-widgets/base",
      "model_module_version": "1.2.0",
      "model_name": "LayoutModel",
      "state": {}
     },
     "b81ad5c8fa064c30b8aeb3ad7aa57a59": {
      "model_module": "@jupyter-widgets/base",
      "model_module_version": "1.2.0",
      "model_name": "LayoutModel",
      "state": {
       "width": "20px"
      }
     },
     "b871adc64ed042cfa2231e7c95d79b33": {
      "model_module": "@jupyter-widgets/controls",
      "model_module_version": "1.5.0",
      "model_name": "HBoxModel",
      "state": {
       "children": [
        "IPY_MODEL_154a051889294932ad7e025b3e512077",
        "IPY_MODEL_4942a1e80dd84fe5b0bbf92e6314352a",
        "IPY_MODEL_a6c319667eb84f4c80846efd7f948bd8"
       ],
       "layout": "IPY_MODEL_8f57706b74284d47a4342e3acc00fb9b"
      }
     },
     "b8f5d748d7514fa8930813b5bc985250": {
      "model_module": "@jupyter-widgets/controls",
      "model_module_version": "1.5.0",
      "model_name": "HTMLModel",
      "state": {
       "layout": "IPY_MODEL_4c37953e2c5b49278c0d7a8fee66aaed",
       "style": "IPY_MODEL_98127b4cc55d46999e59ec38b9e54f38",
       "value": " 790/790 [00:25&lt;00:00, 29.07it/s]"
      }
     },
     "b9284c7173f347c4acdb700eba5cfe72": {
      "model_module": "@jupyter-widgets/controls",
      "model_module_version": "1.5.0",
      "model_name": "FloatProgressModel",
      "state": {
       "bar_style": "success",
       "layout": "IPY_MODEL_03471068e3d44b6fbeb15ef9a5aff12e",
       "max": 1,
       "style": "IPY_MODEL_cddf77a5b7224463924410f46aeae410",
       "value": 1
      }
     },
     "b9750d6e49574a50a47e435dcf7bc809": {
      "model_module": "@jupyter-widgets/controls",
      "model_module_version": "1.5.0",
      "model_name": "HTMLModel",
      "state": {
       "layout": "IPY_MODEL_22d4ec31bd3544148541c81540377a4f",
       "style": "IPY_MODEL_ea8e3b5c865b4345a8b569e8851b39f3"
      }
     },
     "ba2f9049805043d6b3c4a15ffb5a84d2": {
      "model_module": "@jupyter-widgets/base",
      "model_module_version": "1.2.0",
      "model_name": "LayoutModel",
      "state": {}
     },
     "bac099eed35f4670b0baba686a33a705": {
      "model_module": "@jupyter-widgets/controls",
      "model_module_version": "1.5.0",
      "model_name": "HTMLModel",
      "state": {
       "layout": "IPY_MODEL_a10974f0d67f48e783de1a8e47276b19",
       "style": "IPY_MODEL_c781d1b0f8e1442497c84280263bf91e",
       "value": " 260/260 [00:07&lt;00:00, 60.42it/s]"
      }
     },
     "bae94fcf00874ef8a0d2407083545e66": {
      "model_module": "@jupyter-widgets/base",
      "model_module_version": "1.2.0",
      "model_name": "LayoutModel",
      "state": {}
     },
     "bbae39fd18c445b7ae091eb69e6f3380": {
      "model_module": "@jupyter-widgets/controls",
      "model_module_version": "1.5.0",
      "model_name": "HTMLModel",
      "state": {
       "layout": "IPY_MODEL_eccaceed6a9f44c985f965df5893a7ac",
       "style": "IPY_MODEL_b7b5195984d947c9b94597e9d8fa0444",
       "value": "100%"
      }
     },
     "bbe11a74b93246e89ba363ffd3a7aef1": {
      "model_module": "@jupyter-widgets/controls",
      "model_module_version": "1.5.0",
      "model_name": "HTMLModel",
      "state": {
       "layout": "IPY_MODEL_0532a2ce7bd44872b3c78311dd8e6464",
       "style": "IPY_MODEL_0ab955fae3c841c3988b2e5f0a22bbdc",
       "value": " 1048/1048 [01:00&lt;00:00, 19.58it/s]"
      }
     },
     "bc0719a22518417ca3effbd94f1298c5": {
      "model_module": "@jupyter-widgets/controls",
      "model_module_version": "1.5.0",
      "model_name": "DescriptionStyleModel",
      "state": {
       "description_width": ""
      }
     },
     "bc0f475e9f994919984aac5b94e56857": {
      "model_module": "@jupyter-widgets/controls",
      "model_module_version": "1.5.0",
      "model_name": "DescriptionStyleModel",
      "state": {
       "description_width": ""
      }
     },
     "bc635541da1e4ac7ba8db920304aab35": {
      "model_module": "@jupyter-widgets/controls",
      "model_module_version": "1.5.0",
      "model_name": "HTMLModel",
      "state": {
       "layout": "IPY_MODEL_206c07588b344452874164a252b39a8b",
       "style": "IPY_MODEL_dea042c4a81b43c7a58521722b75f515",
       "value": " 0/? [00:03&lt;?, ?it/s]"
      }
     },
     "bc757afe60b840b8a8117c59f7c2688f": {
      "model_module": "@jupyter-widgets/base",
      "model_module_version": "1.2.0",
      "model_name": "LayoutModel",
      "state": {}
     },
     "bcaa9ea00d3c4e8589983ce05b9d2137": {
      "model_module": "@jupyter-widgets/controls",
      "model_module_version": "1.5.0",
      "model_name": "FloatProgressModel",
      "state": {
       "bar_style": "success",
       "layout": "IPY_MODEL_2f1a7005674a4d068dbdc8810feb6a35",
       "max": 1,
       "style": "IPY_MODEL_08058994a6874697b01d1c29f2724f8f",
       "value": 1
      }
     },
     "bd4aad4ceec24b1a85435f286a42ad7f": {
      "model_module": "@jupyter-widgets/controls",
      "model_module_version": "1.5.0",
      "model_name": "FloatProgressModel",
      "state": {
       "bar_style": "success",
       "layout": "IPY_MODEL_05e8644f036f4950b7e4bbced0734134",
       "max": 1,
       "style": "IPY_MODEL_32944920fbfe42bd8b67183e0a898c0c",
       "value": 1
      }
     },
     "bd5a2f285b194bdb98a7de2e588b6df0": {
      "model_module": "@jupyter-widgets/controls",
      "model_module_version": "1.5.0",
      "model_name": "HTMLModel",
      "state": {
       "layout": "IPY_MODEL_7b03c9ee197f4266bb635b6a1ca27bcd",
       "style": "IPY_MODEL_fa89e72fc14d43d79e7fe5bfaf3f2608",
       "value": " 0/? [00:03&lt;?, ?it/s]"
      }
     },
     "bd7a9a4d469340ef8ac1794d3d730fe8": {
      "model_module": "@jupyter-widgets/controls",
      "model_module_version": "1.5.0",
      "model_name": "HTMLModel",
      "state": {
       "layout": "IPY_MODEL_f5f7c86be03d4907bce7a736b7724ca8",
       "style": "IPY_MODEL_fa2e3044c7e749e3bb0d3e705b7b7d79"
      }
     },
     "bdead34f5768427d8a415d267f748ca9": {
      "model_module": "@jupyter-widgets/controls",
      "model_module_version": "1.5.0",
      "model_name": "DescriptionStyleModel",
      "state": {
       "description_width": ""
      }
     },
     "beb036c4369e4a67b27c384d7abfe478": {
      "model_module": "@jupyter-widgets/base",
      "model_module_version": "1.2.0",
      "model_name": "LayoutModel",
      "state": {}
     },
     "bee63692cbc94f4a9c0e724c563ea3d1": {
      "model_module": "@jupyter-widgets/controls",
      "model_module_version": "1.5.0",
      "model_name": "DescriptionStyleModel",
      "state": {
       "description_width": ""
      }
     },
     "beecd80429654fee8e1b9e657bc34bc7": {
      "model_module": "@jupyter-widgets/base",
      "model_module_version": "1.2.0",
      "model_name": "LayoutModel",
      "state": {}
     },
     "bef6332018774917bb4b6adcb1bf8828": {
      "model_module": "@jupyter-widgets/controls",
      "model_module_version": "1.5.0",
      "model_name": "HTMLModel",
      "state": {
       "layout": "IPY_MODEL_36f2642a842246e7a26ef542513b4fec",
       "style": "IPY_MODEL_5dcc4834d1534aa2926e3369f96f25b7"
      }
     },
     "bf2457d4c77c4a62a6c6063be597e1bb": {
      "model_module": "@jupyter-widgets/base",
      "model_module_version": "1.2.0",
      "model_name": "LayoutModel",
      "state": {
       "width": "20px"
      }
     },
     "bf5de3082b5f4279a5a2591918249445": {
      "model_module": "@jupyter-widgets/controls",
      "model_module_version": "1.5.0",
      "model_name": "DescriptionStyleModel",
      "state": {
       "description_width": ""
      }
     },
     "bf7c46e8c87e4975ba1fc21d058a80ab": {
      "model_module": "@jupyter-widgets/controls",
      "model_module_version": "1.5.0",
      "model_name": "ProgressStyleModel",
      "state": {
       "description_width": ""
      }
     },
     "c017f8ed5fcf46ed92dcb01914ea7cd3": {
      "model_module": "@jupyter-widgets/controls",
      "model_module_version": "1.5.0",
      "model_name": "DescriptionStyleModel",
      "state": {
       "description_width": ""
      }
     },
     "c04c70f8bd1c4a9abffc395bf61f36dc": {
      "model_module": "@jupyter-widgets/controls",
      "model_module_version": "1.5.0",
      "model_name": "HTMLModel",
      "state": {
       "layout": "IPY_MODEL_b80a2d8d131247068038dc872c5f1a69",
       "style": "IPY_MODEL_8d60a3bccf1c4e10a77984fe110986af"
      }
     },
     "c0a40a0ee4b248c696829c29fe78cefd": {
      "model_module": "@jupyter-widgets/controls",
      "model_module_version": "1.5.0",
      "model_name": "HBoxModel",
      "state": {
       "children": [
        "IPY_MODEL_59b7237e9b3b4fc1afa107470419063c",
        "IPY_MODEL_c5aa1d1911a548dc8b6df1975e0a4460",
        "IPY_MODEL_7102d97235894aefaf9b645940c769c3"
       ],
       "layout": "IPY_MODEL_a15433a757f142adb4e554b9532fa98e"
      }
     },
     "c0a984ecea354cfc9c513f628cc30168": {
      "model_module": "@jupyter-widgets/base",
      "model_module_version": "1.2.0",
      "model_name": "LayoutModel",
      "state": {}
     },
     "c0cca476ffd54f0fa74811a80ba070c9": {
      "model_module": "@jupyter-widgets/controls",
      "model_module_version": "1.5.0",
      "model_name": "DescriptionStyleModel",
      "state": {
       "description_width": ""
      }
     },
     "c12ed74c774848d190276bd181e93771": {
      "model_module": "@jupyter-widgets/controls",
      "model_module_version": "1.5.0",
      "model_name": "FloatProgressModel",
      "state": {
       "bar_style": "success",
       "layout": "IPY_MODEL_8af75c1fc07440599c107f81324b6e19",
       "max": 1,
       "style": "IPY_MODEL_a3188594baf247f2a83e85c1fae3de25"
      }
     },
     "c1379d37cc084db8a85fd36cfff49310": {
      "model_module": "@jupyter-widgets/controls",
      "model_module_version": "1.5.0",
      "model_name": "DescriptionStyleModel",
      "state": {
       "description_width": ""
      }
     },
     "c17e26cd1b5c4ebdbbd990becacc08f4": {
      "model_module": "@jupyter-widgets/base",
      "model_module_version": "1.2.0",
      "model_name": "LayoutModel",
      "state": {
       "width": "20px"
      }
     },
     "c1bc390c959745e0b850123ee54c86da": {
      "model_module": "@jupyter-widgets/controls",
      "model_module_version": "1.5.0",
      "model_name": "HTMLModel",
      "state": {
       "layout": "IPY_MODEL_c2c7774b3fbc4420a041c61ce6219b3b",
       "style": "IPY_MODEL_8f37b80ad26842a784cdd542a3e2acd0"
      }
     },
     "c2497094f7de445db8b476db1cc18619": {
      "model_module": "@jupyter-widgets/base",
      "model_module_version": "1.2.0",
      "model_name": "LayoutModel",
      "state": {}
     },
     "c2c7774b3fbc4420a041c61ce6219b3b": {
      "model_module": "@jupyter-widgets/base",
      "model_module_version": "1.2.0",
      "model_name": "LayoutModel",
      "state": {}
     },
     "c2f1367849df458a85e8da2d033bb0c4": {
      "model_module": "@jupyter-widgets/controls",
      "model_module_version": "1.5.0",
      "model_name": "FloatProgressModel",
      "state": {
       "bar_style": "success",
       "layout": "IPY_MODEL_f7b1be58dcd644bc9b6afbf55e5a6fba",
       "max": 1,
       "style": "IPY_MODEL_426df835a45c4c08924d68fa5bdd6caf",
       "value": 1
      }
     },
     "c38d242a71e948dd96b557773039e188": {
      "model_module": "@jupyter-widgets/base",
      "model_module_version": "1.2.0",
      "model_name": "LayoutModel",
      "state": {}
     },
     "c3e9d78aba1043549afd1415c647941c": {
      "model_module": "@jupyter-widgets/controls",
      "model_module_version": "1.5.0",
      "model_name": "DescriptionStyleModel",
      "state": {
       "description_width": ""
      }
     },
     "c44f10dbb2764129951e28892825f32a": {
      "model_module": "@jupyter-widgets/controls",
      "model_module_version": "1.5.0",
      "model_name": "DescriptionStyleModel",
      "state": {
       "description_width": ""
      }
     },
     "c4dcdee6ebfb4adbb547c7c4cc8401e2": {
      "model_module": "@jupyter-widgets/base",
      "model_module_version": "1.2.0",
      "model_name": "LayoutModel",
      "state": {}
     },
     "c502d2d91d184235be54ed235f704510": {
      "model_module": "@jupyter-widgets/controls",
      "model_module_version": "1.5.0",
      "model_name": "HTMLModel",
      "state": {
       "layout": "IPY_MODEL_8766e078ab764dc7b4b39e654f15d7b3",
       "style": "IPY_MODEL_fea389a724154cb98265e63585265aa9",
       "value": "100%"
      }
     },
     "c5aa1d1911a548dc8b6df1975e0a4460": {
      "model_module": "@jupyter-widgets/controls",
      "model_module_version": "1.5.0",
      "model_name": "FloatProgressModel",
      "state": {
       "bar_style": "success",
       "layout": "IPY_MODEL_07e528b18b3240daa34ccb88754c9d73",
       "max": 1,
       "style": "IPY_MODEL_f6918da358ee4906abc728324bc053c7",
       "value": 1
      }
     },
     "c5dbc09510e64b49a30a9329cd7a8d51": {
      "model_module": "@jupyter-widgets/controls",
      "model_module_version": "1.5.0",
      "model_name": "DescriptionStyleModel",
      "state": {
       "description_width": ""
      }
     },
     "c7706e0a652e4e5facfef61b676fe661": {
      "model_module": "@jupyter-widgets/controls",
      "model_module_version": "1.5.0",
      "model_name": "HTMLModel",
      "state": {
       "layout": "IPY_MODEL_f4f9afc7234b49439a0be8817c31e7cd",
       "style": "IPY_MODEL_bee63692cbc94f4a9c0e724c563ea3d1",
       "value": "100%"
      }
     },
     "c77f717ff1754c369228f675e7565aa6": {
      "model_module": "@jupyter-widgets/controls",
      "model_module_version": "1.5.0",
      "model_name": "DescriptionStyleModel",
      "state": {
       "description_width": ""
      }
     },
     "c781d1b0f8e1442497c84280263bf91e": {
      "model_module": "@jupyter-widgets/controls",
      "model_module_version": "1.5.0",
      "model_name": "DescriptionStyleModel",
      "state": {
       "description_width": ""
      }
     },
     "c7c28d815a054dbbbc1e60fe65f1cde2": {
      "model_module": "@jupyter-widgets/base",
      "model_module_version": "1.2.0",
      "model_name": "LayoutModel",
      "state": {}
     },
     "c7ff14ae08954e6185084b52822d888b": {
      "model_module": "@jupyter-widgets/base",
      "model_module_version": "1.2.0",
      "model_name": "LayoutModel",
      "state": {}
     },
     "c8223f88a41542eaa04777adad474162": {
      "model_module": "@jupyter-widgets/controls",
      "model_module_version": "1.5.0",
      "model_name": "FloatProgressModel",
      "state": {
       "bar_style": "success",
       "layout": "IPY_MODEL_9f8c3b55adcc42b88b051ad275784c46",
       "max": 1,
       "style": "IPY_MODEL_89307bfae6a3496f933f99ba909f73d3",
       "value": 1
      }
     },
     "c8ab2d8074cf4779bf62ba70607d962a": {
      "model_module": "@jupyter-widgets/controls",
      "model_module_version": "1.5.0",
      "model_name": "DescriptionStyleModel",
      "state": {
       "description_width": ""
      }
     },
     "c8acd38e654543dd9364efef64e05e0e": {
      "model_module": "@jupyter-widgets/controls",
      "model_module_version": "1.5.0",
      "model_name": "HTMLModel",
      "state": {
       "layout": "IPY_MODEL_aa39c2e4dacb4b36bffe55a280cfe91c",
       "style": "IPY_MODEL_afa6a48b112843eabada646dd5ffec23",
       "value": " 1000531/1000531 [7:28:10&lt;00:00, 13.25it/s]"
      }
     },
     "c8eec431c7924907ac8c2210e2080c91": {
      "model_module": "@jupyter-widgets/controls",
      "model_module_version": "1.5.0",
      "model_name": "ProgressStyleModel",
      "state": {
       "description_width": ""
      }
     },
     "c91f1f0fb6004faca4fd581ac7f88846": {
      "model_module": "@jupyter-widgets/controls",
      "model_module_version": "1.5.0",
      "model_name": "HTMLModel",
      "state": {
       "layout": "IPY_MODEL_48d3205679994deaacfc8b411dc076b8",
       "style": "IPY_MODEL_1bba0926e8744bf8a9ba100861c06ebc"
      }
     },
     "c9ca8c60b0344a74a1cdd12db77edbd2": {
      "model_module": "@jupyter-widgets/base",
      "model_module_version": "1.2.0",
      "model_name": "LayoutModel",
      "state": {}
     },
     "c9fdfa896c1945efbcb23a91230e2727": {
      "model_module": "@jupyter-widgets/controls",
      "model_module_version": "1.5.0",
      "model_name": "HTMLModel",
      "state": {
       "layout": "IPY_MODEL_6182f677806d401b9d0955b4c07f8468",
       "style": "IPY_MODEL_e23e61899ebb4a458b6953cacc37d0cb",
       "value": " 2171/2171 [00:31&lt;00:00, 68.41it/s]"
      }
     },
     "ca673ac8b1e14ec09ac299312c13187f": {
      "model_module": "@jupyter-widgets/base",
      "model_module_version": "1.2.0",
      "model_name": "LayoutModel",
      "state": {
       "width": "20px"
      }
     },
     "ca7bb4e7c1e64b53a10d3fd950acaf9d": {
      "model_module": "@jupyter-widgets/base",
      "model_module_version": "1.2.0",
      "model_name": "LayoutModel",
      "state": {}
     },
     "cb2911e4be8d44d19c1655a5cc77dc41": {
      "model_module": "@jupyter-widgets/base",
      "model_module_version": "1.2.0",
      "model_name": "LayoutModel",
      "state": {}
     },
     "cb8a183026b4439ca1603e202ca521a5": {
      "model_module": "@jupyter-widgets/controls",
      "model_module_version": "1.5.0",
      "model_name": "HTMLModel",
      "state": {
       "layout": "IPY_MODEL_1c38974612bf4ab08a339b039c9cad41",
       "style": "IPY_MODEL_004a72a4596e4e8c918054a7c6af694c",
       "value": "100%"
      }
     },
     "cb9b0964884841f294f0ebf2ea92ac0e": {
      "model_module": "@jupyter-widgets/controls",
      "model_module_version": "1.5.0",
      "model_name": "DescriptionStyleModel",
      "state": {
       "description_width": ""
      }
     },
     "cc10dfabe8a14c04809532ece3cd3ecb": {
      "model_module": "@jupyter-widgets/base",
      "model_module_version": "1.2.0",
      "model_name": "LayoutModel",
      "state": {
       "width": "20px"
      }
     },
     "cc498bd3b3a04e5dbbb44c19a80439f7": {
      "model_module": "@jupyter-widgets/controls",
      "model_module_version": "1.5.0",
      "model_name": "DescriptionStyleModel",
      "state": {
       "description_width": ""
      }
     },
     "cc7f4101531944fa93936f8f090ac6aa": {
      "model_module": "@jupyter-widgets/controls",
      "model_module_version": "1.5.0",
      "model_name": "ProgressStyleModel",
      "state": {
       "description_width": ""
      }
     },
     "cc8f08ae3d2d435a81a3371370afeaa7": {
      "model_module": "@jupyter-widgets/controls",
      "model_module_version": "1.5.0",
      "model_name": "FloatProgressModel",
      "state": {
       "bar_style": "success",
       "layout": "IPY_MODEL_1f5c749289624685bc61057fad55d811",
       "max": 1,
       "style": "IPY_MODEL_f147ff93959c4d71b4702ce9a27c4ca9",
       "value": 1
      }
     },
     "ccc5c96e7245409fa64059cfef468ba3": {
      "model_module": "@jupyter-widgets/controls",
      "model_module_version": "1.5.0",
      "model_name": "HTMLModel",
      "state": {
       "layout": "IPY_MODEL_e31610f569f749eeb3f41a71df590649",
       "style": "IPY_MODEL_12a7c2c7f39e4c0e8d171a8187a1d409",
       "value": "100%"
      }
     },
     "cce66ccd15434e91b1b3f7417f6093bb": {
      "model_module": "@jupyter-widgets/base",
      "model_module_version": "1.2.0",
      "model_name": "LayoutModel",
      "state": {}
     },
     "cd1451b057c848f9bd10d370f7c5b7ad": {
      "model_module": "@jupyter-widgets/base",
      "model_module_version": "1.2.0",
      "model_name": "LayoutModel",
      "state": {}
     },
     "cddf77a5b7224463924410f46aeae410": {
      "model_module": "@jupyter-widgets/controls",
      "model_module_version": "1.5.0",
      "model_name": "ProgressStyleModel",
      "state": {
       "description_width": ""
      }
     },
     "cf6292c0d3b84cb99cdc080b2518b647": {
      "model_module": "@jupyter-widgets/base",
      "model_module_version": "1.2.0",
      "model_name": "LayoutModel",
      "state": {
       "width": "20px"
      }
     },
     "cf8db93fd62942758a2ccbd4136d98f7": {
      "model_module": "@jupyter-widgets/base",
      "model_module_version": "1.2.0",
      "model_name": "LayoutModel",
      "state": {}
     },
     "cfb8ec71ff204d53b8facaf031dc33d8": {
      "model_module": "@jupyter-widgets/base",
      "model_module_version": "1.2.0",
      "model_name": "LayoutModel",
      "state": {}
     },
     "d03fdb962c834d419eca5780453f4559": {
      "model_module": "@jupyter-widgets/base",
      "model_module_version": "1.2.0",
      "model_name": "LayoutModel",
      "state": {}
     },
     "d1229d03d1674313a142bae8c46a8cc8": {
      "model_module": "@jupyter-widgets/controls",
      "model_module_version": "1.5.0",
      "model_name": "ProgressStyleModel",
      "state": {
       "description_width": ""
      }
     },
     "d2f3e1ef932e42f18b527c8b88ebc93d": {
      "model_module": "@jupyter-widgets/controls",
      "model_module_version": "1.5.0",
      "model_name": "HBoxModel",
      "state": {
       "children": [
        "IPY_MODEL_b9750d6e49574a50a47e435dcf7bc809",
        "IPY_MODEL_c2f1367849df458a85e8da2d033bb0c4",
        "IPY_MODEL_99ede88209484d4d87d8c23824ba0fbf"
       ],
       "layout": "IPY_MODEL_34539e156a6b48d6a348c2661f1b88d0"
      }
     },
     "d2f52cca9d9d4ddbaccb1c1cabeee8ca": {
      "model_module": "@jupyter-widgets/controls",
      "model_module_version": "1.5.0",
      "model_name": "FloatProgressModel",
      "state": {
       "bar_style": "success",
       "layout": "IPY_MODEL_c17e26cd1b5c4ebdbbd990becacc08f4",
       "max": 1,
       "style": "IPY_MODEL_fb985b10e690451193270de44eb33fe1",
       "value": 1
      }
     },
     "d2f7f95e24df460b9a204c0d18132184": {
      "model_module": "@jupyter-widgets/controls",
      "model_module_version": "1.5.0",
      "model_name": "DescriptionStyleModel",
      "state": {
       "description_width": ""
      }
     },
     "d31f765d2af148018093bf1d3f731a67": {
      "model_module": "@jupyter-widgets/controls",
      "model_module_version": "1.5.0",
      "model_name": "ProgressStyleModel",
      "state": {
       "description_width": ""
      }
     },
     "d331f2b37b5044da90a746c7a734b195": {
      "model_module": "@jupyter-widgets/controls",
      "model_module_version": "1.5.0",
      "model_name": "HTMLModel",
      "state": {
       "layout": "IPY_MODEL_1423c1de975047d29e0846a9d93b5105",
       "style": "IPY_MODEL_2332f4858843414fb8c9584ee34d0544",
       "value": " 0/? [00:02&lt;?, ?it/s]"
      }
     },
     "d365ceaf61f44d28a54023126c9d4716": {
      "model_module": "@jupyter-widgets/base",
      "model_module_version": "1.2.0",
      "model_name": "LayoutModel",
      "state": {}
     },
     "d400fa77292a45a2a7e400045c012c52": {
      "model_module": "@jupyter-widgets/controls",
      "model_module_version": "1.5.0",
      "model_name": "HTMLModel",
      "state": {
       "layout": "IPY_MODEL_325acbcc42154a47a4cb098c884607ad",
       "style": "IPY_MODEL_ddc5d0abe82340b6bd2597ae7bb9e60e",
       "value": " 61336/61336 [20:14&lt;00:00, 35.25it/s]"
      }
     },
     "d4bb725061f649988669d7a363fe17d5": {
      "model_module": "@jupyter-widgets/controls",
      "model_module_version": "1.5.0",
      "model_name": "DescriptionStyleModel",
      "state": {
       "description_width": ""
      }
     },
     "d4cdbb1699f44953a0f02832428b8bf7": {
      "model_module": "@jupyter-widgets/base",
      "model_module_version": "1.2.0",
      "model_name": "LayoutModel",
      "state": {
       "width": "20px"
      }
     },
     "d5a8835fb3ba4593af7024a305f08398": {
      "model_module": "@jupyter-widgets/base",
      "model_module_version": "1.2.0",
      "model_name": "LayoutModel",
      "state": {}
     },
     "d5c10d74eb0d4227941ade98401e88f6": {
      "model_module": "@jupyter-widgets/controls",
      "model_module_version": "1.5.0",
      "model_name": "DescriptionStyleModel",
      "state": {
       "description_width": ""
      }
     },
     "d5d9834f8b794b69979275ebaa2b32e5": {
      "model_module": "@jupyter-widgets/controls",
      "model_module_version": "1.5.0",
      "model_name": "DescriptionStyleModel",
      "state": {
       "description_width": ""
      }
     },
     "d5e9175802c3488daf2fd578d3bc51c3": {
      "model_module": "@jupyter-widgets/controls",
      "model_module_version": "1.5.0",
      "model_name": "HTMLModel",
      "state": {
       "layout": "IPY_MODEL_8e5a92b347c445f6896d07160bc26963",
       "style": "IPY_MODEL_787de0d5f475427f923e62bc0031b129",
       "value": "100%"
      }
     },
     "d60841249279474abea6d8dcee350106": {
      "model_module": "@jupyter-widgets/controls",
      "model_module_version": "1.5.0",
      "model_name": "ProgressStyleModel",
      "state": {
       "description_width": ""
      }
     },
     "d6ad1069fd2e4ae2b5e240fb374469fe": {
      "model_module": "@jupyter-widgets/controls",
      "model_module_version": "1.5.0",
      "model_name": "ProgressStyleModel",
      "state": {
       "description_width": ""
      }
     },
     "d6be9f22a53a495ab60627651ac8ce08": {
      "model_module": "@jupyter-widgets/controls",
      "model_module_version": "1.5.0",
      "model_name": "ProgressStyleModel",
      "state": {
       "description_width": ""
      }
     },
     "d848f393ebe54372a3e334b95a94cc3a": {
      "model_module": "@jupyter-widgets/base",
      "model_module_version": "1.2.0",
      "model_name": "LayoutModel",
      "state": {}
     },
     "d8dceb966c29447196f6f67e0822a7d5": {
      "model_module": "@jupyter-widgets/controls",
      "model_module_version": "1.5.0",
      "model_name": "HTMLModel",
      "state": {
       "layout": "IPY_MODEL_47fa641eb22c4b60b63dad47ef17fd66",
       "style": "IPY_MODEL_9f0eab14015345c7b218b19c89942d96"
      }
     },
     "d8f264d3e3bb461aab2b02a652173e7a": {
      "model_module": "@jupyter-widgets/controls",
      "model_module_version": "1.5.0",
      "model_name": "ProgressStyleModel",
      "state": {
       "description_width": ""
      }
     },
     "d9232d239bf3480ea59a9e0d9d0bb179": {
      "model_module": "@jupyter-widgets/controls",
      "model_module_version": "1.5.0",
      "model_name": "FloatProgressModel",
      "state": {
       "bar_style": "success",
       "layout": "IPY_MODEL_608af84ed8e848d0bea063a3654100ce",
       "max": 1,
       "style": "IPY_MODEL_0441390538ea4bf49be057b307073718",
       "value": 1
      }
     },
     "d9946cbab1a54b3f824c282e92dbcbc3": {
      "model_module": "@jupyter-widgets/base",
      "model_module_version": "1.2.0",
      "model_name": "LayoutModel",
      "state": {}
     },
     "d9cfec67810f4947bdbfc56ae49b5086": {
      "model_module": "@jupyter-widgets/controls",
      "model_module_version": "1.5.0",
      "model_name": "HTMLModel",
      "state": {
       "layout": "IPY_MODEL_af344661e7414b3f8ce07773786e0332",
       "style": "IPY_MODEL_e038ba6ccf314fcda4c5791ff45eb666",
       "value": " 0/? [00:03&lt;?, ?it/s]"
      }
     },
     "d9d2bc20926847a99613024d2ca9523e": {
      "model_module": "@jupyter-widgets/base",
      "model_module_version": "1.2.0",
      "model_name": "LayoutModel",
      "state": {}
     },
     "da55a1f27a82406b9f861d6069f20bdf": {
      "model_module": "@jupyter-widgets/base",
      "model_module_version": "1.2.0",
      "model_name": "LayoutModel",
      "state": {}
     },
     "da603362403149e4a4f7aa7c8123714b": {
      "model_module": "@jupyter-widgets/controls",
      "model_module_version": "1.5.0",
      "model_name": "DescriptionStyleModel",
      "state": {
       "description_width": ""
      }
     },
     "da6990a115784385848fa0f7df1bef8c": {
      "model_module": "@jupyter-widgets/controls",
      "model_module_version": "1.5.0",
      "model_name": "HTMLModel",
      "state": {
       "layout": "IPY_MODEL_3f94921822024c14b55ded694cf84361",
       "style": "IPY_MODEL_9743ea60b2fc45b09aec381cf3f5fef4",
       "value": "100%"
      }
     },
     "da823bb3013c4609824868876b60f1c4": {
      "model_module": "@jupyter-widgets/base",
      "model_module_version": "1.2.0",
      "model_name": "LayoutModel",
      "state": {
       "width": "20px"
      }
     },
     "dacbf8bbaeed487f8bf94e5d20769eeb": {
      "model_module": "@jupyter-widgets/controls",
      "model_module_version": "1.5.0",
      "model_name": "HTMLModel",
      "state": {
       "layout": "IPY_MODEL_2bf254200ae74d549c1a3d2daa8c6766",
       "style": "IPY_MODEL_5cd75c1086a7465ca9bd83abfc072bc1"
      }
     },
     "db06a1e137f2425aa7285f43c697fbe6": {
      "model_module": "@jupyter-widgets/base",
      "model_module_version": "1.2.0",
      "model_name": "LayoutModel",
      "state": {
       "width": "20px"
      }
     },
     "db51dd587b33416fbbd2b9f0a92fcb27": {
      "model_module": "@jupyter-widgets/controls",
      "model_module_version": "1.5.0",
      "model_name": "HTMLModel",
      "state": {
       "layout": "IPY_MODEL_e865d937fc6e4161a5f76b5a1ba5279f",
       "style": "IPY_MODEL_c0cca476ffd54f0fa74811a80ba070c9",
       "value": " 55/? [00:07&lt;00:00, 15.47it/s]"
      }
     },
     "db5408fe25e24fe5bd1eccf4ba023a2c": {
      "model_module": "@jupyter-widgets/base",
      "model_module_version": "1.2.0",
      "model_name": "LayoutModel",
      "state": {
       "width": "20px"
      }
     },
     "dc29718ec0fa4a2bb9763d9889a5fd47": {
      "model_module": "@jupyter-widgets/controls",
      "model_module_version": "1.5.0",
      "model_name": "DescriptionStyleModel",
      "state": {
       "description_width": ""
      }
     },
     "dcc007735c204ad0a63270f73d2174fd": {
      "model_module": "@jupyter-widgets/base",
      "model_module_version": "1.2.0",
      "model_name": "LayoutModel",
      "state": {}
     },
     "dcccc2a6fa224b0a87cf9de36932dce3": {
      "model_module": "@jupyter-widgets/controls",
      "model_module_version": "1.5.0",
      "model_name": "HBoxModel",
      "state": {
       "children": [
        "IPY_MODEL_2aaa09ae2df34a63a00e8458bc276ab1",
        "IPY_MODEL_de58af04a63d41e6ae83e5aeac6e42fa",
        "IPY_MODEL_b8f5d748d7514fa8930813b5bc985250"
       ],
       "layout": "IPY_MODEL_19a2a88fb5e741a38e6c0e572ed473c5"
      }
     },
     "dd6f0316c2874545b6980fcbfaa2f990": {
      "model_module": "@jupyter-widgets/base",
      "model_module_version": "1.2.0",
      "model_name": "LayoutModel",
      "state": {}
     },
     "ddc5d0abe82340b6bd2597ae7bb9e60e": {
      "model_module": "@jupyter-widgets/controls",
      "model_module_version": "1.5.0",
      "model_name": "DescriptionStyleModel",
      "state": {
       "description_width": ""
      }
     },
     "ddef5f9172d64dccb629eacf407283f9": {
      "model_module": "@jupyter-widgets/controls",
      "model_module_version": "1.5.0",
      "model_name": "DescriptionStyleModel",
      "state": {
       "description_width": ""
      }
     },
     "ddf476d24a824afb9f521f877aacff7f": {
      "model_module": "@jupyter-widgets/controls",
      "model_module_version": "1.5.0",
      "model_name": "HBoxModel",
      "state": {
       "children": [
        "IPY_MODEL_40ac7e1956004ea383831ab88c4da90c",
        "IPY_MODEL_55ff9877dfb048ed9637e7904add2cfe",
        "IPY_MODEL_e8d5d40828b24789874c90924ea73348"
       ],
       "layout": "IPY_MODEL_eb2949097f624706b8fdd7aab583375f"
      }
     },
     "de33410b000c48579df825d5fd6189a8": {
      "model_module": "@jupyter-widgets/base",
      "model_module_version": "1.2.0",
      "model_name": "LayoutModel",
      "state": {}
     },
     "de58af04a63d41e6ae83e5aeac6e42fa": {
      "model_module": "@jupyter-widgets/controls",
      "model_module_version": "1.5.0",
      "model_name": "FloatProgressModel",
      "state": {
       "bar_style": "success",
       "layout": "IPY_MODEL_d4cdbb1699f44953a0f02832428b8bf7",
       "max": 1,
       "style": "IPY_MODEL_2845c19ee5ca4dc8ae93f435216253f9",
       "value": 1
      }
     },
     "de6963d1a0184108a2eb3f1ed516dea9": {
      "model_module": "@jupyter-widgets/base",
      "model_module_version": "1.2.0",
      "model_name": "LayoutModel",
      "state": {}
     },
     "de8fc594aa4c4b13b78e72785db3c787": {
      "model_module": "@jupyter-widgets/controls",
      "model_module_version": "1.5.0",
      "model_name": "HTMLModel",
      "state": {
       "layout": "IPY_MODEL_83c6301032a349b8948562dc2acedef1",
       "style": "IPY_MODEL_05c8c936b18b4d2aa62457b93757c71b",
       "value": "100%"
      }
     },
     "dea042c4a81b43c7a58521722b75f515": {
      "model_module": "@jupyter-widgets/controls",
      "model_module_version": "1.5.0",
      "model_name": "DescriptionStyleModel",
      "state": {
       "description_width": ""
      }
     },
     "df39a15fa8e94faba39ba206316d1b6a": {
      "model_module": "@jupyter-widgets/controls",
      "model_module_version": "1.5.0",
      "model_name": "ProgressStyleModel",
      "state": {
       "description_width": ""
      }
     },
     "dfd7b89718514ba4ab9431c92459bde3": {
      "model_module": "@jupyter-widgets/controls",
      "model_module_version": "1.5.0",
      "model_name": "HTMLModel",
      "state": {
       "layout": "IPY_MODEL_8dd2228e58174abe9a096c1b01576f6d",
       "style": "IPY_MODEL_3d158b108c054c04ba5c0ed834daeb63"
      }
     },
     "e0312f6ce31e4bccae7671729e7f89e1": {
      "model_module": "@jupyter-widgets/controls",
      "model_module_version": "1.5.0",
      "model_name": "HTMLModel",
      "state": {
       "layout": "IPY_MODEL_b1fe91063c544ab78eead0596862f7e7",
       "style": "IPY_MODEL_c017f8ed5fcf46ed92dcb01914ea7cd3",
       "value": " 338/338 [00:18&lt;00:00, 22.33it/s]"
      }
     },
     "e035cd2d62214cba8c850b9312028d49": {
      "model_module": "@jupyter-widgets/controls",
      "model_module_version": "1.5.0",
      "model_name": "DescriptionStyleModel",
      "state": {
       "description_width": ""
      }
     },
     "e038ba6ccf314fcda4c5791ff45eb666": {
      "model_module": "@jupyter-widgets/controls",
      "model_module_version": "1.5.0",
      "model_name": "DescriptionStyleModel",
      "state": {
       "description_width": ""
      }
     },
     "e08ed0a637f249a0a1d0e12d3214f9a3": {
      "model_module": "@jupyter-widgets/base",
      "model_module_version": "1.2.0",
      "model_name": "LayoutModel",
      "state": {}
     },
     "e0af86746c6e4c34843db9b68d6ca94d": {
      "model_module": "@jupyter-widgets/controls",
      "model_module_version": "1.5.0",
      "model_name": "DescriptionStyleModel",
      "state": {
       "description_width": ""
      }
     },
     "e0fd45224bbb4bfba43e45375531a3d3": {
      "model_module": "@jupyter-widgets/controls",
      "model_module_version": "1.5.0",
      "model_name": "DescriptionStyleModel",
      "state": {
       "description_width": ""
      }
     },
     "e14a88f222824f9f81164a4c96ae7ba1": {
      "model_module": "@jupyter-widgets/controls",
      "model_module_version": "1.5.0",
      "model_name": "DescriptionStyleModel",
      "state": {
       "description_width": ""
      }
     },
     "e19fc7cf95c049eea70616fa36c48a2c": {
      "model_module": "@jupyter-widgets/controls",
      "model_module_version": "1.5.0",
      "model_name": "HTMLModel",
      "state": {
       "layout": "IPY_MODEL_cb2911e4be8d44d19c1655a5cc77dc41",
       "style": "IPY_MODEL_5556cfa5628b405ab66e6b7843f81ace",
       "value": "100%"
      }
     },
     "e227627cde094dac938a1e9fbe0dcf70": {
      "model_module": "@jupyter-widgets/controls",
      "model_module_version": "1.5.0",
      "model_name": "ProgressStyleModel",
      "state": {
       "description_width": ""
      }
     },
     "e22af78b3d084f5cafec6f3734a6e49b": {
      "model_module": "@jupyter-widgets/controls",
      "model_module_version": "1.5.0",
      "model_name": "DescriptionStyleModel",
      "state": {
       "description_width": ""
      }
     },
     "e23e61899ebb4a458b6953cacc37d0cb": {
      "model_module": "@jupyter-widgets/controls",
      "model_module_version": "1.5.0",
      "model_name": "DescriptionStyleModel",
      "state": {
       "description_width": ""
      }
     },
     "e27d236405d54e55a6f46550d2de50a9": {
      "model_module": "@jupyter-widgets/base",
      "model_module_version": "1.2.0",
      "model_name": "LayoutModel",
      "state": {}
     },
     "e2ea3c2d29784b16b0c27a9c0f381065": {
      "model_module": "@jupyter-widgets/base",
      "model_module_version": "1.2.0",
      "model_name": "LayoutModel",
      "state": {}
     },
     "e31610f569f749eeb3f41a71df590649": {
      "model_module": "@jupyter-widgets/base",
      "model_module_version": "1.2.0",
      "model_name": "LayoutModel",
      "state": {}
     },
     "e3625fa3b7aa4471ada5a0460394c8cc": {
      "model_module": "@jupyter-widgets/base",
      "model_module_version": "1.2.0",
      "model_name": "LayoutModel",
      "state": {}
     },
     "e37452fcfc7740db9e4af4c53e177a77": {
      "model_module": "@jupyter-widgets/controls",
      "model_module_version": "1.5.0",
      "model_name": "ProgressStyleModel",
      "state": {
       "description_width": ""
      }
     },
     "e3ab4a6b186e4ee4bb63fb931f4ccc39": {
      "model_module": "@jupyter-widgets/controls",
      "model_module_version": "1.5.0",
      "model_name": "DescriptionStyleModel",
      "state": {
       "description_width": ""
      }
     },
     "e3dbeb089f3e401c9c05284b8ea0e407": {
      "model_module": "@jupyter-widgets/controls",
      "model_module_version": "1.5.0",
      "model_name": "HBoxModel",
      "state": {
       "children": [
        "IPY_MODEL_6901a46e84bc44beb7b54e3b365405d0",
        "IPY_MODEL_89ee7c765f494df2b542142c2c8ad26b",
        "IPY_MODEL_4d638f2064574b1092fe8274caab50c1"
       ],
       "layout": "IPY_MODEL_f23e0eccfa06428ab2c89c049a40c612"
      }
     },
     "e4ec0c8e602a4a71b6ef85cc22f7e791": {
      "model_module": "@jupyter-widgets/controls",
      "model_module_version": "1.5.0",
      "model_name": "DescriptionStyleModel",
      "state": {
       "description_width": ""
      }
     },
     "e597d63d8d674b8381b01e9b223158e9": {
      "model_module": "@jupyter-widgets/base",
      "model_module_version": "1.2.0",
      "model_name": "LayoutModel",
      "state": {}
     },
     "e5d3989087004ec5a0382cafdfeb3a0c": {
      "model_module": "@jupyter-widgets/base",
      "model_module_version": "1.2.0",
      "model_name": "LayoutModel",
      "state": {}
     },
     "e5ebc2cde118488ab8e8efc7333582b2": {
      "model_module": "@jupyter-widgets/base",
      "model_module_version": "1.2.0",
      "model_name": "LayoutModel",
      "state": {}
     },
     "e67d7752c24a4cc5bd4701ecc61968aa": {
      "model_module": "@jupyter-widgets/controls",
      "model_module_version": "1.5.0",
      "model_name": "HBoxModel",
      "state": {
       "children": [
        "IPY_MODEL_0d4324ab42144230b0809e87ff6e68e7",
        "IPY_MODEL_c12ed74c774848d190276bd181e93771",
        "IPY_MODEL_9a9df444e41740b7b56e75a03c7954b3"
       ],
       "layout": "IPY_MODEL_5ce39948b46245cfbef2e1dc60b2e1f2"
      }
     },
     "e6e6078b38fd470fbe770887cf493599": {
      "model_module": "@jupyter-widgets/base",
      "model_module_version": "1.2.0",
      "model_name": "LayoutModel",
      "state": {}
     },
     "e6f70474c25d4c85b755d7bb9aba470a": {
      "model_module": "@jupyter-widgets/controls",
      "model_module_version": "1.5.0",
      "model_name": "HTMLModel",
      "state": {
       "layout": "IPY_MODEL_e5d3989087004ec5a0382cafdfeb3a0c",
       "style": "IPY_MODEL_dc29718ec0fa4a2bb9763d9889a5fd47",
       "value": "100%"
      }
     },
     "e762aee88350464b927223bb0c18b174": {
      "model_module": "@jupyter-widgets/controls",
      "model_module_version": "1.5.0",
      "model_name": "DescriptionStyleModel",
      "state": {
       "description_width": ""
      }
     },
     "e7778d25b1d64b8fa6cf88fde1553237": {
      "model_module": "@jupyter-widgets/controls",
      "model_module_version": "1.5.0",
      "model_name": "HTMLModel",
      "state": {
       "layout": "IPY_MODEL_0fcc702fbd8e4c72aefa0f640e496cc3",
       "style": "IPY_MODEL_000ff19f69724b09ad9f099f5e9c03c0",
       "value": " 94/? [00:04&lt;00:00, 14.91it/s]"
      }
     },
     "e78a811a70a54d3bbf31cce33364eee4": {
      "model_module": "@jupyter-widgets/controls",
      "model_module_version": "1.5.0",
      "model_name": "HTMLModel",
      "state": {
       "layout": "IPY_MODEL_f8c2f13209a7421486eb1cbb3e7f3a04",
       "style": "IPY_MODEL_bdead34f5768427d8a415d267f748ca9",
       "value": "100%"
      }
     },
     "e818451e0c2b41aeb926471963bfc0fd": {
      "model_module": "@jupyter-widgets/controls",
      "model_module_version": "1.5.0",
      "model_name": "FloatProgressModel",
      "state": {
       "bar_style": "success",
       "layout": "IPY_MODEL_db06a1e137f2425aa7285f43c697fbe6",
       "max": 1,
       "style": "IPY_MODEL_0524c8ff163247b99b7a9864dd46fb9d",
       "value": 1
      }
     },
     "e849b2be3f1d465a881e6bfd27d1d4e4": {
      "model_module": "@jupyter-widgets/base",
      "model_module_version": "1.2.0",
      "model_name": "LayoutModel",
      "state": {}
     },
     "e85dc0fb4718404490b6b24975454cea": {
      "model_module": "@jupyter-widgets/controls",
      "model_module_version": "1.5.0",
      "model_name": "ProgressStyleModel",
      "state": {
       "description_width": ""
      }
     },
     "e865d937fc6e4161a5f76b5a1ba5279f": {
      "model_module": "@jupyter-widgets/base",
      "model_module_version": "1.2.0",
      "model_name": "LayoutModel",
      "state": {}
     },
     "e8794625adb342aab594701b2a887f47": {
      "model_module": "@jupyter-widgets/controls",
      "model_module_version": "1.5.0",
      "model_name": "HTMLModel",
      "state": {
       "layout": "IPY_MODEL_4196d48edb764a10a973a6d7e78ffe18",
       "style": "IPY_MODEL_e4ec0c8e602a4a71b6ef85cc22f7e791"
      }
     },
     "e890e638058b40109e123046f72676fb": {
      "model_module": "@jupyter-widgets/base",
      "model_module_version": "1.2.0",
      "model_name": "LayoutModel",
      "state": {}
     },
     "e8a2f436b21846079c1b40cda4ee1992": {
      "model_module": "@jupyter-widgets/controls",
      "model_module_version": "1.5.0",
      "model_name": "HBoxModel",
      "state": {
       "children": [
        "IPY_MODEL_c1bc390c959745e0b850123ee54c86da",
        "IPY_MODEL_89db4d927371484b95620fff09540c43",
        "IPY_MODEL_b2e02325d3064be7877e967bd2eb8f31"
       ],
       "layout": "IPY_MODEL_2fccaa08ea904d428481cfb20bdf2886"
      }
     },
     "e8d5d40828b24789874c90924ea73348": {
      "model_module": "@jupyter-widgets/controls",
      "model_module_version": "1.5.0",
      "model_name": "HTMLModel",
      "state": {
       "layout": "IPY_MODEL_e6e6078b38fd470fbe770887cf493599",
       "style": "IPY_MODEL_a9920866fa51415c943a1ae4eaf8b0cb",
       "value": " 6750/6751 [03:18&lt;00:00, 86.85it/s]"
      }
     },
     "e960b04228c14afc9b492105c0436d21": {
      "model_module": "@jupyter-widgets/controls",
      "model_module_version": "1.5.0",
      "model_name": "HTMLModel",
      "state": {
       "layout": "IPY_MODEL_c7c28d815a054dbbbc1e60fe65f1cde2",
       "style": "IPY_MODEL_4d09859040124dd9b3cfe7d66b1ae625"
      }
     },
     "e9d0f5c20db2493db27d4bce19e87793": {
      "model_module": "@jupyter-widgets/controls",
      "model_module_version": "1.5.0",
      "model_name": "HBoxModel",
      "state": {
       "children": [
        "IPY_MODEL_e8794625adb342aab594701b2a887f47",
        "IPY_MODEL_b9284c7173f347c4acdb700eba5cfe72",
        "IPY_MODEL_1824e135350c4784ae97428edf63dddd"
       ],
       "layout": "IPY_MODEL_14884089fceb4f8c80bd54294afbec54"
      }
     },
     "ea2e7219bb9246cba3bb12f8fa53c808": {
      "model_module": "@jupyter-widgets/controls",
      "model_module_version": "1.5.0",
      "model_name": "HTMLModel",
      "state": {
       "layout": "IPY_MODEL_4be2ac98b10945fd9e8ab0c742f100c6",
       "style": "IPY_MODEL_3cefef8ae50c4f7c9f5b3dea545f068c",
       "value": "  0%"
      }
     },
     "ea40cf79a034463ab893c4b0e0c28fac": {
      "model_module": "@jupyter-widgets/base",
      "model_module_version": "1.2.0",
      "model_name": "LayoutModel",
      "state": {}
     },
     "ea6d56fc7bf34ffb9d7419b776eb349d": {
      "model_module": "@jupyter-widgets/controls",
      "model_module_version": "1.5.0",
      "model_name": "DescriptionStyleModel",
      "state": {
       "description_width": ""
      }
     },
     "ea8e3b5c865b4345a8b569e8851b39f3": {
      "model_module": "@jupyter-widgets/controls",
      "model_module_version": "1.5.0",
      "model_name": "DescriptionStyleModel",
      "state": {
       "description_width": ""
      }
     },
     "eb2949097f624706b8fdd7aab583375f": {
      "model_module": "@jupyter-widgets/base",
      "model_module_version": "1.2.0",
      "model_name": "LayoutModel",
      "state": {}
     },
     "eb53054f42b34a9091c5679a2e53a009": {
      "model_module": "@jupyter-widgets/controls",
      "model_module_version": "1.5.0",
      "model_name": "DescriptionStyleModel",
      "state": {
       "description_width": ""
      }
     },
     "ebe3c3e8f11747229303c4e8cd8fb6f8": {
      "model_module": "@jupyter-widgets/controls",
      "model_module_version": "1.5.0",
      "model_name": "DescriptionStyleModel",
      "state": {
       "description_width": ""
      }
     },
     "eccaceed6a9f44c985f965df5893a7ac": {
      "model_module": "@jupyter-widgets/base",
      "model_module_version": "1.2.0",
      "model_name": "LayoutModel",
      "state": {}
     },
     "ecfe044734aa443981fe6b3aacb7100e": {
      "model_module": "@jupyter-widgets/base",
      "model_module_version": "1.2.0",
      "model_name": "LayoutModel",
      "state": {}
     },
     "ed31a1ee1dab4029b159c0f64cd6097b": {
      "model_module": "@jupyter-widgets/controls",
      "model_module_version": "1.5.0",
      "model_name": "HTMLModel",
      "state": {
       "layout": "IPY_MODEL_b496ad81681d4a90ad978c3e094a3b92",
       "style": "IPY_MODEL_f4e6f5cadb09495085683a4888529ff5",
       "value": " 79/? [00:41&lt;00:00,  8.74it/s]"
      }
     },
     "eddf711c877041d5a2701c10a2a4993e": {
      "model_module": "@jupyter-widgets/controls",
      "model_module_version": "1.5.0",
      "model_name": "HTMLModel",
      "state": {
       "layout": "IPY_MODEL_2d6c658c9ee848579e1c45d4c5dc0408",
       "style": "IPY_MODEL_6c59f2d22365449f9c8af5ecdaa268a3",
       "value": " 17075/17075 [06:25&lt;00:00, 32.99it/s]"
      }
     },
     "ee6296a28f254389a200d4e4a6a8b635": {
      "model_module": "@jupyter-widgets/base",
      "model_module_version": "1.2.0",
      "model_name": "LayoutModel",
      "state": {}
     },
     "eefaaa0760884612ad9e086c3590a1a5": {
      "model_module": "@jupyter-widgets/controls",
      "model_module_version": "1.5.0",
      "model_name": "DescriptionStyleModel",
      "state": {
       "description_width": ""
      }
     },
     "efb04628e7204c8cb80a7a03e877b27d": {
      "model_module": "@jupyter-widgets/controls",
      "model_module_version": "1.5.0",
      "model_name": "HTMLModel",
      "state": {
       "layout": "IPY_MODEL_e890e638058b40109e123046f72676fb",
       "style": "IPY_MODEL_8c8561c7a7de4b7491b0021c590f5cec",
       "value": " 48805/48805 [24:47&lt;00:00, 20.83it/s]"
      }
     },
     "f0af4986ba9a4d069d5bd5af3efb78d7": {
      "model_module": "@jupyter-widgets/controls",
      "model_module_version": "1.5.0",
      "model_name": "ProgressStyleModel",
      "state": {
       "description_width": ""
      }
     },
     "f0c7834730714fac8e99359bf23034d1": {
      "model_module": "@jupyter-widgets/controls",
      "model_module_version": "1.5.0",
      "model_name": "ProgressStyleModel",
      "state": {
       "description_width": ""
      }
     },
     "f0fcaf165e0b4085ae7fbecf1091cc11": {
      "model_module": "@jupyter-widgets/base",
      "model_module_version": "1.2.0",
      "model_name": "LayoutModel",
      "state": {}
     },
     "f147ff93959c4d71b4702ce9a27c4ca9": {
      "model_module": "@jupyter-widgets/controls",
      "model_module_version": "1.5.0",
      "model_name": "ProgressStyleModel",
      "state": {
       "description_width": ""
      }
     },
     "f1b4e20eff8f4dc885ff6508849da7e1": {
      "model_module": "@jupyter-widgets/base",
      "model_module_version": "1.2.0",
      "model_name": "LayoutModel",
      "state": {}
     },
     "f23e0eccfa06428ab2c89c049a40c612": {
      "model_module": "@jupyter-widgets/base",
      "model_module_version": "1.2.0",
      "model_name": "LayoutModel",
      "state": {}
     },
     "f348b995aeab48c58a6fb0c9705c9837": {
      "model_module": "@jupyter-widgets/controls",
      "model_module_version": "1.5.0",
      "model_name": "HTMLModel",
      "state": {
       "layout": "IPY_MODEL_b6e5b5f8e4c14311b42356e871a99037",
       "style": "IPY_MODEL_29e95286c4eb427f8192a56f570c94fe"
      }
     },
     "f39a3ed2203e4b6e992ab48941949d0f": {
      "model_module": "@jupyter-widgets/base",
      "model_module_version": "1.2.0",
      "model_name": "LayoutModel",
      "state": {}
     },
     "f419aac2f9bd4b179041d5b7c0fa0e0a": {
      "model_module": "@jupyter-widgets/controls",
      "model_module_version": "1.5.0",
      "model_name": "HTMLModel",
      "state": {
       "layout": "IPY_MODEL_d9946cbab1a54b3f824c282e92dbcbc3",
       "style": "IPY_MODEL_224f82fcf63d41669051eeee706faf5b"
      }
     },
     "f4927d0510114766ace0a3bb725a5ef1": {
      "model_module": "@jupyter-widgets/controls",
      "model_module_version": "1.5.0",
      "model_name": "ProgressStyleModel",
      "state": {
       "description_width": ""
      }
     },
     "f4e6f5cadb09495085683a4888529ff5": {
      "model_module": "@jupyter-widgets/controls",
      "model_module_version": "1.5.0",
      "model_name": "DescriptionStyleModel",
      "state": {
       "description_width": ""
      }
     },
     "f4e7f578ff8b406893682b9542311c39": {
      "model_module": "@jupyter-widgets/base",
      "model_module_version": "1.2.0",
      "model_name": "LayoutModel",
      "state": {}
     },
     "f4f9afc7234b49439a0be8817c31e7cd": {
      "model_module": "@jupyter-widgets/base",
      "model_module_version": "1.2.0",
      "model_name": "LayoutModel",
      "state": {}
     },
     "f5f7c86be03d4907bce7a736b7724ca8": {
      "model_module": "@jupyter-widgets/base",
      "model_module_version": "1.2.0",
      "model_name": "LayoutModel",
      "state": {}
     },
     "f619039603b343ad859e0b255a959122": {
      "model_module": "@jupyter-widgets/base",
      "model_module_version": "1.2.0",
      "model_name": "LayoutModel",
      "state": {
       "width": "20px"
      }
     },
     "f6918da358ee4906abc728324bc053c7": {
      "model_module": "@jupyter-widgets/controls",
      "model_module_version": "1.5.0",
      "model_name": "ProgressStyleModel",
      "state": {
       "description_width": ""
      }
     },
     "f6d132b7617e47479ca1a3abf3a2736d": {
      "model_module": "@jupyter-widgets/controls",
      "model_module_version": "1.5.0",
      "model_name": "ProgressStyleModel",
      "state": {
       "description_width": ""
      }
     },
     "f7718ae418944a61a59415ee6abb7398": {
      "model_module": "@jupyter-widgets/controls",
      "model_module_version": "1.5.0",
      "model_name": "HTMLModel",
      "state": {
       "layout": "IPY_MODEL_6fdded15b107486c8108e9d8b0db5c39",
       "style": "IPY_MODEL_0c5c232b24f742229a2f72a5d7f5ab53"
      }
     },
     "f7b1be58dcd644bc9b6afbf55e5a6fba": {
      "model_module": "@jupyter-widgets/base",
      "model_module_version": "1.2.0",
      "model_name": "LayoutModel",
      "state": {
       "width": "20px"
      }
     },
     "f7eb2e30410c45bbb91536448e7d01e4": {
      "model_module": "@jupyter-widgets/controls",
      "model_module_version": "1.5.0",
      "model_name": "DescriptionStyleModel",
      "state": {
       "description_width": ""
      }
     },
     "f897e13f49334ca7a3cbf8bf78035477": {
      "model_module": "@jupyter-widgets/base",
      "model_module_version": "1.2.0",
      "model_name": "LayoutModel",
      "state": {}
     },
     "f8a3f1a69b174893a67bc962a9e01739": {
      "model_module": "@jupyter-widgets/controls",
      "model_module_version": "1.5.0",
      "model_name": "HBoxModel",
      "state": {
       "children": [
        "IPY_MODEL_48586cbc4a074cc08c9b63418c2c3afa",
        "IPY_MODEL_b76a1d66c61a4f9eb6fec5856277e3b2",
        "IPY_MODEL_5c1325c3004f44f99e892c1698d9d366"
       ],
       "layout": "IPY_MODEL_0d3a7a4e97404443bb15904cf9fe0765"
      }
     },
     "f8c2f13209a7421486eb1cbb3e7f3a04": {
      "model_module": "@jupyter-widgets/base",
      "model_module_version": "1.2.0",
      "model_name": "LayoutModel",
      "state": {}
     },
     "f8f1d0c7c8574509aed395430ad4efb6": {
      "model_module": "@jupyter-widgets/controls",
      "model_module_version": "1.5.0",
      "model_name": "DescriptionStyleModel",
      "state": {
       "description_width": ""
      }
     },
     "f90a072d2b5e4477a4fff205f2a3f5d2": {
      "model_module": "@jupyter-widgets/controls",
      "model_module_version": "1.5.0",
      "model_name": "ProgressStyleModel",
      "state": {
       "description_width": ""
      }
     },
     "f9f3164a1f8c456ea483d34664ff373f": {
      "model_module": "@jupyter-widgets/controls",
      "model_module_version": "1.5.0",
      "model_name": "FloatProgressModel",
      "state": {
       "bar_style": "success",
       "layout": "IPY_MODEL_bf2457d4c77c4a62a6c6063be597e1bb",
       "max": 1,
       "style": "IPY_MODEL_322b33f32fbd41ac8b3c8d31c53ff297"
      }
     },
     "fa09c5c5497a4e47acc59848f42041cd": {
      "model_module": "@jupyter-widgets/controls",
      "model_module_version": "1.5.0",
      "model_name": "HBoxModel",
      "state": {
       "children": [
        "IPY_MODEL_22edfca3025c4a348334a9d3d5730aaf",
        "IPY_MODEL_bcaa9ea00d3c4e8589983ce05b9d2137",
        "IPY_MODEL_290a4358ec074eebb2f0e6a3d45cd2a5"
       ],
       "layout": "IPY_MODEL_b1cf1128876a422292cb90b28acfa046"
      }
     },
     "fa2e3044c7e749e3bb0d3e705b7b7d79": {
      "model_module": "@jupyter-widgets/controls",
      "model_module_version": "1.5.0",
      "model_name": "DescriptionStyleModel",
      "state": {
       "description_width": ""
      }
     },
     "fa45700bac71414a972e7631d3c53d3a": {
      "model_module": "@jupyter-widgets/controls",
      "model_module_version": "1.5.0",
      "model_name": "HBoxModel",
      "state": {
       "children": [
        "IPY_MODEL_dacbf8bbaeed487f8bf94e5d20769eeb",
        "IPY_MODEL_f9f3164a1f8c456ea483d34664ff373f",
        "IPY_MODEL_bd5a2f285b194bdb98a7de2e588b6df0"
       ],
       "layout": "IPY_MODEL_22c305f324404a03a026e92495bf7f2b"
      }
     },
     "fa89e72fc14d43d79e7fe5bfaf3f2608": {
      "model_module": "@jupyter-widgets/controls",
      "model_module_version": "1.5.0",
      "model_name": "DescriptionStyleModel",
      "state": {
       "description_width": ""
      }
     },
     "fb2df54076ce441c8c2ea1b1318b47c7": {
      "model_module": "@jupyter-widgets/base",
      "model_module_version": "1.2.0",
      "model_name": "LayoutModel",
      "state": {}
     },
     "fb985b10e690451193270de44eb33fe1": {
      "model_module": "@jupyter-widgets/controls",
      "model_module_version": "1.5.0",
      "model_name": "ProgressStyleModel",
      "state": {
       "description_width": ""
      }
     },
     "fbd3adddc4324e1db811fd3fbbbbdb4f": {
      "model_module": "@jupyter-widgets/base",
      "model_module_version": "1.2.0",
      "model_name": "LayoutModel",
      "state": {
       "width": "20px"
      }
     },
     "fc83237110e042b089a288ef4c05407a": {
      "model_module": "@jupyter-widgets/controls",
      "model_module_version": "1.5.0",
      "model_name": "HTMLModel",
      "state": {
       "layout": "IPY_MODEL_b752dd58f15c4774ad3c90bb2b2ee2c3",
       "style": "IPY_MODEL_0d3afc6f71e44224b54f6f1fad20230d",
       "value": " 1602/1602 [00:29&lt;00:00, 47.78it/s]"
      }
     },
     "fca8a335155f4b6187e071ebac256368": {
      "model_module": "@jupyter-widgets/base",
      "model_module_version": "1.2.0",
      "model_name": "LayoutModel",
      "state": {
       "width": "20px"
      }
     },
     "fd3edd18cccf44a59f01a0c987701633": {
      "model_module": "@jupyter-widgets/controls",
      "model_module_version": "1.5.0",
      "model_name": "HTMLModel",
      "state": {
       "layout": "IPY_MODEL_14a43406ee0d4c039a10e608eb57cede",
       "style": "IPY_MODEL_641237ca15694656a2eadd72e04b2055",
       "value": " 6/? [00:03&lt;00:00,  3.08s/it]"
      }
     },
     "fe07bd1825684f5188c72c5dafd32479": {
      "model_module": "@jupyter-widgets/controls",
      "model_module_version": "1.5.0",
      "model_name": "HBoxModel",
      "state": {
       "children": [
        "IPY_MODEL_f7718ae418944a61a59415ee6abb7398",
        "IPY_MODEL_6b328eb926ae433baa5da7b7a14cf440",
        "IPY_MODEL_d331f2b37b5044da90a746c7a734b195"
       ],
       "layout": "IPY_MODEL_536e66979e98463da11772045e40f9f5"
      }
     },
     "fea389a724154cb98265e63585265aa9": {
      "model_module": "@jupyter-widgets/controls",
      "model_module_version": "1.5.0",
      "model_name": "DescriptionStyleModel",
      "state": {
       "description_width": ""
      }
     }
    },
    "version_major": 2,
    "version_minor": 0
   }
  }
 },
 "nbformat": 4,
 "nbformat_minor": 5
}
