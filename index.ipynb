{
 "cells": [
  {
   "cell_type": "markdown",
   "id": "fd91a683",
   "metadata": {},
   "source": [
    "# Trove People and Organisations\n",
    "\n",
    "Current version: [v1.0.0](https://github.com/GLAM-Workbench/trove-people/releases/tag/v1.0.0)\n",
    "\n",
    "Examples of working with data from Trove's People and Organisations zone. For more information see the [Trove People and Organisations](https://glam-workbench.net/trove-people-and-organisations/) section of the GLAM Workbench.\n",
    "\n",
    "## Notebook topics\n",
    "\n",
    "* [Harvesting the complete set of data from the People and Organisations zone](complete_harvest.ipynb)\n",
    "* [Harvesting the complete set of data from the People and Organisations zone using OAI-PMH](complete_harvest.ipynb)\n",
    "* [Extract some aggregated data from the complete harvest](extract_aggregated_data_from_harvest.ipynb)\n",
    "* [Harvest SRU API results as JSON](get_sru_results_as_json.ipynb)\n",
    "* [Visualising intersections and overlaps between data sources](intersections.ipynb)\n",
    "* [Get VIAF links relating to Trove People & Organisation records](viaf.ipynb)\n",
    "\n",
    "See the [GLAM Workbench for more details](https://glam-workbench.github.io/trove-people-and-organisations/)."
   ]
  },
  {
   "cell_type": "markdown",
   "id": "2966c00c",
   "metadata": {},
   "source": [
    "## Cite as\n",
    "\n",
    "See the [GLAM Workbench](https://glam-workbench.net/trove-people-and-organisations/#cite-as) or [Zenodo](https://doi.org/10.5281/zenodo.6622312) for up-to-date citation details.\n",
    "\n",
    "----\n",
    "\n",
    "This repository is part of the [GLAM Workbench](https://glam-workbench.github.io/).  \n"
   ]
  }
 ],
 "metadata": {
  "jupytext": {
   "cell_metadata_filter": "-all"
  },
  "kernelspec": {
   "display_name": "Python 3 (ipykernel)",
   "language": "python",
   "name": "python3"
  }
 },
 "nbformat": 4,
 "nbformat_minor": 5
}
