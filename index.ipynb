{
 "cells": [
  {
   "cell_type": "markdown",
   "id": "fb0f29ca",
   "metadata": {},
   "source": [
    "# Trove People and Organisations\n",
    "\n",
    "Current version: [v0.0.0](https://github.com/GLAM-Workbench/trove-people/releases/tag/v0.0.0)\n",
    "\n",
    "Examples of working with data from Trove's People and Organisations zone. For more information see the [Trove People and Organisations](https://glam-workbench.net/trove-people-and-organisations/) section of the GLAM Workbench.\n",
    "\n",
    "## Notebook topics\n",
    "\n",
    "* [Notebook title](notebook.ipynb) – this notebook does things\n",
    "\n",
    "See the [GLAM Workbench for more details](https://glam-workbench.github.io/trove-people-and-organisations/).\n"
   ]
  },
  {
   "cell_type": "markdown",
   "id": "89643a32",
   "metadata": {},
   "source": [
    "## Cite as\n",
    "\n",
    "See the GLAM Workbench or [Zenodo](https://doi.org/10.5281/zenodo.3521724) for up-to-date citation details.\n",
    "\n",
    "----\n",
    "\n",
    "This repository is part of the [GLAM Workbench](https://glam-workbench.github.io/).  \n"
   ]
  }
 ],
 "metadata": {
  "jupytext": {
   "cell_metadata_filter": "-all"
  },
  "kernelspec": {
   "display_name": "Python 3 (ipykernel)",
   "language": "python",
   "name": "python3"
  }
 },
 "nbformat": 4,
 "nbformat_minor": 5
}
