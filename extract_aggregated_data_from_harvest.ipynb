{
 "cells": [
  {
   "cell_type": "markdown",
   "id": "9b324a45-1401-4134-85f9-cea62f25f385",
   "metadata": {},
   "source": [
    "# Extract some aggregated data from the complete harvest\n",
    "\n",
    "The [complete harvest](complete_harvest.ipynb) of records in the Trove People & Organisations zone is very large – more than 1.3 million records, almost 9gb of data. To do some analysis of its content, we'll extract some aggregate totals by looping through all the EAC-CPF records. This is quite slow, but memory efficient.\n",
    "\n",
    "If you haven't created your own harvest, you'll need to [download mine from CloudStor](https://cloudstor.aarnet.edu.au/plus/s/oshEZJPK3hL0JdQ) and unzip it in the current directory.\n",
    "\n",
    "We'll extract the following information from the harvest:\n",
    "\n",
    "* `recordids` – just a list of record identifiers, we should already have these, but by extracting them we can check that the harvest contains what we were expecting!\n",
    "* `entity types` – the total number of records for each entity type (eg. 'Person')\n",
    "* `sources` – the total number of records for each data source\n",
    "* `source groups` – records often aggregate information from multiple data sources, to explore the overlaps between sources we'll save the total number of records for each unique combination of data sources\n",
    "* `occupations` – not all sources provide information on occupations, but it's an interesting way of exploring the records\n",
    "* `agencies` – to help interpret the source data we'll harvest a complete list of data source names and identifiers"
   ]
  },
  {
   "cell_type": "code",
   "execution_count": 1,
   "id": "76cc10fc-8876-43e6-8ae2-81aabb58e5fd",
   "metadata": {},
   "outputs": [],
   "source": [
    "import json\n",
    "from pathlib import Path\n",
    "\n",
    "import pandas as pd\n",
    "from bs4 import BeautifulSoup"
   ]
  },
  {
   "cell_type": "markdown",
   "id": "dcb05f6b-966a-4227-9b57-152752d1db56",
   "metadata": {},
   "source": [
    "## How many records in the harvest?\n",
    "\n",
    "One way of finding this out is to simply count the number of lines in `peau-data.xml`. It's relatively quick."
   ]
  },
  {
   "cell_type": "code",
   "execution_count": 2,
   "id": "1e8d166d-ca90-4bbf-925e-6f135f953e16",
   "metadata": {
    "tags": [
     "nbval-skip"
    ]
   },
   "outputs": [
    {
     "name": "stdout",
     "output_type": "stream",
     "text": [
      "1309339\n",
      "CPU times: user 3.25 s, sys: 1.36 s, total: 4.61 s\n",
      "Wall time: 4.61 s\n"
     ]
    }
   ],
   "source": [
    "%%time\n",
    "\n",
    "# This is actually pretty quick\n",
    "with open(\"peau-data-20230123.xml\") as f:\n",
    "    print(sum(1 for line in f))"
   ]
  },
  {
   "cell_type": "markdown",
   "id": "35b0b812-6adf-462e-9222-d4def7734bf5",
   "metadata": {},
   "source": [
    "That seems about right – a [blank search in the Trove web interface](https://trove.nla.gov.au/search/category/people?keyword=) returns about the same number (remember records have probably been added since I harvested the data)."
   ]
  },
  {
   "cell_type": "markdown",
   "id": "6473e065-e199-472f-9802-36729fc1431b",
   "metadata": {},
   "source": [
    "## Extract aggregate data\n",
    "\n",
    "Now we're going to work through the complete dataset one record at a time, extracting some summary information. This is quite slow and could take 40-50 minutes."
   ]
  },
  {
   "cell_type": "code",
   "execution_count": 3,
   "id": "36c99c6c-bed2-4b3e-9c41-b50f9b79903d",
   "metadata": {},
   "outputs": [],
   "source": [
    "def increment_value(values, value):\n",
    "    if value in values:\n",
    "        values[value] += 1\n",
    "    else:\n",
    "        values[value] = 1\n",
    "\n",
    "\n",
    "def process_xml(xml):\n",
    "    \"\"\"\n",
    "    Process a single EAC-CPF record extracting some basic information.\n",
    "    \"\"\"\n",
    "    soup = BeautifulSoup(xml, \"xml\")\n",
    "    # Converting theBS nav strings to strings saves a lot of memory\n",
    "    recordids.append(str(soup.find(\"recordId\").string))\n",
    "    # Save entity type -- one of these per record\n",
    "    entity_type = str(soup.find(\"entityType\").string)\n",
    "    increment_value(entity_types, entity_type)\n",
    "    # Save occupations\n",
    "    local_occs = []\n",
    "    for occ in soup.find_all(\"occupation\"):\n",
    "        local_occs.append(str(occ.string))\n",
    "    for occ in list(set(local_occs)):\n",
    "        increment_value(occupations, occ)\n",
    "    # Save sources\n",
    "    local_sources = []\n",
    "    for source in soup.find_all(\"agencyCode\"):\n",
    "        agency_id = str(source.string)\n",
    "        # Combine LA ids\n",
    "        if agency_id == \"AU-AuCNLKIN\":\n",
    "            agency_id = \"AuCNLKIN\"\n",
    "        local_sources.append(agency_id)\n",
    "    for source in list(set(local_sources)):\n",
    "        increment_value(sources, source)\n",
    "    # Remove system source\n",
    "    local_sources.remove(\"AU-ANL:PEAU\")\n",
    "    # Save source combination by joining agency ids in a pipe-separated string\n",
    "    source_group = \"|\".join(sorted(list(set(local_sources))))\n",
    "    increment_value(source_groups, source_group)\n",
    "    # Save agency details\n",
    "    for agency in soup.find_all(\"maintenanceAgency\"):\n",
    "        agency_id = str(agency.find(\"agencyCode\").string)\n",
    "        agency_name = str(agency.find(\"agencyName\").string)\n",
    "        if agency_id not in agencies:\n",
    "            agencies[agency_id] = agency_name\n",
    "    soup.decompose()"
   ]
  },
  {
   "cell_type": "code",
   "execution_count": 4,
   "id": "e9790171-b7a5-4c6c-9b57-96928f80608f",
   "metadata": {
    "tags": [
     "nbval-skip"
    ]
   },
   "outputs": [
    {
     "name": "stdout",
     "output_type": "stream",
     "text": [
      "CPU times: user 55min 19s, sys: 3.26 s, total: 55min 22s\n",
      "Wall time: 55min 22s\n"
     ]
    }
   ],
   "source": [
    "%%time\n",
    "\n",
    "entity_types = {}\n",
    "occupations = {}\n",
    "sources = {}\n",
    "source_groups = {}\n",
    "recordids = []\n",
    "agencies = {}\n",
    "\n",
    "with Path(\"peau-data-20230123.xml\").open(\"r\") as xml_file:\n",
    "    for i, xml in enumerate(xml_file):\n",
    "        # if i < 1000:\n",
    "        process_xml(xml)"
   ]
  },
  {
   "cell_type": "markdown",
   "id": "3284e188-f2a4-4f26-b3f6-00370659b36e",
   "metadata": {},
   "source": [
    "Once we've extracted the data we can check that the number of record ids extracted corresponds to the number of lines in the dataset."
   ]
  },
  {
   "cell_type": "code",
   "execution_count": 5,
   "id": "4efd511c-ac56-420e-8ae9-103138f33e64",
   "metadata": {
    "tags": [
     "nbval-skip"
    ]
   },
   "outputs": [
    {
     "data": {
      "text/plain": [
       "1309339"
      ]
     },
     "execution_count": 5,
     "metadata": {},
     "output_type": "execute_result"
    }
   ],
   "source": [
    "# How many recordids? Should be the same as above.\n",
    "len(recordids)"
   ]
  },
  {
   "cell_type": "markdown",
   "id": "671c15e0-a4de-4efb-831d-aa3e469e4ac6",
   "metadata": {},
   "source": [
    "It's possible that some duplicate records might have snuck into the dataset. Let's check by looking at the number of unique record ids."
   ]
  },
  {
   "cell_type": "code",
   "execution_count": 6,
   "id": "4152d8c0-e145-4e66-bb90-e1fec75e16bc",
   "metadata": {
    "tags": [
     "nbval-skip"
    ]
   },
   "outputs": [
    {
     "data": {
      "text/plain": [
       "1309339"
      ]
     },
     "execution_count": 6,
     "metadata": {},
     "output_type": "execute_result"
    }
   ],
   "source": [
    "# How many unique recordids? Should be the same as above.\n",
    "len(set(recordids))"
   ]
  },
  {
   "cell_type": "markdown",
   "id": "92535f68-da1a-4128-8be8-51b075e7f9f2",
   "metadata": {},
   "source": [
    "## Entity types\n",
    "\n",
    "What types of records are there?"
   ]
  },
  {
   "cell_type": "code",
   "execution_count": 7,
   "id": "aeb1c0c8-0309-420e-86fc-6c80a69fb684",
   "metadata": {
    "tags": [
     "nbval-skip"
    ]
   },
   "outputs": [
    {
     "data": {
      "text/html": [
       "<style type=\"text/css\">\n",
       "</style>\n",
       "<table id=\"T_548e2\">\n",
       "  <thead>\n",
       "    <tr>\n",
       "      <th id=\"T_548e2_level0_col0\" class=\"col_heading level0 col0\" >entity_type</th>\n",
       "      <th id=\"T_548e2_level0_col1\" class=\"col_heading level0 col1\" >total</th>\n",
       "    </tr>\n",
       "  </thead>\n",
       "  <tbody>\n",
       "    <tr>\n",
       "      <td id=\"T_548e2_row0_col0\" class=\"data row0 col0\" >person</td>\n",
       "      <td id=\"T_548e2_row0_col1\" class=\"data row0 col1\" >1,085,416</td>\n",
       "    </tr>\n",
       "    <tr>\n",
       "      <td id=\"T_548e2_row1_col0\" class=\"data row1 col0\" >corporateBody</td>\n",
       "      <td id=\"T_548e2_row1_col1\" class=\"data row1 col1\" >223,193</td>\n",
       "    </tr>\n",
       "    <tr>\n",
       "      <td id=\"T_548e2_row2_col0\" class=\"data row2 col0\" >family</td>\n",
       "      <td id=\"T_548e2_row2_col1\" class=\"data row2 col1\" >730</td>\n",
       "    </tr>\n",
       "  </tbody>\n",
       "</table>\n"
      ],
      "text/plain": [
       "<pandas.io.formats.style.Styler at 0x7f45c7bad910>"
      ]
     },
     "execution_count": 7,
     "metadata": {},
     "output_type": "execute_result"
    }
   ],
   "source": [
    "df_types = pd.DataFrame(\n",
    "    [{\"entity_type\": k, \"total\": v} for k, v in entity_types.items()]\n",
    ")\n",
    "df_types.style.format(thousands=\",\").hide()"
   ]
  },
  {
   "cell_type": "markdown",
   "id": "afb11ac3-79f5-45be-b510-cbb503bf3868",
   "metadata": {},
   "source": [
    "Families? There's no mention of families in the Trove web interface. This would be interesting to explore further."
   ]
  },
  {
   "cell_type": "markdown",
   "id": "5144ae2c-3143-4135-b03b-3e6d576baaf9",
   "metadata": {},
   "source": [
    "## Sources\n",
    "\n",
    "Where has the data come from? See below for a list of sources with the full agency names added."
   ]
  },
  {
   "cell_type": "code",
   "execution_count": 8,
   "id": "4cafb88f-7891-4ae2-a52e-1e64063176a6",
   "metadata": {
    "tags": [
     "nbval-skip"
    ]
   },
   "outputs": [
    {
     "data": {
      "text/html": [
       "<div>\n",
       "<style scoped>\n",
       "    .dataframe tbody tr th:only-of-type {\n",
       "        vertical-align: middle;\n",
       "    }\n",
       "\n",
       "    .dataframe tbody tr th {\n",
       "        vertical-align: top;\n",
       "    }\n",
       "\n",
       "    .dataframe thead th {\n",
       "        text-align: right;\n",
       "    }\n",
       "</style>\n",
       "<table border=\"1\" class=\"dataframe\">\n",
       "  <thead>\n",
       "    <tr style=\"text-align: right;\">\n",
       "      <th></th>\n",
       "      <th>agency_id</th>\n",
       "      <th>total</th>\n",
       "    </tr>\n",
       "  </thead>\n",
       "  <tbody>\n",
       "    <tr>\n",
       "      <th>0</th>\n",
       "      <td>AuCNLKIN</td>\n",
       "      <td>998929</td>\n",
       "    </tr>\n",
       "    <tr>\n",
       "      <th>1</th>\n",
       "      <td>AU-ANL:PEAU</td>\n",
       "      <td>1309339</td>\n",
       "    </tr>\n",
       "    <tr>\n",
       "      <th>2</th>\n",
       "      <td>AU-SAUS</td>\n",
       "      <td>173307</td>\n",
       "    </tr>\n",
       "    <tr>\n",
       "      <th>3</th>\n",
       "      <td>AU-ANU:ADBO</td>\n",
       "      <td>13433</td>\n",
       "    </tr>\n",
       "    <tr>\n",
       "      <th>4</th>\n",
       "      <td>AU-AIAS</td>\n",
       "      <td>48360</td>\n",
       "    </tr>\n",
       "    <tr>\n",
       "      <th>...</th>\n",
       "      <td>...</td>\n",
       "      <td>...</td>\n",
       "    </tr>\n",
       "    <tr>\n",
       "      <th>65</th>\n",
       "      <td>OCLC-SUDOC</td>\n",
       "      <td>1</td>\n",
       "    </tr>\n",
       "    <tr>\n",
       "      <th>66</th>\n",
       "      <td>OCLC-EGAXA</td>\n",
       "      <td>2</td>\n",
       "    </tr>\n",
       "    <tr>\n",
       "      <th>67</th>\n",
       "      <td>TO-DO</td>\n",
       "      <td>2</td>\n",
       "    </tr>\n",
       "    <tr>\n",
       "      <th>68</th>\n",
       "      <td>OCLC-VIAF:TEST</td>\n",
       "      <td>3</td>\n",
       "    </tr>\n",
       "    <tr>\n",
       "      <th>69</th>\n",
       "      <td>OCLC-NLIara</td>\n",
       "      <td>1</td>\n",
       "    </tr>\n",
       "  </tbody>\n",
       "</table>\n",
       "<p>70 rows × 2 columns</p>\n",
       "</div>"
      ],
      "text/plain": [
       "         agency_id    total\n",
       "0         AuCNLKIN   998929\n",
       "1      AU-ANL:PEAU  1309339\n",
       "2          AU-SAUS   173307\n",
       "3      AU-ANU:ADBO    13433\n",
       "4          AU-AIAS    48360\n",
       "..             ...      ...\n",
       "65      OCLC-SUDOC        1\n",
       "66      OCLC-EGAXA        2\n",
       "67           TO-DO        2\n",
       "68  OCLC-VIAF:TEST        3\n",
       "69     OCLC-NLIara        1\n",
       "\n",
       "[70 rows x 2 columns]"
      ]
     },
     "execution_count": 8,
     "metadata": {},
     "output_type": "execute_result"
    }
   ],
   "source": [
    "df_sources = pd.DataFrame([{\"agency_id\": k, \"total\": v} for k, v in sources.items()])\n",
    "df_sources"
   ]
  },
  {
   "cell_type": "markdown",
   "id": "fa5d2afa-9997-4deb-a51b-c8811c3aa36a",
   "metadata": {},
   "source": [
    "## Source groups"
   ]
  },
  {
   "cell_type": "code",
   "execution_count": 9,
   "id": "13e1fbe4-c5d4-42aa-9eb5-c1f6cc5bab4f",
   "metadata": {
    "tags": [
     "nbval-skip"
    ]
   },
   "outputs": [
    {
     "data": {
      "text/html": [
       "<style type=\"text/css\">\n",
       "</style>\n",
       "<table id=\"T_adef4\">\n",
       "  <thead>\n",
       "    <tr>\n",
       "      <th id=\"T_adef4_level0_col0\" class=\"col_heading level0 col0\" >source_group</th>\n",
       "      <th id=\"T_adef4_level0_col1\" class=\"col_heading level0 col1\" >number_of_sources</th>\n",
       "      <th id=\"T_adef4_level0_col2\" class=\"col_heading level0 col2\" >total</th>\n",
       "    </tr>\n",
       "  </thead>\n",
       "  <tbody>\n",
       "    <tr>\n",
       "      <td id=\"T_adef4_row0_col0\" class=\"data row0 col0\" >AuCNLKIN</td>\n",
       "      <td id=\"T_adef4_row0_col1\" class=\"data row0 col1\" >1</td>\n",
       "      <td id=\"T_adef4_row0_col2\" class=\"data row0 col2\" >941,859</td>\n",
       "    </tr>\n",
       "    <tr>\n",
       "      <td id=\"T_adef4_row1_col0\" class=\"data row1 col0\" >AU-SAUS</td>\n",
       "      <td id=\"T_adef4_row1_col1\" class=\"data row1 col1\" >1</td>\n",
       "      <td id=\"T_adef4_row1_col2\" class=\"data row1 col2\" >167,827</td>\n",
       "    </tr>\n",
       "    <tr>\n",
       "      <td id=\"T_adef4_row2_col0\" class=\"data row2 col0\" >AU-QPRO</td>\n",
       "      <td id=\"T_adef4_row2_col1\" class=\"data row2 col1\" >1</td>\n",
       "      <td id=\"T_adef4_row2_col2\" class=\"data row2 col2\" >57,143</td>\n",
       "    </tr>\n",
       "    <tr>\n",
       "      <td id=\"T_adef4_row3_col0\" class=\"data row3 col0\" >AU-AIAS|AuCNLKIN</td>\n",
       "      <td id=\"T_adef4_row3_col1\" class=\"data row3 col1\" >2</td>\n",
       "      <td id=\"T_adef4_row3_col2\" class=\"data row3 col2\" >36,574</td>\n",
       "    </tr>\n",
       "    <tr>\n",
       "      <td id=\"T_adef4_row4_col0\" class=\"data row4 col0\" >AU-YORCID</td>\n",
       "      <td id=\"T_adef4_row4_col1\" class=\"data row4 col1\" >1</td>\n",
       "      <td id=\"T_adef4_row4_col2\" class=\"data row4 col2\" >23,145</td>\n",
       "    </tr>\n",
       "  </tbody>\n",
       "</table>\n"
      ],
      "text/plain": [
       "<pandas.io.formats.style.Styler at 0x7f45c7bad2e0>"
      ]
     },
     "execution_count": 9,
     "metadata": {},
     "output_type": "execute_result"
    }
   ],
   "source": [
    "# Add a field with the number of sources in the group\n",
    "df_source_groups = pd.DataFrame(\n",
    "    [\n",
    "        {\"source_group\": k, \"number_of_sources\": len(k.split(\"|\")), \"total\": v}\n",
    "        for k, v in source_groups.items()\n",
    "    ]\n",
    ")\n",
    "df_source_groups.sort_values(\"total\", ascending=False).head().style.hide().format(\n",
    "    thousands=\",\"\n",
    ")"
   ]
  },
  {
   "cell_type": "markdown",
   "id": "0918abbc-423b-4cd7-bc3a-0b05afdb89b9",
   "metadata": {},
   "source": [
    "The data includes groups where there's only one source. Let's exclude them and look at the top 25 source combinations. See the intersections notebook for more examination of the overlaps between data sources."
   ]
  },
  {
   "cell_type": "code",
   "execution_count": 10,
   "id": "60042ae4-8dbf-4466-9986-e03ef2082b70",
   "metadata": {
    "tags": [
     "nbval-skip"
    ]
   },
   "outputs": [
    {
     "data": {
      "text/html": [
       "<style type=\"text/css\">\n",
       "</style>\n",
       "<table id=\"T_91cb4\">\n",
       "  <thead>\n",
       "    <tr>\n",
       "      <th id=\"T_91cb4_level0_col0\" class=\"col_heading level0 col0\" >source_group</th>\n",
       "      <th id=\"T_91cb4_level0_col1\" class=\"col_heading level0 col1\" >number_of_sources</th>\n",
       "      <th id=\"T_91cb4_level0_col2\" class=\"col_heading level0 col2\" >total</th>\n",
       "    </tr>\n",
       "  </thead>\n",
       "  <tbody>\n",
       "    <tr>\n",
       "      <td id=\"T_91cb4_row0_col0\" class=\"data row0 col0\" >AU-AIAS|AuCNLKIN</td>\n",
       "      <td id=\"T_91cb4_row0_col1\" class=\"data row0 col1\" >2</td>\n",
       "      <td id=\"T_91cb4_row0_col2\" class=\"data row0 col2\" >36,574</td>\n",
       "    </tr>\n",
       "    <tr>\n",
       "      <td id=\"T_91cb4_row1_col0\" class=\"data row1 col0\" >AU-SAUS|AuCNLKIN</td>\n",
       "      <td id=\"T_91cb4_row1_col1\" class=\"data row1 col1\" >2</td>\n",
       "      <td id=\"T_91cb4_row1_col2\" class=\"data row1 col2\" >4,018</td>\n",
       "    </tr>\n",
       "    <tr>\n",
       "      <td id=\"T_91cb4_row2_col0\" class=\"data row2 col0\" >AU-NUN:DAAO|AuCNLKIN</td>\n",
       "      <td id=\"T_91cb4_row2_col1\" class=\"data row2 col1\" >2</td>\n",
       "      <td id=\"T_91cb4_row2_col2\" class=\"data row2 col2\" >2,635</td>\n",
       "    </tr>\n",
       "    <tr>\n",
       "      <td id=\"T_91cb4_row3_col0\" class=\"data row3 col0\" >AU-ANU:ADBO|AuCNLKIN</td>\n",
       "      <td id=\"T_91cb4_row3_col1\" class=\"data row3 col1\" >2</td>\n",
       "      <td id=\"T_91cb4_row3_col2\" class=\"data row3 col2\" >2,144</td>\n",
       "    </tr>\n",
       "    <tr>\n",
       "      <td id=\"T_91cb4_row4_col0\" class=\"data row4 col0\" >AU-VU:EOAS|AuCNLKIN</td>\n",
       "      <td id=\"T_91cb4_row4_col1\" class=\"data row4 col1\" >2</td>\n",
       "      <td id=\"T_91cb4_row4_col2\" class=\"data row4 col2\" >1,977</td>\n",
       "    </tr>\n",
       "    <tr>\n",
       "      <td id=\"T_91cb4_row5_col0\" class=\"data row5 col0\" >AU-YORCID|AuCNLKIN</td>\n",
       "      <td id=\"T_91cb4_row5_col1\" class=\"data row5 col1\" >2</td>\n",
       "      <td id=\"T_91cb4_row5_col2\" class=\"data row5 col2\" >1,299</td>\n",
       "    </tr>\n",
       "    <tr>\n",
       "      <td id=\"T_91cb4_row6_col0\" class=\"data row6 col0\" >AU-VU:AWR|AuCNLKIN</td>\n",
       "      <td id=\"T_91cb4_row6_col1\" class=\"data row6 col1\" >2</td>\n",
       "      <td id=\"T_91cb4_row6_col2\" class=\"data row6 col2\" >852</td>\n",
       "    </tr>\n",
       "    <tr>\n",
       "      <td id=\"T_91cb4_row7_col0\" class=\"data row7 col0\" >AU-ANU:ADBO|AU-VU:EOAS</td>\n",
       "      <td id=\"T_91cb4_row7_col1\" class=\"data row7 col1\" >2</td>\n",
       "      <td id=\"T_91cb4_row7_col2\" class=\"data row7 col2\" >727</td>\n",
       "    </tr>\n",
       "    <tr>\n",
       "      <td id=\"T_91cb4_row8_col0\" class=\"data row8 col0\" >AU-ANU:ADBO|AU-VU:EOAS|AuCNLKIN</td>\n",
       "      <td id=\"T_91cb4_row8_col1\" class=\"data row8 col1\" >3</td>\n",
       "      <td id=\"T_91cb4_row8_col2\" class=\"data row8 col2\" >649</td>\n",
       "    </tr>\n",
       "    <tr>\n",
       "      <td id=\"T_91cb4_row9_col0\" class=\"data row9 col0\" >AU-ANU:ADBO|AU-ANU:OA</td>\n",
       "      <td id=\"T_91cb4_row9_col1\" class=\"data row9 col1\" >2</td>\n",
       "      <td id=\"T_91cb4_row9_col2\" class=\"data row9 col2\" >522</td>\n",
       "    </tr>\n",
       "    <tr>\n",
       "      <td id=\"T_91cb4_row10_col0\" class=\"data row10 col0\" >AU-VPRO|AuCNLKIN</td>\n",
       "      <td id=\"T_91cb4_row10_col1\" class=\"data row10 col1\" >2</td>\n",
       "      <td id=\"T_91cb4_row10_col2\" class=\"data row10 col2\" >483</td>\n",
       "    </tr>\n",
       "    <tr>\n",
       "      <td id=\"T_91cb4_row11_col0\" class=\"data row11 col0\" >AU-VU|AuCNLKIN</td>\n",
       "      <td id=\"T_91cb4_row11_col1\" class=\"data row11 col1\" >2</td>\n",
       "      <td id=\"T_91cb4_row11_col2\" class=\"data row11 col2\" >443</td>\n",
       "    </tr>\n",
       "    <tr>\n",
       "      <td id=\"T_91cb4_row12_col0\" class=\"data row12 col0\" >AU-ANU:OA|AuCNLKIN</td>\n",
       "      <td id=\"T_91cb4_row12_col1\" class=\"data row12 col1\" >2</td>\n",
       "      <td id=\"T_91cb4_row12_col2\" class=\"data row12 col2\" >440</td>\n",
       "    </tr>\n",
       "    <tr>\n",
       "      <td id=\"T_91cb4_row13_col0\" class=\"data row13 col0\" >AU-AIAS|AU-SAUS|AuCNLKIN</td>\n",
       "      <td id=\"T_91cb4_row13_col1\" class=\"data row13 col1\" >3</td>\n",
       "      <td id=\"T_91cb4_row13_col2\" class=\"data row13 col2\" >377</td>\n",
       "    </tr>\n",
       "    <tr>\n",
       "      <td id=\"T_91cb4_row14_col0\" class=\"data row14 col0\" >AU-APAR|AuCNLKIN</td>\n",
       "      <td id=\"T_91cb4_row14_col1\" class=\"data row14 col1\" >2</td>\n",
       "      <td id=\"T_91cb4_row14_col2\" class=\"data row14 col2\" >375</td>\n",
       "    </tr>\n",
       "    <tr>\n",
       "      <td id=\"T_91cb4_row15_col0\" class=\"data row15 col0\" >AU-ANU:ADBO|AU-NUN:DAAO|AuCNLKIN</td>\n",
       "      <td id=\"T_91cb4_row15_col1\" class=\"data row15 col1\" >3</td>\n",
       "      <td id=\"T_91cb4_row15_col2\" class=\"data row15 col2\" >317</td>\n",
       "    </tr>\n",
       "    <tr>\n",
       "      <td id=\"T_91cb4_row16_col0\" class=\"data row16 col0\" >AU-NAMC|AuCNLKIN</td>\n",
       "      <td id=\"T_91cb4_row16_col1\" class=\"data row16 col1\" >2</td>\n",
       "      <td id=\"T_91cb4_row16_col2\" class=\"data row16 col2\" >276</td>\n",
       "    </tr>\n",
       "    <tr>\n",
       "      <td id=\"T_91cb4_row17_col0\" class=\"data row17 col0\" >AU-ANU:ADBO|AU-VU:AWR</td>\n",
       "      <td id=\"T_91cb4_row17_col1\" class=\"data row17 col1\" >2</td>\n",
       "      <td id=\"T_91cb4_row17_col2\" class=\"data row17 col2\" >272</td>\n",
       "    </tr>\n",
       "    <tr>\n",
       "      <td id=\"T_91cb4_row18_col0\" class=\"data row18 col0\" >AU-ANU:ADBO|AU-ANU:OA|AuCNLKIN</td>\n",
       "      <td id=\"T_91cb4_row18_col1\" class=\"data row18 col1\" >3</td>\n",
       "      <td id=\"T_91cb4_row18_col2\" class=\"data row18 col2\" >256</td>\n",
       "    </tr>\n",
       "    <tr>\n",
       "      <td id=\"T_91cb4_row19_col0\" class=\"data row19 col0\" >AU-NMUS:CAN|AuCNLKIN</td>\n",
       "      <td id=\"T_91cb4_row19_col1\" class=\"data row19 col1\" >2</td>\n",
       "      <td id=\"T_91cb4_row19_col2\" class=\"data row19 col2\" >249</td>\n",
       "    </tr>\n",
       "    <tr>\n",
       "      <td id=\"T_91cb4_row20_col0\" class=\"data row20 col0\" >AU-AIAS|AU-NUN:DAAO|AuCNLKIN</td>\n",
       "      <td id=\"T_91cb4_row20_col1\" class=\"data row20 col1\" >3</td>\n",
       "      <td id=\"T_91cb4_row20_col2\" class=\"data row20 col2\" >181</td>\n",
       "    </tr>\n",
       "    <tr>\n",
       "      <td id=\"T_91cb4_row21_col0\" class=\"data row21 col0\" >AU-ANU:ADBO|AU-NUN:DAAO</td>\n",
       "      <td id=\"T_91cb4_row21_col1\" class=\"data row21 col1\" >2</td>\n",
       "      <td id=\"T_91cb4_row21_col2\" class=\"data row21 col2\" >175</td>\n",
       "    </tr>\n",
       "    <tr>\n",
       "      <td id=\"T_91cb4_row22_col0\" class=\"data row22 col0\" >AU-ANU:ADBO|AU-SAUS|AuCNLKIN</td>\n",
       "      <td id=\"T_91cb4_row22_col1\" class=\"data row22 col1\" >3</td>\n",
       "      <td id=\"T_91cb4_row22_col2\" class=\"data row22 col2\" >164</td>\n",
       "    </tr>\n",
       "    <tr>\n",
       "      <td id=\"T_91cb4_row23_col0\" class=\"data row23 col0\" >AU-AIAS|AU-ANU:ADBO|AuCNLKIN</td>\n",
       "      <td id=\"T_91cb4_row23_col1\" class=\"data row23 col1\" >3</td>\n",
       "      <td id=\"T_91cb4_row23_col2\" class=\"data row23 col2\" >151</td>\n",
       "    </tr>\n",
       "    <tr>\n",
       "      <td id=\"T_91cb4_row24_col0\" class=\"data row24 col0\" >AU-ANL:MA-DM|AU-NAMO</td>\n",
       "      <td id=\"T_91cb4_row24_col1\" class=\"data row24 col1\" >2</td>\n",
       "      <td id=\"T_91cb4_row24_col2\" class=\"data row24 col2\" >108</td>\n",
       "    </tr>\n",
       "  </tbody>\n",
       "</table>\n"
      ],
      "text/plain": [
       "<pandas.io.formats.style.Styler at 0x7f45b6561dc0>"
      ]
     },
     "execution_count": 10,
     "metadata": {},
     "output_type": "execute_result"
    }
   ],
   "source": [
    "df_source_groups.loc[\n",
    "    df_source_groups[\"source_group\"].str.contains(\"|\", regex=False)\n",
    "].sort_values(\"total\", ascending=False)[:25].style.hide().format(thousands=\",\")"
   ]
  },
  {
   "cell_type": "markdown",
   "id": "0123e1ed-25cf-4b54-9e00-36d7495785f0",
   "metadata": {},
   "source": [
    "For more exploration of sources and source groups, see the [intersections](intersections.ipynb) notebook."
   ]
  },
  {
   "cell_type": "markdown",
   "id": "3593455a-202f-469f-9820-55898108d258",
   "metadata": {},
   "source": [
    "## Occupations\n",
    "\n",
    "Let's look at the top 25 occupations (remembering that not all data sources provide information about occupations). The prevalence of performing artists suggests that a lot of this data is coming from AusStage."
   ]
  },
  {
   "cell_type": "code",
   "execution_count": 11,
   "id": "57648fda-17a9-4ec0-9707-2bb8c9b35632",
   "metadata": {
    "tags": [
     "nbval-skip"
    ]
   },
   "outputs": [
    {
     "data": {
      "text/html": [
       "<style type=\"text/css\">\n",
       "</style>\n",
       "<table id=\"T_8eca4\">\n",
       "  <thead>\n",
       "    <tr>\n",
       "      <th id=\"T_8eca4_level0_col0\" class=\"col_heading level0 col0\" >occupation</th>\n",
       "      <th id=\"T_8eca4_level0_col1\" class=\"col_heading level0 col1\" >total</th>\n",
       "    </tr>\n",
       "  </thead>\n",
       "  <tbody>\n",
       "    <tr>\n",
       "      <td id=\"T_8eca4_row0_col0\" class=\"data row0 col0\" >Actor</td>\n",
       "      <td id=\"T_8eca4_row0_col1\" class=\"data row0 col1\" >74,781</td>\n",
       "    </tr>\n",
       "    <tr>\n",
       "      <td id=\"T_8eca4_row1_col0\" class=\"data row1 col0\" >None</td>\n",
       "      <td id=\"T_8eca4_row1_col1\" class=\"data row1 col1\" >17,249</td>\n",
       "    </tr>\n",
       "    <tr>\n",
       "      <td id=\"T_8eca4_row2_col0\" class=\"data row2 col0\" >Performer</td>\n",
       "      <td id=\"T_8eca4_row2_col1\" class=\"data row2 col1\" >15,202</td>\n",
       "    </tr>\n",
       "    <tr>\n",
       "      <td id=\"T_8eca4_row3_col0\" class=\"data row3 col0\" >Dancer</td>\n",
       "      <td id=\"T_8eca4_row3_col1\" class=\"data row3 col1\" >11,411</td>\n",
       "    </tr>\n",
       "    <tr>\n",
       "      <td id=\"T_8eca4_row4_col0\" class=\"data row4 col0\" >Director</td>\n",
       "      <td id=\"T_8eca4_row4_col1\" class=\"data row4 col1\" >9,955</td>\n",
       "    </tr>\n",
       "    <tr>\n",
       "      <td id=\"T_8eca4_row5_col0\" class=\"data row5 col0\" >Singer</td>\n",
       "      <td id=\"T_8eca4_row5_col1\" class=\"data row5 col1\" >8,116</td>\n",
       "    </tr>\n",
       "    <tr>\n",
       "      <td id=\"T_8eca4_row6_col0\" class=\"data row6 col0\" >Actor and Singer</td>\n",
       "      <td id=\"T_8eca4_row6_col1\" class=\"data row6 col1\" >6,496</td>\n",
       "    </tr>\n",
       "    <tr>\n",
       "      <td id=\"T_8eca4_row7_col0\" class=\"data row7 col0\" >Playwright</td>\n",
       "      <td id=\"T_8eca4_row7_col1\" class=\"data row7 col1\" >6,226</td>\n",
       "    </tr>\n",
       "    <tr>\n",
       "      <td id=\"T_8eca4_row8_col0\" class=\"data row8 col0\" >Musician</td>\n",
       "      <td id=\"T_8eca4_row8_col1\" class=\"data row8 col1\" >5,686</td>\n",
       "    </tr>\n",
       "    <tr>\n",
       "      <td id=\"T_8eca4_row9_col0\" class=\"data row9 col0\" >Composer</td>\n",
       "      <td id=\"T_8eca4_row9_col1\" class=\"data row9 col1\" >5,639</td>\n",
       "    </tr>\n",
       "    <tr>\n",
       "      <td id=\"T_8eca4_row10_col0\" class=\"data row10 col0\" >Painter</td>\n",
       "      <td id=\"T_8eca4_row10_col1\" class=\"data row10 col1\" >5,229</td>\n",
       "    </tr>\n",
       "    <tr>\n",
       "      <td id=\"T_8eca4_row11_col0\" class=\"data row11 col0\" >Writer</td>\n",
       "      <td id=\"T_8eca4_row11_col1\" class=\"data row11 col1\" >5,164</td>\n",
       "    </tr>\n",
       "    <tr>\n",
       "      <td id=\"T_8eca4_row12_col0\" class=\"data row12 col0\" >Stage Manager</td>\n",
       "      <td id=\"T_8eca4_row12_col1\" class=\"data row12 col1\" >4,023</td>\n",
       "    </tr>\n",
       "    <tr>\n",
       "      <td id=\"T_8eca4_row13_col0\" class=\"data row13 col0\" >Choreographer</td>\n",
       "      <td id=\"T_8eca4_row13_col1\" class=\"data row13 col1\" >3,621</td>\n",
       "    </tr>\n",
       "    <tr>\n",
       "      <td id=\"T_8eca4_row14_col0\" class=\"data row14 col0\" >Producer</td>\n",
       "      <td id=\"T_8eca4_row14_col1\" class=\"data row14 col1\" >3,589</td>\n",
       "    </tr>\n",
       "    <tr>\n",
       "      <td id=\"T_8eca4_row15_col0\" class=\"data row15 col0\" >Designer</td>\n",
       "      <td id=\"T_8eca4_row15_col1\" class=\"data row15 col1\" >3,257</td>\n",
       "    </tr>\n",
       "    <tr>\n",
       "      <td id=\"T_8eca4_row16_col0\" class=\"data row16 col0\" >Author</td>\n",
       "      <td id=\"T_8eca4_row16_col1\" class=\"data row16 col1\" >3,195</td>\n",
       "    </tr>\n",
       "    <tr>\n",
       "      <td id=\"T_8eca4_row17_col0\" class=\"data row17 col0\" >Politician</td>\n",
       "      <td id=\"T_8eca4_row17_col1\" class=\"data row17 col1\" >3,055</td>\n",
       "    </tr>\n",
       "    <tr>\n",
       "      <td id=\"T_8eca4_row18_col0\" class=\"data row18 col0\" >Lighting Designer</td>\n",
       "      <td id=\"T_8eca4_row18_col1\" class=\"data row18 col1\" >2,877</td>\n",
       "    </tr>\n",
       "    <tr>\n",
       "      <td id=\"T_8eca4_row19_col0\" class=\"data row19 col0\" >Costume Designer</td>\n",
       "      <td id=\"T_8eca4_row19_col1\" class=\"data row19 col1\" >2,759</td>\n",
       "    </tr>\n",
       "    <tr>\n",
       "      <td id=\"T_8eca4_row20_col0\" class=\"data row20 col0\" >Chorus</td>\n",
       "      <td id=\"T_8eca4_row20_col1\" class=\"data row20 col1\" >2,633</td>\n",
       "    </tr>\n",
       "    <tr>\n",
       "      <td id=\"T_8eca4_row21_col0\" class=\"data row21 col0\" >Set Designer</td>\n",
       "      <td id=\"T_8eca4_row21_col1\" class=\"data row21 col1\" >2,583</td>\n",
       "    </tr>\n",
       "    <tr>\n",
       "      <td id=\"T_8eca4_row22_col0\" class=\"data row22 col0\" >Authors</td>\n",
       "      <td id=\"T_8eca4_row22_col1\" class=\"data row22 col1\" >2,334</td>\n",
       "    </tr>\n",
       "    <tr>\n",
       "      <td id=\"T_8eca4_row23_col0\" class=\"data row23 col0\" >Photographer</td>\n",
       "      <td id=\"T_8eca4_row23_col1\" class=\"data row23 col1\" >2,273</td>\n",
       "    </tr>\n",
       "    <tr>\n",
       "      <td id=\"T_8eca4_row24_col0\" class=\"data row24 col0\" >Musical Director</td>\n",
       "      <td id=\"T_8eca4_row24_col1\" class=\"data row24 col1\" >2,178</td>\n",
       "    </tr>\n",
       "  </tbody>\n",
       "</table>\n"
      ],
      "text/plain": [
       "<pandas.io.formats.style.Styler at 0x7f45c3120550>"
      ]
     },
     "execution_count": 11,
     "metadata": {},
     "output_type": "execute_result"
    }
   ],
   "source": [
    "df_occupations = pd.DataFrame(\n",
    "    [{\"occupation\": k, \"total\": v} for k, v in occupations.items()]\n",
    ")\n",
    "df_occupations.sort_values(\"total\", ascending=False)[:25].style.hide().format(\n",
    "    thousands=\",\"\n",
    ")"
   ]
  },
  {
   "cell_type": "markdown",
   "id": "e670bc48-beb7-4f99-a08d-aaec7c3ad26d",
   "metadata": {},
   "source": [
    "## Agency details\n",
    "\n",
    "This provides a list of the agencies, or data sources, contributing to the People and Organisations zone."
   ]
  },
  {
   "cell_type": "code",
   "execution_count": 12,
   "id": "35f28557-0b19-43e9-8891-d050eb8443f5",
   "metadata": {
    "tags": [
     "nbval-skip"
    ]
   },
   "outputs": [
    {
     "data": {
      "text/html": [
       "<div>\n",
       "<style scoped>\n",
       "    .dataframe tbody tr th:only-of-type {\n",
       "        vertical-align: middle;\n",
       "    }\n",
       "\n",
       "    .dataframe tbody tr th {\n",
       "        vertical-align: top;\n",
       "    }\n",
       "\n",
       "    .dataframe thead th {\n",
       "        text-align: right;\n",
       "    }\n",
       "</style>\n",
       "<table border=\"1\" class=\"dataframe\">\n",
       "  <thead>\n",
       "    <tr style=\"text-align: right;\">\n",
       "      <th></th>\n",
       "      <th>agency_id</th>\n",
       "      <th>agency_name</th>\n",
       "    </tr>\n",
       "  </thead>\n",
       "  <tbody>\n",
       "    <tr>\n",
       "      <th>0</th>\n",
       "      <td>AU-ANL:PEAU</td>\n",
       "      <td>National Library of Australia Party Infrastruc...</td>\n",
       "    </tr>\n",
       "    <tr>\n",
       "      <th>1</th>\n",
       "      <td>AuCNLKIN</td>\n",
       "      <td>Libraries Australia</td>\n",
       "    </tr>\n",
       "    <tr>\n",
       "      <th>2</th>\n",
       "      <td>AU-SAUS</td>\n",
       "      <td>AusStage</td>\n",
       "    </tr>\n",
       "    <tr>\n",
       "      <th>3</th>\n",
       "      <td>AU-ANU:ADBO</td>\n",
       "      <td>Australian Dictionary of Biography</td>\n",
       "    </tr>\n",
       "    <tr>\n",
       "      <th>4</th>\n",
       "      <td>AU-AIAS</td>\n",
       "      <td>AIATSIS Aboriginal Biographical Index</td>\n",
       "    </tr>\n",
       "    <tr>\n",
       "      <th>...</th>\n",
       "      <td>...</td>\n",
       "      <td>...</td>\n",
       "    </tr>\n",
       "    <tr>\n",
       "      <th>66</th>\n",
       "      <td>OCLC-JPG</td>\n",
       "      <td>JPG</td>\n",
       "    </tr>\n",
       "    <tr>\n",
       "      <th>67</th>\n",
       "      <td>OCLC-RERO</td>\n",
       "      <td>RERO</td>\n",
       "    </tr>\n",
       "    <tr>\n",
       "      <th>68</th>\n",
       "      <td>TO-DO</td>\n",
       "      <td>The University of Examples, Australia</td>\n",
       "    </tr>\n",
       "    <tr>\n",
       "      <th>69</th>\n",
       "      <td>OCLC-VIAF:TEST</td>\n",
       "      <td>VIAF: The Virtual International Authority File</td>\n",
       "    </tr>\n",
       "    <tr>\n",
       "      <th>70</th>\n",
       "      <td>OCLC-NLIara</td>\n",
       "      <td>NLIara</td>\n",
       "    </tr>\n",
       "  </tbody>\n",
       "</table>\n",
       "<p>71 rows × 2 columns</p>\n",
       "</div>"
      ],
      "text/plain": [
       "         agency_id                                        agency_name\n",
       "0      AU-ANL:PEAU  National Library of Australia Party Infrastruc...\n",
       "1         AuCNLKIN                                Libraries Australia\n",
       "2          AU-SAUS                                           AusStage\n",
       "3      AU-ANU:ADBO                 Australian Dictionary of Biography\n",
       "4          AU-AIAS              AIATSIS Aboriginal Biographical Index\n",
       "..             ...                                                ...\n",
       "66        OCLC-JPG                                                JPG\n",
       "67       OCLC-RERO                                               RERO\n",
       "68           TO-DO              The University of Examples, Australia\n",
       "69  OCLC-VIAF:TEST     VIAF: The Virtual International Authority File\n",
       "70     OCLC-NLIara                                             NLIara\n",
       "\n",
       "[71 rows x 2 columns]"
      ]
     },
     "execution_count": 12,
     "metadata": {},
     "output_type": "execute_result"
    }
   ],
   "source": [
    "df_agencies = pd.DataFrame(\n",
    "    [{\"agency_id\": k, \"agency_name\": v} for k, v in agencies.items()]\n",
    ")\n",
    "df_agencies"
   ]
  },
  {
   "cell_type": "markdown",
   "id": "4c4c1dd3-e197-4bcb-9a52-eb4bcd40cc24",
   "metadata": {},
   "source": [
    "## Add agency names to sources data\n",
    "\n",
    "By combining the `agencies` data with the `sources` data we can add the names of agencies supplying the data to the sources list."
   ]
  },
  {
   "cell_type": "code",
   "execution_count": 13,
   "id": "2477bb48-cf2b-4087-a8a1-d72e7131ebf4",
   "metadata": {
    "tags": [
     "nbval-skip"
    ]
   },
   "outputs": [
    {
     "data": {
      "text/html": [
       "<style type=\"text/css\">\n",
       "</style>\n",
       "<table id=\"T_eb182\">\n",
       "  <thead>\n",
       "    <tr>\n",
       "      <th id=\"T_eb182_level0_col0\" class=\"col_heading level0 col0\" >agency_id</th>\n",
       "      <th id=\"T_eb182_level0_col1\" class=\"col_heading level0 col1\" >agency_name</th>\n",
       "      <th id=\"T_eb182_level0_col2\" class=\"col_heading level0 col2\" >total</th>\n",
       "    </tr>\n",
       "  </thead>\n",
       "  <tbody>\n",
       "    <tr>\n",
       "      <td id=\"T_eb182_row0_col0\" class=\"data row0 col0\" >AU-ANL:PEAU</td>\n",
       "      <td id=\"T_eb182_row0_col1\" class=\"data row0 col1\" >National Library of Australia Party Infrastructure</td>\n",
       "      <td id=\"T_eb182_row0_col2\" class=\"data row0 col2\" >1,309,339</td>\n",
       "    </tr>\n",
       "    <tr>\n",
       "      <td id=\"T_eb182_row1_col0\" class=\"data row1 col0\" >AuCNLKIN</td>\n",
       "      <td id=\"T_eb182_row1_col1\" class=\"data row1 col1\" >Libraries Australia</td>\n",
       "      <td id=\"T_eb182_row1_col2\" class=\"data row1 col2\" >998,929</td>\n",
       "    </tr>\n",
       "    <tr>\n",
       "      <td id=\"T_eb182_row2_col0\" class=\"data row2 col0\" >AU-SAUS</td>\n",
       "      <td id=\"T_eb182_row2_col1\" class=\"data row2 col1\" >AusStage</td>\n",
       "      <td id=\"T_eb182_row2_col2\" class=\"data row2 col2\" >173,307</td>\n",
       "    </tr>\n",
       "    <tr>\n",
       "      <td id=\"T_eb182_row3_col0\" class=\"data row3 col0\" >AU-QPRO</td>\n",
       "      <td id=\"T_eb182_row3_col1\" class=\"data row3 col1\" >The Prosecution Project</td>\n",
       "      <td id=\"T_eb182_row3_col2\" class=\"data row3 col2\" >57,214</td>\n",
       "    </tr>\n",
       "    <tr>\n",
       "      <td id=\"T_eb182_row4_col0\" class=\"data row4 col0\" >AU-AIAS</td>\n",
       "      <td id=\"T_eb182_row4_col1\" class=\"data row4 col1\" >AIATSIS Aboriginal Biographical Index</td>\n",
       "      <td id=\"T_eb182_row4_col2\" class=\"data row4 col2\" >48,360</td>\n",
       "    </tr>\n",
       "    <tr>\n",
       "      <td id=\"T_eb182_row5_col0\" class=\"data row5 col0\" >AU-YORCID</td>\n",
       "      <td id=\"T_eb182_row5_col1\" class=\"data row5 col1\" >ORCID</td>\n",
       "      <td id=\"T_eb182_row5_col2\" class=\"data row5 col2\" >24,998</td>\n",
       "    </tr>\n",
       "    <tr>\n",
       "      <td id=\"T_eb182_row6_col0\" class=\"data row6 col0\" >AU-NUN:DAAO</td>\n",
       "      <td id=\"T_eb182_row6_col1\" class=\"data row6 col1\" >Design & Art Australia Online</td>\n",
       "      <td id=\"T_eb182_row6_col2\" class=\"data row6 col2\" >17,003</td>\n",
       "    </tr>\n",
       "    <tr>\n",
       "      <td id=\"T_eb182_row7_col0\" class=\"data row7 col0\" >AU-ANU:ADBO</td>\n",
       "      <td id=\"T_eb182_row7_col1\" class=\"data row7 col1\" >Australian Dictionary of Biography</td>\n",
       "      <td id=\"T_eb182_row7_col2\" class=\"data row7 col2\" >13,433</td>\n",
       "    </tr>\n",
       "    <tr>\n",
       "      <td id=\"T_eb182_row8_col0\" class=\"data row8 col0\" >AU-VU:EOAS</td>\n",
       "      <td id=\"T_eb182_row8_col1\" class=\"data row8 col1\" >Encyclopedia of Australian Science</td>\n",
       "      <td id=\"T_eb182_row8_col2\" class=\"data row8 col2\" >8,259</td>\n",
       "    </tr>\n",
       "    <tr>\n",
       "      <td id=\"T_eb182_row9_col0\" class=\"data row9 col0\" >AU-ANU:OA</td>\n",
       "      <td id=\"T_eb182_row9_col1\" class=\"data row9 col1\" >Obituaries Australia</td>\n",
       "      <td id=\"T_eb182_row9_col2\" class=\"data row9 col2\" >8,115</td>\n",
       "    </tr>\n",
       "    <tr>\n",
       "      <td id=\"T_eb182_row10_col0\" class=\"data row10 col0\" >AU-VU:AWR</td>\n",
       "      <td id=\"T_eb182_row10_col1\" class=\"data row10 col1\" >The Australian Women's Register</td>\n",
       "      <td id=\"T_eb182_row10_col2\" class=\"data row10 col2\" >6,699</td>\n",
       "    </tr>\n",
       "    <tr>\n",
       "      <td id=\"T_eb182_row11_col0\" class=\"data row11 col0\" >AU-VU</td>\n",
       "      <td id=\"T_eb182_row11_col1\" class=\"data row11 col1\" >University of Melbourne</td>\n",
       "      <td id=\"T_eb182_row11_col2\" class=\"data row11 col2\" >2,966</td>\n",
       "    </tr>\n",
       "    <tr>\n",
       "      <td id=\"T_eb182_row12_col0\" class=\"data row12 col0\" >AU-VPRO</td>\n",
       "      <td id=\"T_eb182_row12_col1\" class=\"data row12 col1\" >Public Records Office Victoria</td>\n",
       "      <td id=\"T_eb182_row12_col2\" class=\"data row12 col2\" >2,727</td>\n",
       "    </tr>\n",
       "    <tr>\n",
       "      <td id=\"T_eb182_row13_col0\" class=\"data row13 col0\" >AU-NAMO</td>\n",
       "      <td id=\"T_eb182_row13_col1\" class=\"data row13 col1\" >Australian Music Online</td>\n",
       "      <td id=\"T_eb182_row13_col2\" class=\"data row13 col2\" >2,170</td>\n",
       "    </tr>\n",
       "    <tr>\n",
       "      <td id=\"T_eb182_row14_col0\" class=\"data row14 col0\" >AU-APAR</td>\n",
       "      <td id=\"T_eb182_row14_col1\" class=\"data row14 col1\" >Australian Parliamentary Library</td>\n",
       "      <td id=\"T_eb182_row14_col2\" class=\"data row14 col2\" >1,825</td>\n",
       "    </tr>\n",
       "    <tr>\n",
       "      <td id=\"T_eb182_row15_col0\" class=\"data row15 col0\" >AU-NMUS:CAN</td>\n",
       "      <td id=\"T_eb182_row15_col1\" class=\"data row15 col1\" >Collections Australia Network</td>\n",
       "      <td id=\"T_eb182_row15_col2\" class=\"data row15 col2\" >1,692</td>\n",
       "    </tr>\n",
       "    <tr>\n",
       "      <td id=\"T_eb182_row16_col0\" class=\"data row16 col0\" >AU-QGU</td>\n",
       "      <td id=\"T_eb182_row16_col1\" class=\"data row16 col1\" >Griffith University</td>\n",
       "      <td id=\"T_eb182_row16_col2\" class=\"data row16 col2\" >1,601</td>\n",
       "    </tr>\n",
       "    <tr>\n",
       "      <td id=\"T_eb182_row17_col0\" class=\"data row17 col0\" >AU-NSAL</td>\n",
       "      <td id=\"T_eb182_row17_col1\" class=\"data row17 col1\" >Sydney's Aldermen</td>\n",
       "      <td id=\"T_eb182_row17_col2\" class=\"data row17 col2\" >1,048</td>\n",
       "    </tr>\n",
       "    <tr>\n",
       "      <td id=\"T_eb182_row18_col0\" class=\"data row18 col0\" >AU-APC:WB</td>\n",
       "      <td id=\"T_eb182_row18_col1\" class=\"data row18 col1\" >Australian Paralympic Committee</td>\n",
       "      <td id=\"T_eb182_row18_col2\" class=\"data row18 col2\" >790</td>\n",
       "    </tr>\n",
       "    <tr>\n",
       "      <td id=\"T_eb182_row19_col0\" class=\"data row19 col0\" >AU-NAMC</td>\n",
       "      <td id=\"T_eb182_row19_col1\" class=\"data row19 col1\" >Australian Music Centre</td>\n",
       "      <td id=\"T_eb182_row19_col2\" class=\"data row19 col2\" >601</td>\n",
       "    </tr>\n",
       "    <tr>\n",
       "      <td id=\"T_eb182_row20_col0\" class=\"data row20 col0\" >AU-QJCU</td>\n",
       "      <td id=\"T_eb182_row20_col1\" class=\"data row20 col1\" >James Cook University, Australia</td>\n",
       "      <td id=\"T_eb182_row20_col2\" class=\"data row20 col2\" >457</td>\n",
       "    </tr>\n",
       "    <tr>\n",
       "      <td id=\"T_eb182_row21_col0\" class=\"data row21 col0\" >AU-ANL:MA-DM</td>\n",
       "      <td id=\"T_eb182_row21_col1\" class=\"data row21 col1\" >destra Media</td>\n",
       "      <td id=\"T_eb182_row21_col2\" class=\"data row21 col2\" >410</td>\n",
       "    </tr>\n",
       "    <tr>\n",
       "      <td id=\"T_eb182_row22_col0\" class=\"data row22 col0\" >AU-APAR:S</td>\n",
       "      <td id=\"T_eb182_row22_col1\" class=\"data row22 col1\" >Department of the Senate</td>\n",
       "      <td id=\"T_eb182_row22_col2\" class=\"data row22 col2\" >328</td>\n",
       "    </tr>\n",
       "    <tr>\n",
       "      <td id=\"T_eb182_row23_col0\" class=\"data row23 col0\" >AU-ANL:AD</td>\n",
       "      <td id=\"T_eb182_row23_col1\" class=\"data row23 col1\" >Australia Dancing</td>\n",
       "      <td id=\"T_eb182_row23_col2\" class=\"data row23 col2\" >325</td>\n",
       "    </tr>\n",
       "    <tr>\n",
       "      <td id=\"T_eb182_row24_col0\" class=\"data row24 col0\" >AU-AMG</td>\n",
       "      <td id=\"T_eb182_row24_col1\" class=\"data row24 col1\" >GeoScience Australia</td>\n",
       "      <td id=\"T_eb182_row24_col2\" class=\"data row24 col2\" >260</td>\n",
       "    </tr>\n",
       "    <tr>\n",
       "      <td id=\"T_eb182_row25_col0\" class=\"data row25 col0\" >AU-ANL:MA</td>\n",
       "      <td id=\"T_eb182_row25_col1\" class=\"data row25 col1\" >Music Australia</td>\n",
       "      <td id=\"T_eb182_row25_col2\" class=\"data row25 col2\" >255</td>\n",
       "    </tr>\n",
       "    <tr>\n",
       "      <td id=\"T_eb182_row26_col0\" class=\"data row26 col0\" >AU-QUT</td>\n",
       "      <td id=\"T_eb182_row26_col1\" class=\"data row26 col1\" >Queensland University of Technology</td>\n",
       "      <td id=\"T_eb182_row26_col2\" class=\"data row26 col2\" >202</td>\n",
       "    </tr>\n",
       "    <tr>\n",
       "      <td id=\"T_eb182_row27_col0\" class=\"data row27 col0\" >AU-VANDS</td>\n",
       "      <td id=\"T_eb182_row27_col1\" class=\"data row27 col1\" >Australian Research Institutions</td>\n",
       "      <td id=\"T_eb182_row27_col2\" class=\"data row27 col2\" >199</td>\n",
       "    </tr>\n",
       "    <tr>\n",
       "      <td id=\"T_eb182_row28_col0\" class=\"data row28 col0\" >AU-VDU</td>\n",
       "      <td id=\"T_eb182_row28_col1\" class=\"data row28 col1\" >Deakin University, Australia</td>\n",
       "      <td id=\"T_eb182_row28_col2\" class=\"data row28 col2\" >193</td>\n",
       "    </tr>\n",
       "    <tr>\n",
       "      <td id=\"T_eb182_row29_col0\" class=\"data row29 col0\" >AU-NUWS</td>\n",
       "      <td id=\"T_eb182_row29_col1\" class=\"data row29 col1\" >University of Western Sydney</td>\n",
       "      <td id=\"T_eb182_row29_col2\" class=\"data row29 col2\" >172</td>\n",
       "    </tr>\n",
       "    <tr>\n",
       "      <td id=\"T_eb182_row30_col0\" class=\"data row30 col0\" >AU-NTSM</td>\n",
       "      <td id=\"T_eb182_row30_col1\" class=\"data row30 col1\" >University of Technology, Sydney</td>\n",
       "      <td id=\"T_eb182_row30_col2\" class=\"data row30 col2\" >128</td>\n",
       "    </tr>\n",
       "    <tr>\n",
       "      <td id=\"T_eb182_row31_col0\" class=\"data row31 col0\" >AU-WS:AUS</td>\n",
       "      <td id=\"T_eb182_row31_col1\" class=\"data row31 col1\" >AuScope</td>\n",
       "      <td id=\"T_eb182_row31_col2\" class=\"data row31 col2\" >126</td>\n",
       "    </tr>\n",
       "    <tr>\n",
       "      <td id=\"T_eb182_row32_col0\" class=\"data row32 col0\" >AU-QU</td>\n",
       "      <td id=\"T_eb182_row32_col1\" class=\"data row32 col1\" >The University of Queensland</td>\n",
       "      <td id=\"T_eb182_row32_col2\" class=\"data row32 col2\" >117</td>\n",
       "    </tr>\n",
       "    <tr>\n",
       "      <td id=\"T_eb182_row33_col0\" class=\"data row33 col0\" >AU-SFU:PDM</td>\n",
       "      <td id=\"T_eb182_row33_col1\" class=\"data row33 col1\" >Flinders University</td>\n",
       "      <td id=\"T_eb182_row33_col2\" class=\"data row33 col2\" >116</td>\n",
       "    </tr>\n",
       "    <tr>\n",
       "      <td id=\"T_eb182_row34_col0\" class=\"data row34 col0\" >AU-NWU</td>\n",
       "      <td id=\"T_eb182_row34_col1\" class=\"data row34 col1\" >University of Wollongong</td>\n",
       "      <td id=\"T_eb182_row34_col2\" class=\"data row34 col2\" >114</td>\n",
       "    </tr>\n",
       "    <tr>\n",
       "      <td id=\"T_eb182_row35_col0\" class=\"data row35 col0\" >AU-SUSA</td>\n",
       "      <td id=\"T_eb182_row35_col1\" class=\"data row35 col1\" >University of South Australia</td>\n",
       "      <td id=\"T_eb182_row35_col2\" class=\"data row35 col2\" >94</td>\n",
       "    </tr>\n",
       "    <tr>\n",
       "      <td id=\"T_eb182_row36_col0\" class=\"data row36 col0\" >AU-VASD</td>\n",
       "      <td id=\"T_eb182_row36_col1\" class=\"data row36 col1\" >Australian Sound Design</td>\n",
       "      <td id=\"T_eb182_row36_col2\" class=\"data row36 col2\" >94</td>\n",
       "    </tr>\n",
       "    <tr>\n",
       "      <td id=\"T_eb182_row37_col0\" class=\"data row37 col0\" >AU-VSWT</td>\n",
       "      <td id=\"T_eb182_row37_col1\" class=\"data row37 col1\" >Swinburne University of Technology</td>\n",
       "      <td id=\"T_eb182_row37_col2\" class=\"data row37 col2\" >90</td>\n",
       "    </tr>\n",
       "    <tr>\n",
       "      <td id=\"T_eb182_row38_col0\" class=\"data row38 col0\" >AU-TU</td>\n",
       "      <td id=\"T_eb182_row38_col1\" class=\"data row38 col1\" >University of Tasmania, Australia</td>\n",
       "      <td id=\"T_eb182_row38_col2\" class=\"data row38 col2\" >76</td>\n",
       "    </tr>\n",
       "    <tr>\n",
       "      <td id=\"T_eb182_row39_col0\" class=\"data row39 col0\" >AU-QUT:GP</td>\n",
       "      <td id=\"T_eb182_row39_col1\" class=\"data row39 col1\" >Queensland University of Technology</td>\n",
       "      <td id=\"T_eb182_row39_col2\" class=\"data row39 col2\" >55</td>\n",
       "    </tr>\n",
       "    <tr>\n",
       "      <td id=\"T_eb182_row40_col0\" class=\"data row40 col0\" >AU-VLU</td>\n",
       "      <td id=\"T_eb182_row40_col1\" class=\"data row40 col1\" >La Trobe University</td>\n",
       "      <td id=\"T_eb182_row40_col2\" class=\"data row40 col2\" >49</td>\n",
       "    </tr>\n",
       "    <tr>\n",
       "      <td id=\"T_eb182_row41_col0\" class=\"data row41 col0\" >AU-NU</td>\n",
       "      <td id=\"T_eb182_row41_col1\" class=\"data row41 col1\" >The University of Sydney, Australia</td>\n",
       "      <td id=\"T_eb182_row41_col2\" class=\"data row41 col2\" >40</td>\n",
       "    </tr>\n",
       "    <tr>\n",
       "      <td id=\"T_eb182_row42_col0\" class=\"data row42 col0\" >AU-WU</td>\n",
       "      <td id=\"T_eb182_row42_col1\" class=\"data row42 col1\" >The University of Western Australia</td>\n",
       "      <td id=\"T_eb182_row42_col2\" class=\"data row42 col2\" >39</td>\n",
       "    </tr>\n",
       "    <tr>\n",
       "      <td id=\"T_eb182_row43_col0\" class=\"data row43 col0\" >AU-NNCU</td>\n",
       "      <td id=\"T_eb182_row43_col1\" class=\"data row43 col1\" >University of Newcastle</td>\n",
       "      <td id=\"T_eb182_row43_col2\" class=\"data row43 col2\" >37</td>\n",
       "    </tr>\n",
       "    <tr>\n",
       "      <td id=\"T_eb182_row44_col0\" class=\"data row44 col0\" >AU-SUA</td>\n",
       "      <td id=\"T_eb182_row44_col1\" class=\"data row44 col1\" >The University of Adelaide</td>\n",
       "      <td id=\"T_eb182_row44_col2\" class=\"data row44 col2\" >35</td>\n",
       "    </tr>\n",
       "    <tr>\n",
       "      <td id=\"T_eb182_row45_col0\" class=\"data row45 col0\" >OCLC-VIAF</td>\n",
       "      <td id=\"T_eb182_row45_col1\" class=\"data row45 col1\" >AIATSIS Aboriginal Biographical Index</td>\n",
       "      <td id=\"T_eb182_row45_col2\" class=\"data row45 col2\" >21</td>\n",
       "    </tr>\n",
       "    <tr>\n",
       "      <td id=\"T_eb182_row46_col0\" class=\"data row46 col0\" >AU-NMQU</td>\n",
       "      <td id=\"T_eb182_row46_col1\" class=\"data row46 col1\" >Macquarie University, Australia</td>\n",
       "      <td id=\"T_eb182_row46_col2\" class=\"data row46 col2\" >18</td>\n",
       "    </tr>\n",
       "    <tr>\n",
       "      <td id=\"T_eb182_row47_col0\" class=\"data row47 col0\" >OCLC-NLA</td>\n",
       "      <td id=\"T_eb182_row47_col1\" class=\"data row47 col1\" >NLA</td>\n",
       "      <td id=\"T_eb182_row47_col2\" class=\"data row47 col2\" >14</td>\n",
       "    </tr>\n",
       "    <tr>\n",
       "      <td id=\"T_eb182_row48_col0\" class=\"data row48 col0\" >OCLC-LC</td>\n",
       "      <td id=\"T_eb182_row48_col1\" class=\"data row48 col1\" >LC</td>\n",
       "      <td id=\"T_eb182_row48_col2\" class=\"data row48 col2\" >13</td>\n",
       "    </tr>\n",
       "    <tr>\n",
       "      <td id=\"T_eb182_row49_col0\" class=\"data row49 col0\" >AU-ANU</td>\n",
       "      <td id=\"T_eb182_row49_col1\" class=\"data row49 col1\" >Australian National University</td>\n",
       "      <td id=\"T_eb182_row49_col2\" class=\"data row49 col2\" >9</td>\n",
       "    </tr>\n",
       "    <tr>\n",
       "      <td id=\"T_eb182_row50_col0\" class=\"data row50 col0\" >OCLC-BNF</td>\n",
       "      <td id=\"T_eb182_row50_col1\" class=\"data row50 col1\" >BNF</td>\n",
       "      <td id=\"T_eb182_row50_col2\" class=\"data row50 col2\" >8</td>\n",
       "    </tr>\n",
       "    <tr>\n",
       "      <td id=\"T_eb182_row51_col0\" class=\"data row51 col0\" >AU-VAFI</td>\n",
       "      <td id=\"T_eb182_row51_col1\" class=\"data row51 col1\" >RMIT University</td>\n",
       "      <td id=\"T_eb182_row51_col2\" class=\"data row51 col2\" >8</td>\n",
       "    </tr>\n",
       "    <tr>\n",
       "      <td id=\"T_eb182_row52_col0\" class=\"data row52 col0\" >OCLC-DNB</td>\n",
       "      <td id=\"T_eb182_row52_col1\" class=\"data row52 col1\" >DNB</td>\n",
       "      <td id=\"T_eb182_row52_col2\" class=\"data row52 col2\" >8</td>\n",
       "    </tr>\n",
       "    <tr>\n",
       "      <td id=\"T_eb182_row53_col0\" class=\"data row53 col0\" >AU-ANL:PO</td>\n",
       "      <td id=\"T_eb182_row53_col1\" class=\"data row53 col1\" >National Library of Australia People and Organisations</td>\n",
       "      <td id=\"T_eb182_row53_col2\" class=\"data row53 col2\" >5</td>\n",
       "    </tr>\n",
       "    <tr>\n",
       "      <td id=\"T_eb182_row54_col0\" class=\"data row54 col0\" >OCLC-BNE</td>\n",
       "      <td id=\"T_eb182_row54_col1\" class=\"data row54 col1\" >BNE</td>\n",
       "      <td id=\"T_eb182_row54_col2\" class=\"data row54 col2\" >5</td>\n",
       "    </tr>\n",
       "    <tr>\n",
       "      <td id=\"T_eb182_row55_col0\" class=\"data row55 col0\" >OCLC-NKC</td>\n",
       "      <td id=\"T_eb182_row55_col1\" class=\"data row55 col1\" >NKC</td>\n",
       "      <td id=\"T_eb182_row55_col2\" class=\"data row55 col2\" >4</td>\n",
       "    </tr>\n",
       "    <tr>\n",
       "      <td id=\"T_eb182_row56_col0\" class=\"data row56 col0\" >OCLC-JPG</td>\n",
       "      <td id=\"T_eb182_row56_col1\" class=\"data row56 col1\" >JPG</td>\n",
       "      <td id=\"T_eb182_row56_col2\" class=\"data row56 col2\" >3</td>\n",
       "    </tr>\n",
       "    <tr>\n",
       "      <td id=\"T_eb182_row57_col0\" class=\"data row57 col0\" >OCLC-NUKAT</td>\n",
       "      <td id=\"T_eb182_row57_col1\" class=\"data row57 col1\" >NUKAT</td>\n",
       "      <td id=\"T_eb182_row57_col2\" class=\"data row57 col2\" >3</td>\n",
       "    </tr>\n",
       "    <tr>\n",
       "      <td id=\"T_eb182_row58_col0\" class=\"data row58 col0\" >OCLC-VIAF:TEST</td>\n",
       "      <td id=\"T_eb182_row58_col1\" class=\"data row58 col1\" >VIAF: The Virtual International Authority File</td>\n",
       "      <td id=\"T_eb182_row58_col2\" class=\"data row58 col2\" >3</td>\n",
       "    </tr>\n",
       "    <tr>\n",
       "      <td id=\"T_eb182_row59_col0\" class=\"data row59 col0\" >OCLC-RERO</td>\n",
       "      <td id=\"T_eb182_row59_col1\" class=\"data row59 col1\" >RERO</td>\n",
       "      <td id=\"T_eb182_row59_col2\" class=\"data row59 col2\" >2</td>\n",
       "    </tr>\n",
       "    <tr>\n",
       "      <td id=\"T_eb182_row60_col0\" class=\"data row60 col0\" >TO-DO</td>\n",
       "      <td id=\"T_eb182_row60_col1\" class=\"data row60 col1\" >The University of Examples, Australia</td>\n",
       "      <td id=\"T_eb182_row60_col2\" class=\"data row60 col2\" >2</td>\n",
       "    </tr>\n",
       "    <tr>\n",
       "      <td id=\"T_eb182_row61_col0\" class=\"data row61 col0\" >OCLC-EGAXA</td>\n",
       "      <td id=\"T_eb182_row61_col1\" class=\"data row61 col1\" >EGAXA</td>\n",
       "      <td id=\"T_eb182_row61_col2\" class=\"data row61 col2\" >2</td>\n",
       "    </tr>\n",
       "    <tr>\n",
       "      <td id=\"T_eb182_row62_col0\" class=\"data row62 col0\" >OCLC-NLIlat</td>\n",
       "      <td id=\"T_eb182_row62_col1\" class=\"data row62 col1\" >NLIlat</td>\n",
       "      <td id=\"T_eb182_row62_col2\" class=\"data row62 col2\" >2</td>\n",
       "    </tr>\n",
       "    <tr>\n",
       "      <td id=\"T_eb182_row63_col0\" class=\"data row63 col0\" >AU-NUNE</td>\n",
       "      <td id=\"T_eb182_row63_col1\" class=\"data row63 col1\" >The University of New England</td>\n",
       "      <td id=\"T_eb182_row63_col2\" class=\"data row63 col2\" >2</td>\n",
       "    </tr>\n",
       "    <tr>\n",
       "      <td id=\"T_eb182_row64_col0\" class=\"data row64 col0\" >OCLC-LAC</td>\n",
       "      <td id=\"T_eb182_row64_col1\" class=\"data row64 col1\" >LAC</td>\n",
       "      <td id=\"T_eb182_row64_col2\" class=\"data row64 col2\" >2</td>\n",
       "    </tr>\n",
       "    <tr>\n",
       "      <td id=\"T_eb182_row65_col0\" class=\"data row65 col0\" >OCLC-PTBNP</td>\n",
       "      <td id=\"T_eb182_row65_col1\" class=\"data row65 col1\" >PTBNP</td>\n",
       "      <td id=\"T_eb182_row65_col2\" class=\"data row65 col2\" >2</td>\n",
       "    </tr>\n",
       "    <tr>\n",
       "      <td id=\"T_eb182_row66_col0\" class=\"data row66 col0\" >OCLC-BAV</td>\n",
       "      <td id=\"T_eb182_row66_col1\" class=\"data row66 col1\" >BAV</td>\n",
       "      <td id=\"T_eb182_row66_col2\" class=\"data row66 col2\" >1</td>\n",
       "    </tr>\n",
       "    <tr>\n",
       "      <td id=\"T_eb182_row67_col0\" class=\"data row67 col0\" >OCLC-SUDOC</td>\n",
       "      <td id=\"T_eb182_row67_col1\" class=\"data row67 col1\" >SUDOC</td>\n",
       "      <td id=\"T_eb182_row67_col2\" class=\"data row67 col2\" >1</td>\n",
       "    </tr>\n",
       "    <tr>\n",
       "      <td id=\"T_eb182_row68_col0\" class=\"data row68 col0\" >OCLC-SELIBR</td>\n",
       "      <td id=\"T_eb182_row68_col1\" class=\"data row68 col1\" >SELIBR</td>\n",
       "      <td id=\"T_eb182_row68_col2\" class=\"data row68 col2\" >1</td>\n",
       "    </tr>\n",
       "    <tr>\n",
       "      <td id=\"T_eb182_row69_col0\" class=\"data row69 col0\" >OCLC-NLIara</td>\n",
       "      <td id=\"T_eb182_row69_col1\" class=\"data row69 col1\" >NLIara</td>\n",
       "      <td id=\"T_eb182_row69_col2\" class=\"data row69 col2\" >1</td>\n",
       "    </tr>\n",
       "  </tbody>\n",
       "</table>\n"
      ],
      "text/plain": [
       "<pandas.io.formats.style.Styler at 0x7f45c11ffb20>"
      ]
     },
     "execution_count": 13,
     "metadata": {},
     "output_type": "execute_result"
    }
   ],
   "source": [
    "df_sources = pd.merge(df_sources, df_agencies, how=\"inner\", on=\"agency_id\")\n",
    "df_sources = df_sources[[\"agency_id\", \"agency_name\", \"total\"]]\n",
    "df_sources.sort_values(\"total\", ascending=False).style.hide().format(thousands=\",\")"
   ]
  },
  {
   "cell_type": "markdown",
   "id": "4fc7b4f6-5113-4064-a7a7-5fd7d0fc7594",
   "metadata": {},
   "source": [
    "## Save extracted data"
   ]
  },
  {
   "cell_type": "code",
   "execution_count": 14,
   "id": "a68f5eb9-78c1-403c-8ee7-1cdfe4d0aad4",
   "metadata": {
    "tags": [
     "nbval-skip"
    ]
   },
   "outputs": [],
   "source": [
    "df_sources.to_csv(\"peau_sources.csv\", index=False)\n",
    "df_source_groups.to_csv(\"peau_source_groups.csv\", index=False)\n",
    "df_occupations.to_csv(\"peau_occupations.csv\", index=False)\n",
    "df_types.to_csv(\"peau_types.csv\", index=False)"
   ]
  },
  {
   "cell_type": "code",
   "execution_count": 15,
   "id": "907590f5-1181-47d8-829f-09c2a40a3a4c",
   "metadata": {
    "tags": [
     "nbval-skip"
    ]
   },
   "outputs": [],
   "source": [
    "with Path(\"peau_ids.txt\").open(\"w\") as txt_file:\n",
    "    for rid in recordids:\n",
    "        txt_file.write(f\"{rid}\\n\")"
   ]
  },
  {
   "cell_type": "code",
   "execution_count": 16,
   "id": "c2e1001a-d73f-4e95-98a3-4e0b1980c17d",
   "metadata": {
    "tags": [
     "nbval-skip"
    ]
   },
   "outputs": [],
   "source": [
    "with open(\"peau_agencies.json\", \"w\") as json_file:\n",
    "    json.dump(agencies, json_file)"
   ]
  },
  {
   "cell_type": "markdown",
   "id": "633f7273-4d9c-4688-9d8e-beb13dfa326b",
   "metadata": {},
   "source": [
    "----\n",
    "\n",
    "Created by [Tim Sherratt](http://timsherratt.org/) for the [GLAM Workbench](https://glam-workbench.net/).\n",
    "\n",
    "The development of this notebook was supported by the [Australian Cultural Data Engine](https://www.acd-engine.org/)."
   ]
  }
 ],
 "metadata": {
  "kernelspec": {
   "display_name": "Python 3 (ipykernel)",
   "language": "python",
   "name": "python3"
  },
  "language_info": {
   "codemirror_mode": {
    "name": "ipython",
    "version": 3
   },
   "file_extension": ".py",
   "mimetype": "text/x-python",
   "name": "python",
   "nbconvert_exporter": "python",
   "pygments_lexer": "ipython3",
   "version": "3.8.12"
  },
  "widgets": {
   "application/vnd.jupyter.widget-state+json": {
    "state": {},
    "version_major": 2,
    "version_minor": 0
   }
  }
 },
 "nbformat": 4,
 "nbformat_minor": 5
}
