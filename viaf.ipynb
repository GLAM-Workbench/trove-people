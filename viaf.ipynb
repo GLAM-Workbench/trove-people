{
 "cells": [
  {
   "cell_type": "markdown",
   "id": "0c78e9f2-41a3-4e8e-9191-a2337adc748a",
   "metadata": {},
   "source": [
    "# Get VIAF links relating to Trove People & Organisation records\n",
    "\n",
    "VIAF, the Virtual International Authority File, aggregates identifiers for people and organisations from a wide range of name authority systems, including Libraries Australia. Many records in Trove's People & Organisations zone have Libraries Australia identifiers attached to them. Using these LA identifers it's possible to query VIAF for links related to a Trove record in other name authority systems."
   ]
  },
  {
   "cell_type": "code",
   "execution_count": 2,
   "id": "a2c46542-cd78-4833-b0a4-189c7d6e9ed2",
   "metadata": {},
   "outputs": [],
   "source": [
    "from urllib.parse import urlparse\n",
    "\n",
    "import requests"
   ]
  },
  {
   "cell_type": "code",
   "execution_count": 3,
   "id": "4409a2ba-880d-4fe4-8b6d-b7a8eeef5690",
   "metadata": {},
   "outputs": [],
   "source": [
    "def get_viaf_links(la_id):\n",
    "    \"\"\"\n",
    "    Get VIAF links to entity control systems using a Libraries Australia identifier.\n",
    "    \"\"\"\n",
    "    viaf_cluster = f\"https://viaf.org/viaf/sourceID/NLA%7C{la_id.zfill(12)}\"\n",
    "    # print(viaf_cluster)\n",
    "    # When we request the cluster url we're redirected to the VIAF record\n",
    "    r = requests.get(viaf_cluster)\n",
    "    path = urlparse(r.url).path.strip(\"/\")\n",
    "    viaf_id = path.split(\"/\")[-1]\n",
    "    links_url = f\"https://viaf.org/viaf/{viaf_id}/justlinks.json\"\n",
    "    r = requests.get(links_url)\n",
    "    return r.json()"
   ]
  },
  {
   "cell_type": "markdown",
   "id": "b9107380-8785-4e33-ae25-b694dffa94ae",
   "metadata": {},
   "source": [
    "The Libraries Australian persistent identifier for Clement Wragge is: http://nla.gov.au/anbd.aut-an36051518. So the LA id is `36051518`."
   ]
  },
  {
   "cell_type": "code",
   "execution_count": 5,
   "id": "ca519883-e73d-48f6-84c6-16e0d0941c0c",
   "metadata": {},
   "outputs": [
    {
     "data": {
      "text/plain": [
       "{'viafID': '73513973',\n",
       " 'BNF': ['FRBNF105977951'],\n",
       " 'ISNI': ['0000000064057488'],\n",
       " 'LC': ['no2002003249'],\n",
       " 'NLA': ['000036051518'],\n",
       " 'SUDOC': ['166107336'],\n",
       " 'WKP': ['Q3680435'],\n",
       " 'Identities': ['https://www.worldcat.org/identities/lccn-no2002003249'],\n",
       " 'Wikipedia': ['https://en.wikipedia.org/wiki/Clement_Lindley_Wragge',\n",
       "  'https://es.wikipedia.org/wiki/Clement_Lindley_Wragge',\n",
       "  'https://it.wikipedia.org/wiki/Clement_Lindley_Wragge',\n",
       "  'https://pt.wikipedia.org/wiki/Clement_Lindley_Wragge']}"
      ]
     },
     "execution_count": 5,
     "metadata": {},
     "output_type": "execute_result"
    }
   ],
   "source": [
    "get_viaf_links(\"36051518\")"
   ]
  },
  {
   "cell_type": "markdown",
   "id": "5126a2bc-8ef9-4005-9d07-513a28acd56e",
   "metadata": {},
   "source": [
    "----\n",
    "\n",
    "Created by [Tim Sherratt](http://timsherratt.org/) for the [GLAM Workbench](https://glam-workbench.net/).\n",
    "\n",
    "The development of this notebook was supported by the [Australian Cultural Data Engine](https://www.acd-engine.org/)."
   ]
  }
 ],
 "metadata": {
  "kernelspec": {
   "display_name": "Python 3.8.12 64-bit ('3.8.12')",
   "language": "python",
   "name": "python3"
  },
  "language_info": {
   "codemirror_mode": {
    "name": "ipython",
    "version": 3
   },
   "file_extension": ".py",
   "mimetype": "text/x-python",
   "name": "python",
   "nbconvert_exporter": "python",
   "pygments_lexer": "ipython3",
   "version": "3.8.12"
  },
  "vscode": {
   "interpreter": {
    "hash": "f54aba2de7a75230217f549a064c6555500d2132634fbcab9606dbfda34a2a1b"
   }
  },
  "widgets": {
   "application/vnd.jupyter.widget-state+json": {
    "state": {},
    "version_major": 2,
    "version_minor": 0
   }
  }
 },
 "nbformat": 4,
 "nbformat_minor": 5
}
